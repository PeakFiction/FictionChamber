{
 "cells": [
  {
   "cell_type": "code",
   "execution_count": 1,
   "metadata": {},
   "outputs": [
    {
     "name": "stdout",
     "output_type": "stream",
     "text": [
      "125\n"
     ]
    }
   ],
   "source": [
    "# Question 1\n",
    "\n",
    "outFile = open(\"ws04_2019.txt\", 'w')\n",
    "print(23, file=outFile)\n",
    "print(117, file=outFile)\n",
    "print(-15, file=outFile)\n",
    "outFile.close()\n",
    "inFile = open(\"ws04_2019.txt\", 'r')\n",
    "var = 0\n",
    "for line in inFile:\n",
    "    var += int(line.strip())\n",
    "inFile.close()\n",
    "print(var)"
   ]
  },
  {
   "cell_type": "code",
   "execution_count": 2,
   "metadata": {},
   "outputs": [
    {
     "name": "stdout",
     "output_type": "stream",
     "text": [
      "['ua', 'ad', 'ai', 'tpe']\n",
      "d\n",
      "list2: [1, 2, 10, 0, [41, 5]]\n",
      "list3: [30, 20, 3, 0, [41, 5]]\n"
     ]
    }
   ],
   "source": [
    "# Question 2\n",
    "\n",
    "lst = ['satu', '\\x64\\x75\\x61', 'tiga', 'empat']\n",
    "lst2 = [kata[::-2] for kata in lst]\n",
    "print(lst2)\n",
    "print(lst[1][:1])\n",
    "\n",
    "list1 = [30, 20, 10 , 0, [41,42]]\n",
    "list2 = list1\n",
    "list3 = list2[:]\n",
    "list1[0] = 1\n",
    "list2[1] = 2\n",
    "list3[2] = 3\n",
    "list3[-1][1] = 5\n",
    "print(\"list2:\", list2)\n",
    "print(\"list3:\", list3)"
   ]
  },
  {
   "cell_type": "code",
   "execution_count": 3,
   "metadata": {},
   "outputs": [
    {
     "name": "stdout",
     "output_type": "stream",
     "text": [
      "[5, 16, 8, 4, 2, 1]\n"
     ]
    }
   ],
   "source": [
    "# Question 3\n",
    "def syr(x):\n",
    "    lst = [x]\n",
    "    while x > 1:\n",
    "        if x%2 == 0:\n",
    "            x = x//2\n",
    "            lst.append(x)\n",
    "        else:\n",
    "            x = 3*x + 1\n",
    "            lst.append(x)\n",
    "    return lst\n",
    "\n",
    "print(syr(5))"
   ]
  },
  {
   "cell_type": "code",
   "execution_count": 4,
   "metadata": {},
   "outputs": [
    {
     "name": "stdout",
     "output_type": "stream",
     "text": [
      "[0, 8, 64, 216, 512, 1000, 1728, 2744, 4096, 5832, 8000, 10648, 13824, 17576, 21952, 27000, 32768, 39304, 46656, 54872, 64000, 74088, 85184, 97336, 110592]\n"
     ]
    }
   ],
   "source": [
    "# Question 4\n",
    "even_cubes = [x**3 for x in range(50) if x%2 == 0]\n",
    "print(even_cubes) "
   ]
  },
  {
   "cell_type": "code",
   "execution_count": 5,
   "metadata": {},
   "outputs": [
    {
     "name": "stdout",
     "output_type": "stream",
     "text": [
      "6\n"
     ]
    }
   ],
   "source": [
    "# Question 5\n",
    "\n",
    "def sumDigit(L):\n",
    "    if L < 10:\n",
    "        return L\n",
    "    else:\n",
    "        return L%10 + sumDigit(L//10)\n",
    "\n",
    "print(sumDigit(123))"
   ]
  },
  {
   "cell_type": "code",
   "execution_count": 6,
   "metadata": {},
   "outputs": [
    {
     "name": "stdout",
     "output_type": "stream",
     "text": [
      "6\n"
     ]
    }
   ],
   "source": [
    "# Question 6\n",
    "\n",
    "def sumDigit(L):\n",
    "    if L < 10:\n",
    "        return L\n",
    "    else:\n",
    "       return sumDigit(L%10 + sumDigit(L//10))\n",
    "       \n",
    "print(sumDigit(31209))"
   ]
  },
  {
   "cell_type": "code",
   "execution_count": 7,
   "metadata": {},
   "outputs": [
    {
     "name": "stdout",
     "output_type": "stream",
     "text": [
      "[['hello', 5], ['wow', 3], ['hei', 3]]\n"
     ]
    }
   ],
   "source": [
    "# Question 7\n",
    "\n",
    "def wordLengths(L):\n",
    "    newSet = {(x, len(x)) for x in L}\n",
    "    lst = [list(i) for i in newSet]\n",
    "    return lst\n",
    "\n",
    "print(wordLengths(['hei', 'hello', 'wow', 'wow']))\n"
   ]
  },
  {
   "cell_type": "code",
   "execution_count": 8,
   "metadata": {},
   "outputs": [
    {
     "name": "stdout",
     "output_type": "stream",
     "text": [
      "[5, 4, 15, 8, 25, 12, 35, 16, 45, 20]\n"
     ]
    }
   ],
   "source": [
    "# Question 8\n",
    "lst = [2*i if i%2==0 else 5*i for i in range(1,11)]\n",
    "print(lst)"
   ]
  },
  {
   "cell_type": "code",
   "execution_count": 9,
   "metadata": {},
   "outputs": [
    {
     "name": "stdout",
     "output_type": "stream",
     "text": [
      "In myFunction:\n",
      "before exchange: 12 25\n",
      "after exchange: 25 12\n",
      "In main: 12 25\n",
      "In myFunction:\n",
      "before exchange: 12 50\n",
      "after exchange: 50 12\n",
      "In main: 12 25\n",
      "In myFunction:\n",
      "before exchange: 0 50\n",
      "after exchange: 50 0\n",
      "In main: 12 25\n",
      "In myFunction:\n",
      "before exchange: 25 12\n",
      "after exchange: 12 25\n",
      "In main 12 25\n",
      "In myFunction:\n",
      "before exchange: 2 3\n",
      "after exchange: 3 2\n",
      "In myFunction:\n",
      "before exchange: (2, 3) 50\n",
      "after exchange: 50 (2, 3)\n"
     ]
    }
   ],
   "source": [
    "# Question 9\n",
    "\n",
    "def myFunction(num1=0, num2=50):\n",
    "    print(\"In myFunction:\")\n",
    "    print(\"before exchange:\", num1, num2)\n",
    "    num1, num2 = num2, num1\n",
    "    print(\"after exchange:\", num1, num2)\n",
    "    \n",
    "def main():\n",
    "    num1 = 12\n",
    "    num2 = 25\n",
    "    myFunction(num1, num2)\n",
    "    print(\"In main:\", num1, num2)\n",
    "    myFunction(num1)\n",
    "    print(\"In main:\", num1, num2)\n",
    "    myFunction()\n",
    "    print(\"In main:\", num1, num2)\n",
    "    myFunction(num2=num1, num1=num2)\n",
    "    print(\"In main\", num1, num2)\n",
    "    x = (2,3)\n",
    "    myFunction(*x)\n",
    "    myFunction(x)\n",
    "    \n",
    "main()"
   ]
  },
  {
   "cell_type": "code",
   "execution_count": 10,
   "metadata": {},
   "outputs": [
    {
     "name": "stdout",
     "output_type": "stream",
     "text": [
      "[]\n",
      "[11, 12]\n",
      "23\n",
      "0\n"
     ]
    }
   ],
   "source": [
    "# Question 10\n",
    "\n",
    "class MyClass(object):\n",
    "    def __init__(self):\n",
    "        self.local_list = []\n",
    "        self.sum_int = 0\n",
    "    def method1(self, param):\n",
    "        for element in param:\n",
    "            if element > 10:\n",
    "                self.local_list.append(element)\n",
    "    def method2(self):\n",
    "        for element in self.local_list:\n",
    "            self.sum_int += element\n",
    "        return self.sum_int\n",
    "\n",
    "inst1 = MyClass()\n",
    "inst2 = MyClass()\n",
    "inst1.method1([1,2,3])\n",
    "print(inst1.local_list)\n",
    "inst1.method1([10, 11, 12])\n",
    "print(inst1.local_list)\n",
    "print(inst1.method2())\n",
    "x = inst2.method2()\n",
    "print(x)\n",
    "        "
   ]
  },
  {
   "cell_type": "code",
   "execution_count": 11,
   "metadata": {},
   "outputs": [
    {
     "name": "stdout",
     "output_type": "stream",
     "text": [
      "Calling __init__\n",
      "Calling __init__\n",
      "Calling __init__\n",
      "Calling __str__\n",
      "Value 4 is even\n",
      "even\n",
      "odd\n",
      "odd\n",
      "negative\n"
     ]
    }
   ],
   "source": [
    "# Question 11\n",
    "\n",
    "class NewClass(object):\n",
    "    def __init__(self, param_int=1):\n",
    "        print(\"Calling __init__\")\n",
    "        self.the_int = param_int\n",
    "        if param_int%2==0:\n",
    "            self.parity='even'\n",
    "        else:\n",
    "            self.parity='odd'\n",
    "            \n",
    "    def process(self, instance):\n",
    "        sum_int = self.the_int + instance.the_int\n",
    "        if sum_int < 0:\n",
    "            return 'negative'\n",
    "        elif sum_int%2 == 0:\n",
    "            return 'even'\n",
    "        else:\n",
    "            return 'odd'\n",
    "        \n",
    "    def __str__(self):\n",
    "        print(\"Calling __str__\")\n",
    "        return \"Value {} is {}\".format(self.the_int,self.parity)\n",
    "    \n",
    "inst1 = NewClass(4)\n",
    "inst2 = NewClass(-3)\n",
    "inst3 = NewClass()\n",
    "print(inst1)\n",
    "print(inst1.parity)\n",
    "print(inst2.parity)\n",
    "print(inst1.process(inst2))\n",
    "print(inst3.process(inst2))\n",
    "        \n",
    "        "
   ]
  },
  {
   "cell_type": "code",
   "execution_count": null,
   "metadata": {},
   "outputs": [],
   "source": [
    "# Question 12\n",
    "\n",
    "from tkinter import *\n",
    "\n",
    "class Counter(object):\n",
    "    \n",
    "    def __init__(self):\n",
    "        window = Tk()\n",
    "        window.title(\"Counter Application\")\n",
    "        self.count=0\n",
    "        \n",
    "        self.num = Label(window, text=\"0\")\n",
    "        self.num.pack()\n",
    "        incBtn = Button(window, text=\"increment\", bg=\"yellow\", font=\"Helvetica 10 bold\", command=self.increment)\n",
    "        incBtn.pack()\n",
    "        decBtn = Button(window, text=\"decerement\", bg=\"red\", font=\"Helvetica 10 bold\", command=self.decrement)\n",
    "        decBtn.pack()\n",
    "        reset = Button(window, text=\"reset\", bg=\"green\", font=\"Helvetica 10 bold\", command=self.reset)\n",
    "        reset.pack()\n",
    "        window.mainloop()\n",
    "        \n",
    "    def increment(self):\n",
    "        self.count+=1\n",
    "        self.num['text'] = self.count\n",
    "        \n",
    "    def decrement(self):\n",
    "        self.count-=1\n",
    "        self.num['text'] = self.count\n",
    "    \n",
    "    def reset(self):\n",
    "        self.count=0\n",
    "        self.num['text'] = self.count\n",
    "        \n",
    "    \n",
    "\n",
    "Counter()"
   ]
  }
 ],
 "metadata": {
  "kernelspec": {
   "display_name": "Python 3.10.6 64-bit",
   "language": "python",
   "name": "python3"
  },
  "language_info": {
   "codemirror_mode": {
    "name": "ipython",
    "version": 3
   },
   "file_extension": ".py",
   "mimetype": "text/x-python",
   "name": "python",
   "nbconvert_exporter": "python",
   "pygments_lexer": "ipython3",
   "version": "3.10.6"
  },
  "orig_nbformat": 4,
  "vscode": {
   "interpreter": {
    "hash": "aee8b7b246df8f9039afb4144a1f6fd8d2ca17a180786b69acc140d282b71a49"
   }
  }
 },
 "nbformat": 4,
 "nbformat_minor": 2
}
