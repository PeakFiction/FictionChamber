{
 "cells": [
  {
   "cell_type": "code",
   "execution_count": 1,
   "metadata": {},
   "outputs": [
    {
     "name": "stdout",
     "output_type": "stream",
     "text": [
      "called __init__\n",
      "called __str__\n",
      "(0.00, 0.00)\n",
      "called __init__\n",
      "called __str__\n",
      "(3.00, 4.00)\n",
      "p1.pointCount: 101\n",
      "p2.pointCount: 101\n",
      "pointCount: 3\n",
      "called __str__\n",
      "called __str__\n",
      "The distance between (0.00, 0.00) and (3.00, 4.00) is 5.000\n",
      "True\n"
     ]
    }
   ],
   "source": [
    "#WS5, No 1\n",
    "#scope.py: scope rule\n",
    "import math\n",
    "# a Point is a Cartesion point (x, y)\n",
    "# all values are float unless otherwise stated\n",
    "class Point(object):\n",
    "    pointCount = 100 # class variable\n",
    "    def __init__ (self, x_param = 0.0, y_param = 0.0):\n",
    "        ''' Create x and y attributes. Defaults are 0.0 '''\n",
    "        print(\"called __init__\")\n",
    "        global pointCount\n",
    "        pointCount += 1\n",
    "        self.x = x_param\n",
    "        self.y = y_param\n",
    "        self.pointCount += 1\n",
    "    def distance (self,param_pt):\n",
    "        \"\"\" Distance between self and a Point \"\"\"\n",
    "        x_diff = self.x - param_pt.x # (x1 − x2)\n",
    "        y_diff = self.y - param_pt.y # (y1 − y2 )\n",
    "        return math.sqrt(x_diff**2 + y_diff**2)\n",
    "    def __str__(self):\n",
    "        \"\"\"Print as a coordinate pair. \"\"\"\n",
    "        print(\"called __str__\")\n",
    "        return f\"({self.x:.2f}, {self.y:.2f})\"\n",
    "pointCount = 0\n",
    "def main():\n",
    "    global pointCount\n",
    "    p1 = Point()\n",
    "    print(p1)\n",
    "    p2 = Point(3.0,4.0)\n",
    "    print(p2)\n",
    "    pointCount += 1\n",
    "    print(f\"p1.pointCount: {p1.pointCount}\")\n",
    "    print(f\"p2.pointCount: {p2.pointCount}\")\n",
    "    print(f\"pointCount: {pointCount}\")\n",
    "    dist = p1.distance(p2)\n",
    "    print(f\"The distance between {p1} and {p2} is {dist:.3f}\")\n",
    "    print(type(p1)==Point)\n",
    "if __name__ == \"__main__\":\n",
    "    main()"
   ]
  },
  {
   "cell_type": "code",
   "execution_count": 4,
   "metadata": {},
   "outputs": [
    {
     "name": "stdout",
     "output_type": "stream",
     "text": [
      "init in A\n",
      "6\n",
      "init in B\n",
      "init in A\n",
      "11\n",
      "3\n",
      "True\n"
     ]
    }
   ],
   "source": [
    "class A(object):\n",
    "    def __init__(self, i = 2):\n",
    "        print(\"init in A\")\n",
    "        self.i = i\n",
    "    def m1(self):\n",
    "        self.i += 1\n",
    "class B(A):\n",
    "    def __init__(self, j = 3):\n",
    "        print(\"init in B\")\n",
    "        super().__init__(9)\n",
    "        self.j = j\n",
    "    def m1(self):\n",
    "        self.i += 2\n",
    "def main():\n",
    "    a = A(5) #Line 1\n",
    "    a.m1()\n",
    "    print(a.i) #Line 2\n",
    "    b = B() #Line 3\n",
    "    b.m1()\n",
    "    print(b.i) #Line 4\n",
    "    print(b.j) #Line 5\n",
    "    print(isinstance(b,A)) #Line 6\n",
    "if __name__ == \"__main__\":\n",
    "    main()"
   ]
  },
  {
   "cell_type": "code",
   "execution_count": 57,
   "metadata": {},
   "outputs": [
    {
     "name": "stdout",
     "output_type": "stream",
     "text": [
      "110\n"
     ]
    }
   ],
   "source": [
    "my_dict = {'bill':100, 'zach':'hi mom', 'laurie':'bye mom'}\n",
    "try:\n",
    "    result = ''\n",
    "    key_str = input(\"Enter a key:\")\n",
    "    val = my_dict[key_str]\n",
    "    result = result + val\n",
    "except TypeError:\n",
    "    result = '100'\n",
    "except KeyError:\n",
    "    result = 'hi mom'\n",
    "else:\n",
    "    result = result + \" \" + 'all done'\n",
    "finally:\n",
    "    if result.isdigit():\n",
    "        result = int(result) + 10\n",
    "    print(result) # Line 1\n"
   ]
  },
  {
   "cell_type": "code",
   "execution_count": 34,
   "metadata": {},
   "outputs": [
    {
     "name": "stdout",
     "output_type": "stream",
     "text": [
      "invoking add\n",
      "invoking add\n",
      "<<abc>>\n",
      "<<abcijk>>\n",
      "<<abc>>\n",
      "True\n",
      "invoking radd\n",
      "invoking add\n",
      "<<abc>>\n"
     ]
    }
   ],
   "source": [
    "class TestClass(object):\n",
    "    def __init__(self, param_str = ''):\n",
    "        self.the_str = ''\n",
    "        for c in param_str:\n",
    "            if c.isalpha():\n",
    "                self.the_str += c\n",
    "    def __add__(self, param):\n",
    "        print('invoking add')\n",
    "        if type(param) == TestClass:\n",
    "            the_str = self.the_str + param.the_str\n",
    "            return TestClass(the_str)\n",
    "        else: #xyz bukan testclass\n",
    "            return self\n",
    "    def __str__(self):\n",
    "        return '<<{}>>'.format(self.the_str)\n",
    "    def __radd__(self, param):\n",
    "        print('invoking radd')\n",
    "        return self.__add__(param)\n",
    "\n",
    "inst1 = TestClass('abc')\n",
    "inst2 = TestClass('123ijk')\n",
    "sumInst1 = inst1 + inst2\n",
    "sumInst2 = inst1 + 'xyz'\n",
    "print(inst1) # Line 1\n",
    "print(sumInst1) # Line 2\n",
    "print(sumInst2) # Line 3\n",
    "print(isinstance(sumInst2,TestClass)) # Line 4\n",
    "print(3 + inst1) # Line 5"
   ]
  },
  {
   "cell_type": "code",
   "execution_count": 48,
   "metadata": {},
   "outputs": [
    {
     "name": "stderr",
     "output_type": "stream",
     "text": [
      "Exception in Tkinter callback\n",
      "Traceback (most recent call last):\n",
      "  File \"/Library/Frameworks/Python.framework/Versions/3.11/lib/python3.11/tkinter/__init__.py\", line 1948, in __call__\n",
      "    return self.func(*args)\n",
      "           ^^^^^^^^^^^^^^^^\n",
      "TypeError: <lambda>() missing 1 required positional argument: 'counter'\n",
      "Exception in Tkinter callback\n",
      "Traceback (most recent call last):\n",
      "  File \"/Library/Frameworks/Python.framework/Versions/3.11/lib/python3.11/tkinter/__init__.py\", line 1948, in __call__\n",
      "    return self.func(*args)\n",
      "           ^^^^^^^^^^^^^^^^\n",
      "TypeError: <lambda>() missing 1 required positional argument: 'counter'\n",
      "Exception in Tkinter callback\n",
      "Traceback (most recent call last):\n",
      "  File \"/Library/Frameworks/Python.framework/Versions/3.11/lib/python3.11/tkinter/__init__.py\", line 1948, in __call__\n",
      "    return self.func(*args)\n",
      "           ^^^^^^^^^^^^^^^^\n",
      "TypeError: <lambda>() missing 1 required positional argument: 'counter'\n",
      "Exception in Tkinter callback\n",
      "Traceback (most recent call last):\n",
      "  File \"/Library/Frameworks/Python.framework/Versions/3.11/lib/python3.11/tkinter/__init__.py\", line 1948, in __call__\n",
      "    return self.func(*args)\n",
      "           ^^^^^^^^^^^^^^^^\n",
      "TypeError: <lambda>() missing 1 required positional argument: 'counter'\n",
      "Exception in Tkinter callback\n",
      "Traceback (most recent call last):\n",
      "  File \"/Library/Frameworks/Python.framework/Versions/3.11/lib/python3.11/tkinter/__init__.py\", line 1948, in __call__\n",
      "    return self.func(*args)\n",
      "           ^^^^^^^^^^^^^^^^\n",
      "TypeError: <lambda>() missing 1 required positional argument: 'counter'\n",
      "Exception in Tkinter callback\n",
      "Traceback (most recent call last):\n",
      "  File \"/Library/Frameworks/Python.framework/Versions/3.11/lib/python3.11/tkinter/__init__.py\", line 1948, in __call__\n",
      "    return self.func(*args)\n",
      "           ^^^^^^^^^^^^^^^^\n",
      "TypeError: <lambda>() missing 1 required positional argument: 'counter'\n"
     ]
    }
   ],
   "source": [
    "# Display a counter with \"Up\" button and \"Down\" button\n",
    "from tkinter import *\n",
    "window = Tk()\n",
    "window.title('Counter with Lambda')\n",
    "# The model\n",
    "counter = IntVar()\n",
    "counter.set(0)\n",
    "# The views\n",
    "Button(window, text=\"Up\", bg = \"yellow\", command=lambda counter : counter.get() + 1).pack()\n",
    "Button(window, text=\"Down\", bg = \"cyan\", command=lambda counter : counter.get() - 1).pack()\n",
    "Label(window, bg = \"gray\", textvariable=counter).pack()\n",
    "window.mainloop()"
   ]
  },
  {
   "cell_type": "code",
   "execution_count": 50,
   "metadata": {},
   "outputs": [
    {
     "name": "stdout",
     "output_type": "stream",
     "text": [
      "10\n",
      "9\n",
      "8\n",
      "7\n",
      "6\n",
      "5\n",
      "4\n",
      "3\n",
      "2\n",
      "1\n"
     ]
    }
   ],
   "source": [
    "#recursive showing 1 - 10\n",
    "\n",
    "def show(x):\n",
    "    if x == 0:\n",
    "        return 0\n",
    "    else:\n",
    "        print(x)\n",
    "        show(x-1)\n"
   ]
  },
  {
   "cell_type": "code",
   "execution_count": 58,
   "metadata": {},
   "outputs": [
    {
     "name": "stdout",
     "output_type": "stream",
     "text": [
      "maddam\n",
      "adda\n",
      "dd\n",
      "True\n"
     ]
    }
   ],
   "source": [
    "#function anagram non-recursive\n",
    "\n",
    "def anagram(word):\n",
    "    lst = []\n",
    "    if len(word) == 0:\n",
    "        return \n",
    "    else:\n",
    "        revlst = []\n",
    "        for x in word:\n",
    "            lst.append(x)\n",
    "        revlst = lst.copy()\n",
    "        revlst.reverse()\n",
    "        if revlst == lst:\n",
    "            return True\n",
    "        else:\n",
    "            return False\n",
    "    \n",
    "#function anagram recursive\n",
    "    \n",
    "def anagramrec(word):\n",
    "  print(word)\n",
    "  first = 0\n",
    "  last = len(word)-1\n",
    "\n",
    "  if len(word) == 1:\n",
    "    return True\n",
    "  elif len(word) == 2:\n",
    "    if word[0] == word[1]:\n",
    "      return True\n",
    "    else:\n",
    "      return False\n",
    "  \n",
    "  if word[first] == word[last]:\n",
    "    new_word = word[1:len(word)-1]\n",
    "    result = anagramrec(new_word)\n",
    "    return result\n",
    "  else:\n",
    "    return False\n",
    "result = anagramrec(\"maddam\")\n",
    "print(result)   \n",
    "        \n",
    "    \n",
    "\n"
   ]
  },
  {
   "cell_type": "code",
   "execution_count": 38,
   "metadata": {},
   "outputs": [
    {
     "name": "stdout",
     "output_type": "stream",
     "text": [
      "tset\n"
     ]
    }
   ],
   "source": [
    "word = \"test\"\n",
    "print(word)\n",
    "word"
   ]
  }
 ],
 "metadata": {
  "kernelspec": {
   "display_name": "Python 3.11.0 64-bit",
   "language": "python",
   "name": "python3"
  },
  "language_info": {
   "codemirror_mode": {
    "name": "ipython",
    "version": 3
   },
   "file_extension": ".py",
   "mimetype": "text/x-python",
   "name": "python",
   "nbconvert_exporter": "python",
   "pygments_lexer": "ipython3",
   "version": "3.10.6"
  },
  "orig_nbformat": 4,
  "vscode": {
   "interpreter": {
    "hash": "aee8b7b246df8f9039afb4144a1f6fd8d2ca17a180786b69acc140d282b71a49"
   }
  }
 },
 "nbformat": 4,
 "nbformat_minor": 2
}
