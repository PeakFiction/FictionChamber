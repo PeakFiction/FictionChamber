{
  "nbformat": 4,
  "nbformat_minor": 0,
  "metadata": {
    "colab": {
      "provenance": []
    },
    "kernelspec": {
      "name": "python3",
      "display_name": "Python 3"
    },
    "language_info": {
      "name": "python"
    },
    "widgets": {
      "application/vnd.jupyter.widget-state+json": {
        "5d953e9e8167490bac143f092a9ecb8e": {
          "model_module": "@jupyter-widgets/controls",
          "model_name": "HBoxModel",
          "model_module_version": "1.5.0",
          "state": {
            "_dom_classes": [],
            "_model_module": "@jupyter-widgets/controls",
            "_model_module_version": "1.5.0",
            "_model_name": "HBoxModel",
            "_view_count": null,
            "_view_module": "@jupyter-widgets/controls",
            "_view_module_version": "1.5.0",
            "_view_name": "HBoxView",
            "box_style": "",
            "children": [
              "IPY_MODEL_626d24a3057248d8bc7a3830e6dc4650",
              "IPY_MODEL_4e406027abf24fa48d553a1e1c045d99",
              "IPY_MODEL_f055a423889f4df6a9db9b931de069ac"
            ],
            "layout": "IPY_MODEL_565f1c2e70814bd48a8a776fdc4f5ddc"
          }
        },
        "626d24a3057248d8bc7a3830e6dc4650": {
          "model_module": "@jupyter-widgets/controls",
          "model_name": "HTMLModel",
          "model_module_version": "1.5.0",
          "state": {
            "_dom_classes": [],
            "_model_module": "@jupyter-widgets/controls",
            "_model_module_version": "1.5.0",
            "_model_name": "HTMLModel",
            "_view_count": null,
            "_view_module": "@jupyter-widgets/controls",
            "_view_module_version": "1.5.0",
            "_view_name": "HTMLView",
            "description": "",
            "description_tooltip": null,
            "layout": "IPY_MODEL_b0879d3ba58f4a99891700bd1306a0c7",
            "placeholder": "​",
            "style": "IPY_MODEL_af084a4a784e454caa294e3577386051",
            "value": "Batches: 100%"
          }
        },
        "4e406027abf24fa48d553a1e1c045d99": {
          "model_module": "@jupyter-widgets/controls",
          "model_name": "FloatProgressModel",
          "model_module_version": "1.5.0",
          "state": {
            "_dom_classes": [],
            "_model_module": "@jupyter-widgets/controls",
            "_model_module_version": "1.5.0",
            "_model_name": "FloatProgressModel",
            "_view_count": null,
            "_view_module": "@jupyter-widgets/controls",
            "_view_module_version": "1.5.0",
            "_view_name": "ProgressView",
            "bar_style": "success",
            "description": "",
            "description_tooltip": null,
            "layout": "IPY_MODEL_0306d740a7204a88af0ed384a15f3e50",
            "max": 40,
            "min": 0,
            "orientation": "horizontal",
            "style": "IPY_MODEL_970ab0258eb24187bfc2d6f6f105fce2",
            "value": 40
          }
        },
        "f055a423889f4df6a9db9b931de069ac": {
          "model_module": "@jupyter-widgets/controls",
          "model_name": "HTMLModel",
          "model_module_version": "1.5.0",
          "state": {
            "_dom_classes": [],
            "_model_module": "@jupyter-widgets/controls",
            "_model_module_version": "1.5.0",
            "_model_name": "HTMLModel",
            "_view_count": null,
            "_view_module": "@jupyter-widgets/controls",
            "_view_module_version": "1.5.0",
            "_view_name": "HTMLView",
            "description": "",
            "description_tooltip": null,
            "layout": "IPY_MODEL_6bedc2d3f56a40c9b2c9df5bfe03e83f",
            "placeholder": "​",
            "style": "IPY_MODEL_39886edf61d64355a0dff1cc6f19e95c",
            "value": " 40/40 [02:09&lt;00:00,  1.02it/s]"
          }
        },
        "565f1c2e70814bd48a8a776fdc4f5ddc": {
          "model_module": "@jupyter-widgets/base",
          "model_name": "LayoutModel",
          "model_module_version": "1.2.0",
          "state": {
            "_model_module": "@jupyter-widgets/base",
            "_model_module_version": "1.2.0",
            "_model_name": "LayoutModel",
            "_view_count": null,
            "_view_module": "@jupyter-widgets/base",
            "_view_module_version": "1.2.0",
            "_view_name": "LayoutView",
            "align_content": null,
            "align_items": null,
            "align_self": null,
            "border": null,
            "bottom": null,
            "display": null,
            "flex": null,
            "flex_flow": null,
            "grid_area": null,
            "grid_auto_columns": null,
            "grid_auto_flow": null,
            "grid_auto_rows": null,
            "grid_column": null,
            "grid_gap": null,
            "grid_row": null,
            "grid_template_areas": null,
            "grid_template_columns": null,
            "grid_template_rows": null,
            "height": null,
            "justify_content": null,
            "justify_items": null,
            "left": null,
            "margin": null,
            "max_height": null,
            "max_width": null,
            "min_height": null,
            "min_width": null,
            "object_fit": null,
            "object_position": null,
            "order": null,
            "overflow": null,
            "overflow_x": null,
            "overflow_y": null,
            "padding": null,
            "right": null,
            "top": null,
            "visibility": null,
            "width": null
          }
        },
        "b0879d3ba58f4a99891700bd1306a0c7": {
          "model_module": "@jupyter-widgets/base",
          "model_name": "LayoutModel",
          "model_module_version": "1.2.0",
          "state": {
            "_model_module": "@jupyter-widgets/base",
            "_model_module_version": "1.2.0",
            "_model_name": "LayoutModel",
            "_view_count": null,
            "_view_module": "@jupyter-widgets/base",
            "_view_module_version": "1.2.0",
            "_view_name": "LayoutView",
            "align_content": null,
            "align_items": null,
            "align_self": null,
            "border": null,
            "bottom": null,
            "display": null,
            "flex": null,
            "flex_flow": null,
            "grid_area": null,
            "grid_auto_columns": null,
            "grid_auto_flow": null,
            "grid_auto_rows": null,
            "grid_column": null,
            "grid_gap": null,
            "grid_row": null,
            "grid_template_areas": null,
            "grid_template_columns": null,
            "grid_template_rows": null,
            "height": null,
            "justify_content": null,
            "justify_items": null,
            "left": null,
            "margin": null,
            "max_height": null,
            "max_width": null,
            "min_height": null,
            "min_width": null,
            "object_fit": null,
            "object_position": null,
            "order": null,
            "overflow": null,
            "overflow_x": null,
            "overflow_y": null,
            "padding": null,
            "right": null,
            "top": null,
            "visibility": null,
            "width": null
          }
        },
        "af084a4a784e454caa294e3577386051": {
          "model_module": "@jupyter-widgets/controls",
          "model_name": "DescriptionStyleModel",
          "model_module_version": "1.5.0",
          "state": {
            "_model_module": "@jupyter-widgets/controls",
            "_model_module_version": "1.5.0",
            "_model_name": "DescriptionStyleModel",
            "_view_count": null,
            "_view_module": "@jupyter-widgets/base",
            "_view_module_version": "1.2.0",
            "_view_name": "StyleView",
            "description_width": ""
          }
        },
        "0306d740a7204a88af0ed384a15f3e50": {
          "model_module": "@jupyter-widgets/base",
          "model_name": "LayoutModel",
          "model_module_version": "1.2.0",
          "state": {
            "_model_module": "@jupyter-widgets/base",
            "_model_module_version": "1.2.0",
            "_model_name": "LayoutModel",
            "_view_count": null,
            "_view_module": "@jupyter-widgets/base",
            "_view_module_version": "1.2.0",
            "_view_name": "LayoutView",
            "align_content": null,
            "align_items": null,
            "align_self": null,
            "border": null,
            "bottom": null,
            "display": null,
            "flex": null,
            "flex_flow": null,
            "grid_area": null,
            "grid_auto_columns": null,
            "grid_auto_flow": null,
            "grid_auto_rows": null,
            "grid_column": null,
            "grid_gap": null,
            "grid_row": null,
            "grid_template_areas": null,
            "grid_template_columns": null,
            "grid_template_rows": null,
            "height": null,
            "justify_content": null,
            "justify_items": null,
            "left": null,
            "margin": null,
            "max_height": null,
            "max_width": null,
            "min_height": null,
            "min_width": null,
            "object_fit": null,
            "object_position": null,
            "order": null,
            "overflow": null,
            "overflow_x": null,
            "overflow_y": null,
            "padding": null,
            "right": null,
            "top": null,
            "visibility": null,
            "width": null
          }
        },
        "970ab0258eb24187bfc2d6f6f105fce2": {
          "model_module": "@jupyter-widgets/controls",
          "model_name": "ProgressStyleModel",
          "model_module_version": "1.5.0",
          "state": {
            "_model_module": "@jupyter-widgets/controls",
            "_model_module_version": "1.5.0",
            "_model_name": "ProgressStyleModel",
            "_view_count": null,
            "_view_module": "@jupyter-widgets/base",
            "_view_module_version": "1.2.0",
            "_view_name": "StyleView",
            "bar_color": null,
            "description_width": ""
          }
        },
        "6bedc2d3f56a40c9b2c9df5bfe03e83f": {
          "model_module": "@jupyter-widgets/base",
          "model_name": "LayoutModel",
          "model_module_version": "1.2.0",
          "state": {
            "_model_module": "@jupyter-widgets/base",
            "_model_module_version": "1.2.0",
            "_model_name": "LayoutModel",
            "_view_count": null,
            "_view_module": "@jupyter-widgets/base",
            "_view_module_version": "1.2.0",
            "_view_name": "LayoutView",
            "align_content": null,
            "align_items": null,
            "align_self": null,
            "border": null,
            "bottom": null,
            "display": null,
            "flex": null,
            "flex_flow": null,
            "grid_area": null,
            "grid_auto_columns": null,
            "grid_auto_flow": null,
            "grid_auto_rows": null,
            "grid_column": null,
            "grid_gap": null,
            "grid_row": null,
            "grid_template_areas": null,
            "grid_template_columns": null,
            "grid_template_rows": null,
            "height": null,
            "justify_content": null,
            "justify_items": null,
            "left": null,
            "margin": null,
            "max_height": null,
            "max_width": null,
            "min_height": null,
            "min_width": null,
            "object_fit": null,
            "object_position": null,
            "order": null,
            "overflow": null,
            "overflow_x": null,
            "overflow_y": null,
            "padding": null,
            "right": null,
            "top": null,
            "visibility": null,
            "width": null
          }
        },
        "39886edf61d64355a0dff1cc6f19e95c": {
          "model_module": "@jupyter-widgets/controls",
          "model_name": "DescriptionStyleModel",
          "model_module_version": "1.5.0",
          "state": {
            "_model_module": "@jupyter-widgets/controls",
            "_model_module_version": "1.5.0",
            "_model_name": "DescriptionStyleModel",
            "_view_count": null,
            "_view_module": "@jupyter-widgets/base",
            "_view_module_version": "1.2.0",
            "_view_name": "StyleView",
            "description_width": ""
          }
        }
      }
    }
  },
  "cells": [
    {
      "cell_type": "code",
      "source": [
        "!pip install datasets"
      ],
      "metadata": {
        "colab": {
          "base_uri": "https://localhost:8080/"
        },
        "id": "8Slnein1bxEo",
        "outputId": "e3b5c181-8a13-4518-82fa-787af33fccc0"
      },
      "execution_count": null,
      "outputs": [
        {
          "output_type": "stream",
          "name": "stdout",
          "text": [
            "Requirement already satisfied: datasets in /usr/local/lib/python3.10/dist-packages (2.18.0)\n",
            "Requirement already satisfied: filelock in /usr/local/lib/python3.10/dist-packages (from datasets) (3.13.1)\n",
            "Requirement already satisfied: numpy>=1.17 in /usr/local/lib/python3.10/dist-packages (from datasets) (1.25.2)\n",
            "Requirement already satisfied: pyarrow>=12.0.0 in /usr/local/lib/python3.10/dist-packages (from datasets) (14.0.2)\n",
            "Requirement already satisfied: pyarrow-hotfix in /usr/local/lib/python3.10/dist-packages (from datasets) (0.6)\n",
            "Requirement already satisfied: dill<0.3.9,>=0.3.0 in /usr/local/lib/python3.10/dist-packages (from datasets) (0.3.8)\n",
            "Requirement already satisfied: pandas in /usr/local/lib/python3.10/dist-packages (from datasets) (1.5.3)\n",
            "Requirement already satisfied: requests>=2.19.0 in /usr/local/lib/python3.10/dist-packages (from datasets) (2.31.0)\n",
            "Requirement already satisfied: tqdm>=4.62.1 in /usr/local/lib/python3.10/dist-packages (from datasets) (4.66.2)\n",
            "Requirement already satisfied: xxhash in /usr/local/lib/python3.10/dist-packages (from datasets) (3.4.1)\n",
            "Requirement already satisfied: multiprocess in /usr/local/lib/python3.10/dist-packages (from datasets) (0.70.16)\n",
            "Requirement already satisfied: fsspec[http]<=2024.2.0,>=2023.1.0 in /usr/local/lib/python3.10/dist-packages (from datasets) (2023.6.0)\n",
            "Requirement already satisfied: aiohttp in /usr/local/lib/python3.10/dist-packages (from datasets) (3.9.3)\n",
            "Requirement already satisfied: huggingface-hub>=0.19.4 in /usr/local/lib/python3.10/dist-packages (from datasets) (0.20.3)\n",
            "Requirement already satisfied: packaging in /usr/local/lib/python3.10/dist-packages (from datasets) (23.2)\n",
            "Requirement already satisfied: pyyaml>=5.1 in /usr/local/lib/python3.10/dist-packages (from datasets) (6.0.1)\n",
            "Requirement already satisfied: aiosignal>=1.1.2 in /usr/local/lib/python3.10/dist-packages (from aiohttp->datasets) (1.3.1)\n",
            "Requirement already satisfied: attrs>=17.3.0 in /usr/local/lib/python3.10/dist-packages (from aiohttp->datasets) (23.2.0)\n",
            "Requirement already satisfied: frozenlist>=1.1.1 in /usr/local/lib/python3.10/dist-packages (from aiohttp->datasets) (1.4.1)\n",
            "Requirement already satisfied: multidict<7.0,>=4.5 in /usr/local/lib/python3.10/dist-packages (from aiohttp->datasets) (6.0.5)\n",
            "Requirement already satisfied: yarl<2.0,>=1.0 in /usr/local/lib/python3.10/dist-packages (from aiohttp->datasets) (1.9.4)\n",
            "Requirement already satisfied: async-timeout<5.0,>=4.0 in /usr/local/lib/python3.10/dist-packages (from aiohttp->datasets) (4.0.3)\n",
            "Requirement already satisfied: typing-extensions>=3.7.4.3 in /usr/local/lib/python3.10/dist-packages (from huggingface-hub>=0.19.4->datasets) (4.10.0)\n",
            "Requirement already satisfied: charset-normalizer<4,>=2 in /usr/local/lib/python3.10/dist-packages (from requests>=2.19.0->datasets) (3.3.2)\n",
            "Requirement already satisfied: idna<4,>=2.5 in /usr/local/lib/python3.10/dist-packages (from requests>=2.19.0->datasets) (3.6)\n",
            "Requirement already satisfied: urllib3<3,>=1.21.1 in /usr/local/lib/python3.10/dist-packages (from requests>=2.19.0->datasets) (2.0.7)\n",
            "Requirement already satisfied: certifi>=2017.4.17 in /usr/local/lib/python3.10/dist-packages (from requests>=2.19.0->datasets) (2024.2.2)\n",
            "Requirement already satisfied: python-dateutil>=2.8.1 in /usr/local/lib/python3.10/dist-packages (from pandas->datasets) (2.8.2)\n",
            "Requirement already satisfied: pytz>=2020.1 in /usr/local/lib/python3.10/dist-packages (from pandas->datasets) (2023.4)\n",
            "Requirement already satisfied: six>=1.5 in /usr/local/lib/python3.10/dist-packages (from python-dateutil>=2.8.1->pandas->datasets) (1.16.0)\n"
          ]
        }
      ]
    },
    {
      "cell_type": "code",
      "execution_count": null,
      "metadata": {
        "id": "xhG82gWVXy0m",
        "colab": {
          "base_uri": "https://localhost:8080/"
        },
        "outputId": "58f9074f-9a29-47d5-d955-81921a004788"
      },
      "outputs": [
        {
          "output_type": "stream",
          "name": "stderr",
          "text": [
            "/usr/local/lib/python3.10/dist-packages/huggingface_hub/utils/_token.py:88: UserWarning: \n",
            "The secret `HF_TOKEN` does not exist in your Colab secrets.\n",
            "To authenticate with the Hugging Face Hub, create a token in your settings tab (https://huggingface.co/settings/tokens), set it as secret in your Google Colab and restart your session.\n",
            "You will be able to reuse this secret in all of your notebooks.\n",
            "Please note that authentication is recommended but still optional to access public models or datasets.\n",
            "  warnings.warn(\n"
          ]
        }
      ],
      "source": [
        "from datasets import load_dataset, Dataset\n",
        "\n",
        "dataset = load_dataset(\"imdb\", split='train')"
      ]
    },
    {
      "cell_type": "code",
      "source": [
        "dataset"
      ],
      "metadata": {
        "colab": {
          "base_uri": "https://localhost:8080/"
        },
        "id": "MBZC5ZJxb7Ve",
        "outputId": "da0dbb8c-fc33-41e5-da46-35cfa3d1333d"
      },
      "execution_count": null,
      "outputs": [
        {
          "output_type": "execute_result",
          "data": {
            "text/plain": [
              "Dataset({\n",
              "    features: ['text', 'label'],\n",
              "    num_rows: 25000\n",
              "})"
            ]
          },
          "metadata": {},
          "execution_count": 4
        }
      ]
    },
    {
      "cell_type": "code",
      "source": [
        "import pandas as pd\n",
        "\n",
        "df = pd.DataFrame(dataset)\n",
        "df"
      ],
      "metadata": {
        "colab": {
          "base_uri": "https://localhost:8080/",
          "height": 424
        },
        "id": "eYNtBsn1ckDn",
        "outputId": "14c40bed-472e-4c9f-a156-f4ab037750ba"
      },
      "execution_count": null,
      "outputs": [
        {
          "output_type": "execute_result",
          "data": {
            "text/plain": [
              "                                                    text  label\n",
              "0      I rented I AM CURIOUS-YELLOW from my video sto...      0\n",
              "1      \"I Am Curious: Yellow\" is a risible and preten...      0\n",
              "2      If only to avoid making this type of film in t...      0\n",
              "3      This film was probably inspired by Godard's Ma...      0\n",
              "4      Oh, brother...after hearing about this ridicul...      0\n",
              "...                                                  ...    ...\n",
              "24995  A hit at the time but now better categorised a...      1\n",
              "24996  I love this movie like no other. Another time ...      1\n",
              "24997  This film and it's sequel Barry Mckenzie holds...      1\n",
              "24998  'The Adventures Of Barry McKenzie' started lif...      1\n",
              "24999  The story centers around Barry McKenzie who mu...      1\n",
              "\n",
              "[25000 rows x 2 columns]"
            ],
            "text/html": [
              "\n",
              "  <div id=\"df-87ccb59f-24b5-43f9-a5ed-c880ed5f6e18\" class=\"colab-df-container\">\n",
              "    <div>\n",
              "<style scoped>\n",
              "    .dataframe tbody tr th:only-of-type {\n",
              "        vertical-align: middle;\n",
              "    }\n",
              "\n",
              "    .dataframe tbody tr th {\n",
              "        vertical-align: top;\n",
              "    }\n",
              "\n",
              "    .dataframe thead th {\n",
              "        text-align: right;\n",
              "    }\n",
              "</style>\n",
              "<table border=\"1\" class=\"dataframe\">\n",
              "  <thead>\n",
              "    <tr style=\"text-align: right;\">\n",
              "      <th></th>\n",
              "      <th>text</th>\n",
              "      <th>label</th>\n",
              "    </tr>\n",
              "  </thead>\n",
              "  <tbody>\n",
              "    <tr>\n",
              "      <th>0</th>\n",
              "      <td>I rented I AM CURIOUS-YELLOW from my video sto...</td>\n",
              "      <td>0</td>\n",
              "    </tr>\n",
              "    <tr>\n",
              "      <th>1</th>\n",
              "      <td>\"I Am Curious: Yellow\" is a risible and preten...</td>\n",
              "      <td>0</td>\n",
              "    </tr>\n",
              "    <tr>\n",
              "      <th>2</th>\n",
              "      <td>If only to avoid making this type of film in t...</td>\n",
              "      <td>0</td>\n",
              "    </tr>\n",
              "    <tr>\n",
              "      <th>3</th>\n",
              "      <td>This film was probably inspired by Godard's Ma...</td>\n",
              "      <td>0</td>\n",
              "    </tr>\n",
              "    <tr>\n",
              "      <th>4</th>\n",
              "      <td>Oh, brother...after hearing about this ridicul...</td>\n",
              "      <td>0</td>\n",
              "    </tr>\n",
              "    <tr>\n",
              "      <th>...</th>\n",
              "      <td>...</td>\n",
              "      <td>...</td>\n",
              "    </tr>\n",
              "    <tr>\n",
              "      <th>24995</th>\n",
              "      <td>A hit at the time but now better categorised a...</td>\n",
              "      <td>1</td>\n",
              "    </tr>\n",
              "    <tr>\n",
              "      <th>24996</th>\n",
              "      <td>I love this movie like no other. Another time ...</td>\n",
              "      <td>1</td>\n",
              "    </tr>\n",
              "    <tr>\n",
              "      <th>24997</th>\n",
              "      <td>This film and it's sequel Barry Mckenzie holds...</td>\n",
              "      <td>1</td>\n",
              "    </tr>\n",
              "    <tr>\n",
              "      <th>24998</th>\n",
              "      <td>'The Adventures Of Barry McKenzie' started lif...</td>\n",
              "      <td>1</td>\n",
              "    </tr>\n",
              "    <tr>\n",
              "      <th>24999</th>\n",
              "      <td>The story centers around Barry McKenzie who mu...</td>\n",
              "      <td>1</td>\n",
              "    </tr>\n",
              "  </tbody>\n",
              "</table>\n",
              "<p>25000 rows × 2 columns</p>\n",
              "</div>\n",
              "    <div class=\"colab-df-buttons\">\n",
              "\n",
              "  <div class=\"colab-df-container\">\n",
              "    <button class=\"colab-df-convert\" onclick=\"convertToInteractive('df-87ccb59f-24b5-43f9-a5ed-c880ed5f6e18')\"\n",
              "            title=\"Convert this dataframe to an interactive table.\"\n",
              "            style=\"display:none;\">\n",
              "\n",
              "  <svg xmlns=\"http://www.w3.org/2000/svg\" height=\"24px\" viewBox=\"0 -960 960 960\">\n",
              "    <path d=\"M120-120v-720h720v720H120Zm60-500h600v-160H180v160Zm220 220h160v-160H400v160Zm0 220h160v-160H400v160ZM180-400h160v-160H180v160Zm440 0h160v-160H620v160ZM180-180h160v-160H180v160Zm440 0h160v-160H620v160Z\"/>\n",
              "  </svg>\n",
              "    </button>\n",
              "\n",
              "  <style>\n",
              "    .colab-df-container {\n",
              "      display:flex;\n",
              "      gap: 12px;\n",
              "    }\n",
              "\n",
              "    .colab-df-convert {\n",
              "      background-color: #E8F0FE;\n",
              "      border: none;\n",
              "      border-radius: 50%;\n",
              "      cursor: pointer;\n",
              "      display: none;\n",
              "      fill: #1967D2;\n",
              "      height: 32px;\n",
              "      padding: 0 0 0 0;\n",
              "      width: 32px;\n",
              "    }\n",
              "\n",
              "    .colab-df-convert:hover {\n",
              "      background-color: #E2EBFA;\n",
              "      box-shadow: 0px 1px 2px rgba(60, 64, 67, 0.3), 0px 1px 3px 1px rgba(60, 64, 67, 0.15);\n",
              "      fill: #174EA6;\n",
              "    }\n",
              "\n",
              "    .colab-df-buttons div {\n",
              "      margin-bottom: 4px;\n",
              "    }\n",
              "\n",
              "    [theme=dark] .colab-df-convert {\n",
              "      background-color: #3B4455;\n",
              "      fill: #D2E3FC;\n",
              "    }\n",
              "\n",
              "    [theme=dark] .colab-df-convert:hover {\n",
              "      background-color: #434B5C;\n",
              "      box-shadow: 0px 1px 3px 1px rgba(0, 0, 0, 0.15);\n",
              "      filter: drop-shadow(0px 1px 2px rgba(0, 0, 0, 0.3));\n",
              "      fill: #FFFFFF;\n",
              "    }\n",
              "  </style>\n",
              "\n",
              "    <script>\n",
              "      const buttonEl =\n",
              "        document.querySelector('#df-87ccb59f-24b5-43f9-a5ed-c880ed5f6e18 button.colab-df-convert');\n",
              "      buttonEl.style.display =\n",
              "        google.colab.kernel.accessAllowed ? 'block' : 'none';\n",
              "\n",
              "      async function convertToInteractive(key) {\n",
              "        const element = document.querySelector('#df-87ccb59f-24b5-43f9-a5ed-c880ed5f6e18');\n",
              "        const dataTable =\n",
              "          await google.colab.kernel.invokeFunction('convertToInteractive',\n",
              "                                                    [key], {});\n",
              "        if (!dataTable) return;\n",
              "\n",
              "        const docLinkHtml = 'Like what you see? Visit the ' +\n",
              "          '<a target=\"_blank\" href=https://colab.research.google.com/notebooks/data_table.ipynb>data table notebook</a>'\n",
              "          + ' to learn more about interactive tables.';\n",
              "        element.innerHTML = '';\n",
              "        dataTable['output_type'] = 'display_data';\n",
              "        await google.colab.output.renderOutput(dataTable, element);\n",
              "        const docLink = document.createElement('div');\n",
              "        docLink.innerHTML = docLinkHtml;\n",
              "        element.appendChild(docLink);\n",
              "      }\n",
              "    </script>\n",
              "  </div>\n",
              "\n",
              "\n",
              "<div id=\"df-5fe93360-e3bd-44f4-aef6-d5dfff260212\">\n",
              "  <button class=\"colab-df-quickchart\" onclick=\"quickchart('df-5fe93360-e3bd-44f4-aef6-d5dfff260212')\"\n",
              "            title=\"Suggest charts\"\n",
              "            style=\"display:none;\">\n",
              "\n",
              "<svg xmlns=\"http://www.w3.org/2000/svg\" height=\"24px\"viewBox=\"0 0 24 24\"\n",
              "     width=\"24px\">\n",
              "    <g>\n",
              "        <path d=\"M19 3H5c-1.1 0-2 .9-2 2v14c0 1.1.9 2 2 2h14c1.1 0 2-.9 2-2V5c0-1.1-.9-2-2-2zM9 17H7v-7h2v7zm4 0h-2V7h2v10zm4 0h-2v-4h2v4z\"/>\n",
              "    </g>\n",
              "</svg>\n",
              "  </button>\n",
              "\n",
              "<style>\n",
              "  .colab-df-quickchart {\n",
              "      --bg-color: #E8F0FE;\n",
              "      --fill-color: #1967D2;\n",
              "      --hover-bg-color: #E2EBFA;\n",
              "      --hover-fill-color: #174EA6;\n",
              "      --disabled-fill-color: #AAA;\n",
              "      --disabled-bg-color: #DDD;\n",
              "  }\n",
              "\n",
              "  [theme=dark] .colab-df-quickchart {\n",
              "      --bg-color: #3B4455;\n",
              "      --fill-color: #D2E3FC;\n",
              "      --hover-bg-color: #434B5C;\n",
              "      --hover-fill-color: #FFFFFF;\n",
              "      --disabled-bg-color: #3B4455;\n",
              "      --disabled-fill-color: #666;\n",
              "  }\n",
              "\n",
              "  .colab-df-quickchart {\n",
              "    background-color: var(--bg-color);\n",
              "    border: none;\n",
              "    border-radius: 50%;\n",
              "    cursor: pointer;\n",
              "    display: none;\n",
              "    fill: var(--fill-color);\n",
              "    height: 32px;\n",
              "    padding: 0;\n",
              "    width: 32px;\n",
              "  }\n",
              "\n",
              "  .colab-df-quickchart:hover {\n",
              "    background-color: var(--hover-bg-color);\n",
              "    box-shadow: 0 1px 2px rgba(60, 64, 67, 0.3), 0 1px 3px 1px rgba(60, 64, 67, 0.15);\n",
              "    fill: var(--button-hover-fill-color);\n",
              "  }\n",
              "\n",
              "  .colab-df-quickchart-complete:disabled,\n",
              "  .colab-df-quickchart-complete:disabled:hover {\n",
              "    background-color: var(--disabled-bg-color);\n",
              "    fill: var(--disabled-fill-color);\n",
              "    box-shadow: none;\n",
              "  }\n",
              "\n",
              "  .colab-df-spinner {\n",
              "    border: 2px solid var(--fill-color);\n",
              "    border-color: transparent;\n",
              "    border-bottom-color: var(--fill-color);\n",
              "    animation:\n",
              "      spin 1s steps(1) infinite;\n",
              "  }\n",
              "\n",
              "  @keyframes spin {\n",
              "    0% {\n",
              "      border-color: transparent;\n",
              "      border-bottom-color: var(--fill-color);\n",
              "      border-left-color: var(--fill-color);\n",
              "    }\n",
              "    20% {\n",
              "      border-color: transparent;\n",
              "      border-left-color: var(--fill-color);\n",
              "      border-top-color: var(--fill-color);\n",
              "    }\n",
              "    30% {\n",
              "      border-color: transparent;\n",
              "      border-left-color: var(--fill-color);\n",
              "      border-top-color: var(--fill-color);\n",
              "      border-right-color: var(--fill-color);\n",
              "    }\n",
              "    40% {\n",
              "      border-color: transparent;\n",
              "      border-right-color: var(--fill-color);\n",
              "      border-top-color: var(--fill-color);\n",
              "    }\n",
              "    60% {\n",
              "      border-color: transparent;\n",
              "      border-right-color: var(--fill-color);\n",
              "    }\n",
              "    80% {\n",
              "      border-color: transparent;\n",
              "      border-right-color: var(--fill-color);\n",
              "      border-bottom-color: var(--fill-color);\n",
              "    }\n",
              "    90% {\n",
              "      border-color: transparent;\n",
              "      border-bottom-color: var(--fill-color);\n",
              "    }\n",
              "  }\n",
              "</style>\n",
              "\n",
              "  <script>\n",
              "    async function quickchart(key) {\n",
              "      const quickchartButtonEl =\n",
              "        document.querySelector('#' + key + ' button');\n",
              "      quickchartButtonEl.disabled = true;  // To prevent multiple clicks.\n",
              "      quickchartButtonEl.classList.add('colab-df-spinner');\n",
              "      try {\n",
              "        const charts = await google.colab.kernel.invokeFunction(\n",
              "            'suggestCharts', [key], {});\n",
              "      } catch (error) {\n",
              "        console.error('Error during call to suggestCharts:', error);\n",
              "      }\n",
              "      quickchartButtonEl.classList.remove('colab-df-spinner');\n",
              "      quickchartButtonEl.classList.add('colab-df-quickchart-complete');\n",
              "    }\n",
              "    (() => {\n",
              "      let quickchartButtonEl =\n",
              "        document.querySelector('#df-5fe93360-e3bd-44f4-aef6-d5dfff260212 button');\n",
              "      quickchartButtonEl.style.display =\n",
              "        google.colab.kernel.accessAllowed ? 'block' : 'none';\n",
              "    })();\n",
              "  </script>\n",
              "</div>\n",
              "    </div>\n",
              "  </div>\n"
            ],
            "application/vnd.google.colaboratory.intrinsic+json": {
              "type": "dataframe",
              "variable_name": "df",
              "summary": "{\n  \"name\": \"df\",\n  \"rows\": 25000,\n  \"fields\": [\n    {\n      \"column\": \"text\",\n      \"properties\": {\n        \"dtype\": \"string\",\n        \"num_unique_values\": 24904,\n        \"samples\": [\n          \"Although I didn't like Stanley & Iris tremendously as a film, I did admire the acting. Jane Fonda and Robert De Niro are great in this movie. I haven't always been a fan of Fonda's work but here she is delicate and strong at the same time. De Niro has the ability to make every role he portrays into acting gold. He gives a great performance in this film and there is a great scene where he has to take his father to a home for elderly people because he can't care for him anymore that will break your heart. I wouldn't really recommend this film as a great cinematic entertainment, but I will say you won't see much bette acting anywhere.\",\n          \"Yet again one of the most misunderstood Goddesses of my country has been twisted by \\\"Westerners\\\" who cannot understand the esoteric symbolism of the Mother Goddess in her dark forms. The Mother takes on the frightening form of Kali Mata to destroy our inner demons, and to terrify our egos. And though blood sacrifice is given to Kali and Durga, the events depicted in this film are just absurd. The Mother takes on a wrathful form to be wrathful to our inner demons, limitations, and ego when no other form will suffice. It's also in her wrathful form that she burns away all your Karmas in the \\\"Smashan\\\" fires that you cultivate in your heart for her to dance on if you love her, and she will bring you to reality and truth. Reality and truth has a dark side as well as light, which serves a purpose. The Mother is the embodiment of the physical Universe as well, she is Nature. Nature can be cruel and destructive to maintain balance. You cannot have growth and life without death and destruction. Kali represents the force of destruction for the purpose of new growth and life both mundane and spiritual in the universe. It's very outrageous to me that people who know nothing of India or it's divinity can just take one of our beloved Goddesses and use her like a cheap prostitute to make some low-budget, talentless horror film. How dare they take our beloved Mother and portray her as a horror that makes people chop their eyelids off!? She is only horrific to those who are attached to their ego and who live in delusion , greed, anger, and other inner-demons. It's very clear to me that the person who wrote this movie must have a very serious self-deluding ego, and serious inner-demons to see Kali as so horrible and terrible. When the ego drops away she becomes a form that is enchanting, beautiful, and young, a beauty that is so enchanting to behold that she enchants the entire Universe with it. Kali Maa is an ancient Mother, not to be trifled with for the sake of entertainment, let's just hope that in her endless compassion and mercy that she does not take on wrathful form to those involved with this movie.<br /><br />The audacity that Westerners have in using religions like my own, or the religions of the Caribbean Islands such as Santeria, and Vodou which are actually very positive, and other such religions to twist and exaggerate misunderstood elements that the Western mind cannot comprehend, is totally ridiculous. It's clear that there is no respect for what people live, breathe and believe in when it comes to these kind of flicks.<br /><br />Kali Maa in reality is a caring and compassionate mother, whom we shed tears at her beautiful feet in devotion and love for. And I am happy that my Mother takes on wrathful form sometimes to protect her devotees from themselves and from outside forces.<br /><br />Many Praises to the REAL Kali Maa, who has shown MANY the path of God and realization.\",\n          \"Paris is the place to be to enjoy beautiful art and music, and to fall madly in love - as is the case in this film. Boy meets girl, they fall in love, but something stands in their way of eternal happiness, the classic story.<br /><br />The wonderful music of George Gerschwin complements the great dancing by Gene Kelly and Leslie Caron. \\\"An American in Paris\\\" is a humorous, light-hearted, loving film well worth watching.<br /><br />8/10<br /><br />\"\n        ],\n        \"semantic_type\": \"\",\n        \"description\": \"\"\n      }\n    },\n    {\n      \"column\": \"label\",\n      \"properties\": {\n        \"dtype\": \"number\",\n        \"std\": 0,\n        \"min\": 0,\n        \"max\": 1,\n        \"num_unique_values\": 2,\n        \"samples\": [\n          1,\n          0\n        ],\n        \"semantic_type\": \"\",\n        \"description\": \"\"\n      }\n    }\n  ]\n}"
            }
          },
          "metadata": {},
          "execution_count": 5
        }
      ]
    },
    {
      "cell_type": "code",
      "source": [
        "df['label'].value_counts()"
      ],
      "metadata": {
        "colab": {
          "base_uri": "https://localhost:8080/"
        },
        "id": "cQW1eHbtqBQH",
        "outputId": "ff07cc47-524d-46ff-da25-598fd282fe1a"
      },
      "execution_count": null,
      "outputs": [
        {
          "output_type": "execute_result",
          "data": {
            "text/plain": [
              "0    12500\n",
              "1    12500\n",
              "Name: label, dtype: int64"
            ]
          },
          "metadata": {},
          "execution_count": 6
        }
      ]
    },
    {
      "cell_type": "code",
      "source": [
        "from sklearn.model_selection import train_test_split\n",
        "\n",
        "# we will \"truncate\" the dataset\n",
        "X, _, y, _ = train_test_split(df['text'], df['label'], test_size=0.975, stratify=df['label'], random_state=30)\n",
        "\n",
        "# we will work with X and y\n",
        "y.value_counts()"
      ],
      "metadata": {
        "colab": {
          "base_uri": "https://localhost:8080/"
        },
        "id": "h3-SGrd8rTid",
        "outputId": "4d010eb3-528e-4b23-e460-1527f01ee526"
      },
      "execution_count": null,
      "outputs": [
        {
          "output_type": "execute_result",
          "data": {
            "text/plain": [
              "0    313\n",
              "1    312\n",
              "Name: label, dtype: int64"
            ]
          },
          "metadata": {},
          "execution_count": 7
        }
      ]
    },
    {
      "cell_type": "code",
      "source": [
        "corpus = X.tolist()\n",
        "corpus[:2]"
      ],
      "metadata": {
        "id": "Dhdh0msdd95i",
        "colab": {
          "base_uri": "https://localhost:8080/"
        },
        "outputId": "6839e30b-75a4-463c-a73e-f4e4d17045e6"
      },
      "execution_count": null,
      "outputs": [
        {
          "output_type": "execute_result",
          "data": {
            "text/plain": [
              "[\"Saw this flick on ENCW last nite for the third or fourth time. Enjoyed it so much I ordered the DVD. This really is a standout and of course the first of the Mann-Stewart pairings. More here than the usual oater, although not quite as powerful as The Searchers. Lots of obvious symbolism about achieving manhood but mainly it's the acting by Stewart, his partner Millard Mitchell, Shelly Winters and the Waco Johnny Dean- Dan Duryea. Steve Miller (not The Joker) is interesting as a handsome would be hero who's interested in Lola but too yellow . Like Stewart in The Man Who Killed Liberty Valance, he's practically reduced to putting on an apron and serving his enemies coffee. Decaf no doubt. Tony Curtis from the Bronx Cavalry and Rock Hudson behaving like no Indian I've seen on screen have interesting cameos.<br /><br />Special performances by John McIntire as a too lucky card dealing/gun trader who hangs out at a very low grade Western version of Rick's American Cafe. Nobody wants to spend the night there. Jay C. Flippens out over a kiss from Lola (Winters) and has some nice scenes with Stewart before he gets to Bend of the River and Far Country. Will Geer as Wyatt Earp and the Indian Chief who takes Walter Brennan's teeth from him in Red River are pleasant sightings. This is the kind of western that only Stewart, not Wayne nor Scott could have pulled off. Worth the shot, I repeat. :-)\",\n",
              " 'this film takes you inside itself in the early minutes and holds you till the end. it has a very humane story and very good selected music. The acting of Moritz Bleibtreu (Giancarlo Amato) and Barnaby Metschurat (Gigi Amato) is satisfying. Recommended to people who get bored of action films and want to see a good movie.']"
            ]
          },
          "metadata": {},
          "execution_count": 8
        }
      ]
    },
    {
      "cell_type": "markdown",
      "source": [
        "## Basic Text Preprocessing"
      ],
      "metadata": {
        "id": "Ryl-yaJ7sFEi"
      }
    },
    {
      "cell_type": "code",
      "source": [
        "sample = corpus[:2]"
      ],
      "metadata": {
        "id": "IffCas_Osu27"
      },
      "execution_count": null,
      "outputs": []
    },
    {
      "cell_type": "markdown",
      "source": [
        "### Tokenization"
      ],
      "metadata": {
        "id": "VPnX6_lesIjP"
      }
    },
    {
      "cell_type": "code",
      "source": [
        "# divide sentence into words, you can use regular expressions, etc\n",
        "from nltk.tokenize import RegexpTokenizer\n",
        "\n",
        "# list of list\n",
        "list_tokens = []\n",
        "\n",
        "tokenizer = RegexpTokenizer(r'\\w+')\n",
        "for sent in sample:\n",
        "  tokens = tokenizer.tokenize(sent)\n",
        "  tokens = [token.lower() for token in tokens if token != 'br']\n",
        "  list_tokens.append(tokens)\n",
        "  print(tokens)"
      ],
      "metadata": {
        "colab": {
          "base_uri": "https://localhost:8080/"
        },
        "id": "mQHXZoHtsN3Q",
        "outputId": "aeb05658-8908-4a74-d63b-3ee5615e7409"
      },
      "execution_count": null,
      "outputs": [
        {
          "output_type": "stream",
          "name": "stdout",
          "text": [
            "['saw', 'this', 'flick', 'on', 'encw', 'last', 'nite', 'for', 'the', 'third', 'or', 'fourth', 'time', 'enjoyed', 'it', 'so', 'much', 'i', 'ordered', 'the', 'dvd', 'this', 'really', 'is', 'a', 'standout', 'and', 'of', 'course', 'the', 'first', 'of', 'the', 'mann', 'stewart', 'pairings', 'more', 'here', 'than', 'the', 'usual', 'oater', 'although', 'not', 'quite', 'as', 'powerful', 'as', 'the', 'searchers', 'lots', 'of', 'obvious', 'symbolism', 'about', 'achieving', 'manhood', 'but', 'mainly', 'it', 's', 'the', 'acting', 'by', 'stewart', 'his', 'partner', 'millard', 'mitchell', 'shelly', 'winters', 'and', 'the', 'waco', 'johnny', 'dean', 'dan', 'duryea', 'steve', 'miller', 'not', 'the', 'joker', 'is', 'interesting', 'as', 'a', 'handsome', 'would', 'be', 'hero', 'who', 's', 'interested', 'in', 'lola', 'but', 'too', 'yellow', 'like', 'stewart', 'in', 'the', 'man', 'who', 'killed', 'liberty', 'valance', 'he', 's', 'practically', 'reduced', 'to', 'putting', 'on', 'an', 'apron', 'and', 'serving', 'his', 'enemies', 'coffee', 'decaf', 'no', 'doubt', 'tony', 'curtis', 'from', 'the', 'bronx', 'cavalry', 'and', 'rock', 'hudson', 'behaving', 'like', 'no', 'indian', 'i', 've', 'seen', 'on', 'screen', 'have', 'interesting', 'cameos', 'special', 'performances', 'by', 'john', 'mcintire', 'as', 'a', 'too', 'lucky', 'card', 'dealing', 'gun', 'trader', 'who', 'hangs', 'out', 'at', 'a', 'very', 'low', 'grade', 'western', 'version', 'of', 'rick', 's', 'american', 'cafe', 'nobody', 'wants', 'to', 'spend', 'the', 'night', 'there', 'jay', 'c', 'flippens', 'out', 'over', 'a', 'kiss', 'from', 'lola', 'winters', 'and', 'has', 'some', 'nice', 'scenes', 'with', 'stewart', 'before', 'he', 'gets', 'to', 'bend', 'of', 'the', 'river', 'and', 'far', 'country', 'will', 'geer', 'as', 'wyatt', 'earp', 'and', 'the', 'indian', 'chief', 'who', 'takes', 'walter', 'brennan', 's', 'teeth', 'from', 'him', 'in', 'red', 'river', 'are', 'pleasant', 'sightings', 'this', 'is', 'the', 'kind', 'of', 'western', 'that', 'only', 'stewart', 'not', 'wayne', 'nor', 'scott', 'could', 'have', 'pulled', 'off', 'worth', 'the', 'shot', 'i', 'repeat']\n",
            "['this', 'film', 'takes', 'you', 'inside', 'itself', 'in', 'the', 'early', 'minutes', 'and', 'holds', 'you', 'till', 'the', 'end', 'it', 'has', 'a', 'very', 'humane', 'story', 'and', 'very', 'good', 'selected', 'music', 'the', 'acting', 'of', 'moritz', 'bleibtreu', 'giancarlo', 'amato', 'and', 'barnaby', 'metschurat', 'gigi', 'amato', 'is', 'satisfying', 'recommended', 'to', 'people', 'who', 'get', 'bored', 'of', 'action', 'films', 'and', 'want', 'to', 'see', 'a', 'good', 'movie']\n"
          ]
        }
      ]
    },
    {
      "cell_type": "markdown",
      "source": [
        "## Stemming"
      ],
      "metadata": {
        "id": "C2XMHA2svkKh"
      }
    },
    {
      "cell_type": "code",
      "source": [
        "from nltk.stem import PorterStemmer\n",
        "\n",
        "ps = PorterStemmer()\n",
        "list_stemmed = []\n",
        "\n",
        "for tokens in list_tokens:\n",
        "  stemmed = []\n",
        "  for token in tokens:\n",
        "    stemmed.append(ps.stem(token))\n",
        "  list_stemmed.append(stemmed)\n",
        "  print(stemmed)"
      ],
      "metadata": {
        "id": "bddX935Svnz_",
        "colab": {
          "base_uri": "https://localhost:8080/"
        },
        "outputId": "2dfbb691-7117-49ff-c1a7-75ad31dd5fbf"
      },
      "execution_count": null,
      "outputs": [
        {
          "output_type": "stream",
          "name": "stdout",
          "text": [
            "['saw', 'thi', 'flick', 'on', 'encw', 'last', 'nite', 'for', 'the', 'third', 'or', 'fourth', 'time', 'enjoy', 'it', 'so', 'much', 'i', 'order', 'the', 'dvd', 'thi', 'realli', 'is', 'a', 'standout', 'and', 'of', 'cours', 'the', 'first', 'of', 'the', 'mann', 'stewart', 'pair', 'more', 'here', 'than', 'the', 'usual', 'oater', 'although', 'not', 'quit', 'as', 'power', 'as', 'the', 'searcher', 'lot', 'of', 'obviou', 'symbol', 'about', 'achiev', 'manhood', 'but', 'mainli', 'it', 's', 'the', 'act', 'by', 'stewart', 'hi', 'partner', 'millard', 'mitchel', 'shelli', 'winter', 'and', 'the', 'waco', 'johnni', 'dean', 'dan', 'duryea', 'steve', 'miller', 'not', 'the', 'joker', 'is', 'interest', 'as', 'a', 'handsom', 'would', 'be', 'hero', 'who', 's', 'interest', 'in', 'lola', 'but', 'too', 'yellow', 'like', 'stewart', 'in', 'the', 'man', 'who', 'kill', 'liberti', 'valanc', 'he', 's', 'practic', 'reduc', 'to', 'put', 'on', 'an', 'apron', 'and', 'serv', 'hi', 'enemi', 'coffe', 'decaf', 'no', 'doubt', 'toni', 'curti', 'from', 'the', 'bronx', 'cavalri', 'and', 'rock', 'hudson', 'behav', 'like', 'no', 'indian', 'i', 've', 'seen', 'on', 'screen', 'have', 'interest', 'cameo', 'special', 'perform', 'by', 'john', 'mcintir', 'as', 'a', 'too', 'lucki', 'card', 'deal', 'gun', 'trader', 'who', 'hang', 'out', 'at', 'a', 'veri', 'low', 'grade', 'western', 'version', 'of', 'rick', 's', 'american', 'cafe', 'nobodi', 'want', 'to', 'spend', 'the', 'night', 'there', 'jay', 'c', 'flippen', 'out', 'over', 'a', 'kiss', 'from', 'lola', 'winter', 'and', 'ha', 'some', 'nice', 'scene', 'with', 'stewart', 'befor', 'he', 'get', 'to', 'bend', 'of', 'the', 'river', 'and', 'far', 'countri', 'will', 'geer', 'as', 'wyatt', 'earp', 'and', 'the', 'indian', 'chief', 'who', 'take', 'walter', 'brennan', 's', 'teeth', 'from', 'him', 'in', 'red', 'river', 'are', 'pleasant', 'sight', 'thi', 'is', 'the', 'kind', 'of', 'western', 'that', 'onli', 'stewart', 'not', 'wayn', 'nor', 'scott', 'could', 'have', 'pull', 'off', 'worth', 'the', 'shot', 'i', 'repeat']\n",
            "['thi', 'film', 'take', 'you', 'insid', 'itself', 'in', 'the', 'earli', 'minut', 'and', 'hold', 'you', 'till', 'the', 'end', 'it', 'ha', 'a', 'veri', 'human', 'stori', 'and', 'veri', 'good', 'select', 'music', 'the', 'act', 'of', 'moritz', 'bleibtreu', 'giancarlo', 'amato', 'and', 'barnabi', 'metschurat', 'gigi', 'amato', 'is', 'satisfi', 'recommend', 'to', 'peopl', 'who', 'get', 'bore', 'of', 'action', 'film', 'and', 'want', 'to', 'see', 'a', 'good', 'movi']\n"
          ]
        }
      ]
    },
    {
      "cell_type": "markdown",
      "source": [
        "## Lemmatization"
      ],
      "metadata": {
        "id": "8COufMYcxjeo"
      }
    },
    {
      "cell_type": "code",
      "source": [
        "import spacy\n",
        "\n",
        "nlp = spacy.load('en_core_web_sm')\n",
        "list_lemmatized = []\n",
        "\n",
        "for tokens in list_tokens:\n",
        "  doc = nlp(\" \".join(tokens))\n",
        "  lemmatized = [token.lemma_ for token in doc]\n",
        "  list_lemmatized.append(lemmatized)\n",
        "  print(lemmatized)"
      ],
      "metadata": {
        "colab": {
          "base_uri": "https://localhost:8080/"
        },
        "id": "7Xyisytqxkxz",
        "outputId": "5daf9343-9c8c-4655-c267-a67e51959f4c"
      },
      "execution_count": null,
      "outputs": [
        {
          "output_type": "stream",
          "name": "stdout",
          "text": [
            "['see', 'this', 'flick', 'on', 'encw', 'last', 'nite', 'for', 'the', 'third', 'or', 'fourth', 'time', 'enjoy', 'it', 'so', 'much', 'I', 'order', 'the', 'dvd', 'this', 'really', 'be', 'a', 'standout', 'and', 'of', 'course', 'the', 'first', 'of', 'the', 'mann', 'stewart', 'pairing', 'more', 'here', 'than', 'the', 'usual', 'oater', 'although', 'not', 'quite', 'as', 'powerful', 'as', 'the', 'searcher', 'lot', 'of', 'obvious', 'symbolism', 'about', 'achieve', 'manhood', 'but', 'mainly', 'it', 's', 'the', 'acting', 'by', 'stewart', 'his', 'partner', 'millard', 'mitchell', 'shelly', 'winter', 'and', 'the', 'waco', 'johnny', 'dean', 'dan', 'duryea', 'steve', 'miller', 'not', 'the', 'joker', 'be', 'interesting', 'as', 'a', 'handsome', 'would', 'be', 'hero', 'who', 's', 'interested', 'in', 'lola', 'but', 'too', 'yellow', 'like', 'stewart', 'in', 'the', 'man', 'who', 'kill', 'liberty', 'valance', 'he', 's', 'practically', 'reduced', 'to', 'put', 'on', 'an', 'apron', 'and', 'serve', 'his', 'enemy', 'coffee', 'decaf', 'no', 'doubt', 'tony', 'curtis', 'from', 'the', 'bronx', 'cavalry', 'and', 'rock', 'hudson', 'behave', 'like', 'no', 'indian', 'I', 've', 'see', 'on', 'screen', 'have', 'interesting', 'cameo', 'special', 'performance', 'by', 'john', 'mcintire', 'as', 'a', 'too', 'lucky', 'card', 'deal', 'gun', 'trader', 'who', 'hang', 'out', 'at', 'a', 'very', 'low', 'grade', 'western', 'version', 'of', 'rick', 's', 'american', 'cafe', 'nobody', 'want', 'to', 'spend', 'the', 'night', 'there', 'jay', 'c', 'flippen', 'out', 'over', 'a', 'kiss', 'from', 'lola', 'winter', 'and', 'have', 'some', 'nice', 'scene', 'with', 'stewart', 'before', 'he', 'get', 'to', 'bend', 'of', 'the', 'river', 'and', 'far', 'country', 'will', 'geer', 'as', 'wyatt', 'earp', 'and', 'the', 'indian', 'chief', 'who', 'take', 'walter', 'brennan', 's', 'tooth', 'from', 'he', 'in', 'red', 'river', 'be', 'pleasant', 'sighting', 'this', 'be', 'the', 'kind', 'of', 'western', 'that', 'only', 'stewart', 'not', 'wayne', 'nor', 'scott', 'could', 'have', 'pull', 'off', 'worth', 'the', 'shot', 'I', 'repeat']\n",
            "['this', 'film', 'take', 'you', 'inside', 'itself', 'in', 'the', 'early', 'minute', 'and', 'hold', 'you', 'till', 'the', 'end', 'it', 'have', 'a', 'very', 'humane', 'story', 'and', 'very', 'good', 'select', 'music', 'the', 'acting', 'of', 'moritz', 'bleibtreu', 'giancarlo', 'amato', 'and', 'barnaby', 'metschurat', 'gigi', 'amato', 'be', 'satisfy', 'recommend', 'to', 'people', 'who', 'get', 'bore', 'of', 'action', 'film', 'and', 'want', 'to', 'see', 'a', 'good', 'movie']\n"
          ]
        }
      ]
    },
    {
      "cell_type": "markdown",
      "source": [
        "## Stopwords Removal"
      ],
      "metadata": {
        "id": "rZZoGci9zLdl"
      }
    },
    {
      "cell_type": "code",
      "source": [
        "from nltk.corpus import stopwords\n",
        "import nltk\n",
        "\n",
        "nltk.download('stopwords')\n",
        "stop_words = set(stopwords.words('english'))\n",
        "print(stop_words)"
      ],
      "metadata": {
        "colab": {
          "base_uri": "https://localhost:8080/"
        },
        "id": "7VztXfN9zNet",
        "outputId": "c6d216df-44f7-49b3-cfc2-bc14f44fbbd2"
      },
      "execution_count": null,
      "outputs": [
        {
          "output_type": "stream",
          "name": "stdout",
          "text": [
            "{'isn', 'wouldn', \"aren't\", 'about', 'some', 'was', 'so', 'll', 'below', 'such', 'than', 'were', 'herself', 'why', 'couldn', \"doesn't\", 'but', 'against', \"she's\", \"you've\", 'm', 'these', 'over', 'any', 'very', 'are', \"isn't\", 'here', 'y', 'through', 'that', 'itself', 'if', 'out', 'them', \"haven't\", 'each', \"mightn't\", 'before', 've', 'down', 'because', 'she', 'needn', \"it's\", 'his', \"didn't\", 'off', 'then', 'mustn', 'this', 'you', 'an', 'once', 'just', 'ma', 'between', 'above', 'and', 'its', 'whom', 'didn', \"you'd\", \"mustn't\", 'haven', \"won't\", 'until', 'is', 'ain', 'they', 'only', \"hasn't\", 'of', 'which', 'those', 'been', 'same', 'o', 'their', 'hers', 'ourselves', 'yourselves', 'a', 'being', 'has', 'had', 's', 'now', 'doing', 'me', 'ours', 'again', 'should', 'nor', 'yours', 'further', 'doesn', 'our', 'yourself', 'do', 'up', 'at', 'hasn', 'where', 'on', \"wasn't\", \"should've\", 'him', 'into', 'shan', 'what', 'themselves', 'or', \"don't\", 'will', 'after', 'd', 'i', 'have', 'having', 'be', 'for', 'shouldn', \"that'll\", 'don', 'her', 'myself', 'under', \"you're\", 'to', 'hadn', \"weren't\", 'by', 'your', 'there', 'it', \"hadn't\", 'aren', 'who', \"couldn't\", 'my', 'we', 'most', 'in', 'own', 'the', 'mightn', 'weren', 'won', 'when', 'am', 't', 'does', \"wouldn't\", 'as', 'with', 'other', 'all', 'he', 'theirs', \"shouldn't\", 'few', 'more', 'while', 'from', 'can', \"you'll\", 'himself', 'did', 'during', 're', 'how', 'too', \"shan't\", 'both', 'not', \"needn't\", 'wasn', 'no'}\n"
          ]
        },
        {
          "output_type": "stream",
          "name": "stderr",
          "text": [
            "[nltk_data] Downloading package stopwords to /root/nltk_data...\n",
            "[nltk_data]   Package stopwords is already up-to-date!\n"
          ]
        }
      ]
    },
    {
      "cell_type": "code",
      "source": [
        "# we'll use lemmatized version\n",
        "\n",
        "list_final = []\n",
        "\n",
        "for words in list_lemmatized:\n",
        "  removed = []\n",
        "  for word in words:\n",
        "    if word not in stop_words:\n",
        "      removed.append(word)\n",
        "  print(removed)"
      ],
      "metadata": {
        "colab": {
          "base_uri": "https://localhost:8080/"
        },
        "id": "_6bwd-h4zeGK",
        "outputId": "59c05873-e921-4c07-ca7b-b138b7d6dfb8"
      },
      "execution_count": null,
      "outputs": [
        {
          "output_type": "stream",
          "name": "stdout",
          "text": [
            "['see', 'flick', 'encw', 'last', 'nite', 'third', 'fourth', 'time', 'enjoy', 'much', 'I', 'order', 'dvd', 'really', 'standout', 'course', 'first', 'mann', 'stewart', 'pairing', 'usual', 'oater', 'although', 'quite', 'powerful', 'searcher', 'lot', 'obvious', 'symbolism', 'achieve', 'manhood', 'mainly', 'acting', 'stewart', 'partner', 'millard', 'mitchell', 'shelly', 'winter', 'waco', 'johnny', 'dean', 'dan', 'duryea', 'steve', 'miller', 'joker', 'interesting', 'handsome', 'would', 'hero', 'interested', 'lola', 'yellow', 'like', 'stewart', 'man', 'kill', 'liberty', 'valance', 'practically', 'reduced', 'put', 'apron', 'serve', 'enemy', 'coffee', 'decaf', 'doubt', 'tony', 'curtis', 'bronx', 'cavalry', 'rock', 'hudson', 'behave', 'like', 'indian', 'I', 'see', 'screen', 'interesting', 'cameo', 'special', 'performance', 'john', 'mcintire', 'lucky', 'card', 'deal', 'gun', 'trader', 'hang', 'low', 'grade', 'western', 'version', 'rick', 'american', 'cafe', 'nobody', 'want', 'spend', 'night', 'jay', 'c', 'flippen', 'kiss', 'lola', 'winter', 'nice', 'scene', 'stewart', 'get', 'bend', 'river', 'far', 'country', 'geer', 'wyatt', 'earp', 'indian', 'chief', 'take', 'walter', 'brennan', 'tooth', 'red', 'river', 'pleasant', 'sighting', 'kind', 'western', 'stewart', 'wayne', 'scott', 'could', 'pull', 'worth', 'shot', 'I', 'repeat']\n",
            "['film', 'take', 'inside', 'early', 'minute', 'hold', 'till', 'end', 'humane', 'story', 'good', 'select', 'music', 'acting', 'moritz', 'bleibtreu', 'giancarlo', 'amato', 'barnaby', 'metschurat', 'gigi', 'amato', 'satisfy', 'recommend', 'people', 'get', 'bore', 'action', 'film', 'want', 'see', 'good', 'movie']\n"
          ]
        }
      ]
    },
    {
      "cell_type": "code",
      "source": [
        "# tokenization process can be handled by TfidfVectorizer\n",
        "# process like lemmatization or stemming must be done separately\n",
        "# stemming: rule-based, lemmatization: dictionary lookup\n",
        "\n",
        "import spacy\n",
        "\n",
        "nlp = spacy.load('en_core_web_sm')\n",
        "lemmatized_corpus = []\n",
        "\n",
        "for sentence in corpus:\n",
        "  doc = nlp(sentence)\n",
        "  lemmatized = [token.lemma_ for token in doc if str(token)]\n",
        "  lemmatized_corpus.append(\" \".join(lemmatized))"
      ],
      "metadata": {
        "id": "RFoHNI0yfygm"
      },
      "execution_count": null,
      "outputs": []
    },
    {
      "cell_type": "code",
      "source": [
        "from sklearn.feature_extraction.text import TfidfVectorizer\n",
        "\n",
        "# sublinear tf is for 'normalization'\n",
        "vectorizer = TfidfVectorizer(stop_words='english', sublinear_tf=True)\n",
        "\n",
        "X = vectorizer.fit_transform(lemmatized_corpus)"
      ],
      "metadata": {
        "id": "EEinU0wKfDJG"
      },
      "execution_count": null,
      "outputs": []
    },
    {
      "cell_type": "code",
      "source": [
        "tokens = vectorizer.get_feature_names_out()\n",
        "tokens.shape"
      ],
      "metadata": {
        "colab": {
          "base_uri": "https://localhost:8080/"
        },
        "id": "JBYOI_bjiNuX",
        "outputId": "3fb3f1cb-6e2b-4366-be18-166f3fe4f54e"
      },
      "execution_count": null,
      "outputs": [
        {
          "output_type": "execute_result",
          "data": {
            "text/plain": [
              "(11621,)"
            ]
          },
          "metadata": {},
          "execution_count": 17
        }
      ]
    },
    {
      "cell_type": "code",
      "source": [
        "tokens[:100]"
      ],
      "metadata": {
        "colab": {
          "base_uri": "https://localhost:8080/"
        },
        "id": "6bQoP72_jgSU",
        "outputId": "6502e1e5-b6e2-4dd1-a0b8-96751100f63c"
      },
      "execution_count": null,
      "outputs": [
        {
          "output_type": "execute_result",
          "data": {
            "text/plain": [
              "array(['00', '000', '0080', '00pm', '02', '05', '06', '08', '10', '100',\n",
              "       '1000', '107', '10th', '11', '110', '116', '12', '120', '12th',\n",
              "       '13', '131', '13th', '14', '1408', '14th', '15', '150', '157',\n",
              "       '16', '16éme', '17', '18', '1824', '1850', '1890', '1895', '18th',\n",
              "       '19', '1914', '1916', '1920s', '1924', '1926', '1927', '1930',\n",
              "       '1933', '1934', '1936', '1939', '1940', '1944', '1945', '1948',\n",
              "       '1950', '1950s', '1953', '1954', '1955', '1957', '1958', '1959',\n",
              "       '1960', '1964', '1965', '1966', '1968', '1969', '1970', '1970s',\n",
              "       '1971', '1972', '1973', '1974', '1977', '1978', '1980', '1980s',\n",
              "       '1982', '1983', '1984', '1985', '1986', '1987', '1988', '1990',\n",
              "       '1991', '1994', '1995', '1996', '1997', '1998', '1999', '19th',\n",
              "       '20', '2000', '2001', '2002', '2003', '2004', '2005'], dtype=object)"
            ]
          },
          "metadata": {},
          "execution_count": 18
        }
      ]
    },
    {
      "cell_type": "code",
      "source": [
        "X.shape"
      ],
      "metadata": {
        "colab": {
          "base_uri": "https://localhost:8080/"
        },
        "id": "Z_LrdqnpiWDM",
        "outputId": "ed500a9a-c0c5-46cc-dde5-d94284b2e404"
      },
      "execution_count": null,
      "outputs": [
        {
          "output_type": "execute_result",
          "data": {
            "text/plain": [
              "(625, 11621)"
            ]
          },
          "metadata": {},
          "execution_count": 19
        }
      ]
    },
    {
      "cell_type": "code",
      "source": [
        "# look at the df, very sparse (too many zeros)\n",
        "df_tfidf = pd.DataFrame(data=X.toarray(), columns=tokens)\n",
        "df_tfidf.head(10)"
      ],
      "metadata": {
        "id": "oBdwzstYinnW",
        "colab": {
          "base_uri": "https://localhost:8080/",
          "height": 392
        },
        "outputId": "d5cc3fad-02f5-41fe-8359-f901e0353083"
      },
      "execution_count": null,
      "outputs": [
        {
          "output_type": "execute_result",
          "data": {
            "text/plain": [
              "    00  000  0080  00pm   02   05   06   08        10       100  ...  zoltan  \\\n",
              "0  0.0  0.0   0.0   0.0  0.0  0.0  0.0  0.0  0.000000  0.000000  ...     0.0   \n",
              "1  0.0  0.0   0.0   0.0  0.0  0.0  0.0  0.0  0.000000  0.000000  ...     0.0   \n",
              "2  0.0  0.0   0.0   0.0  0.0  0.0  0.0  0.0  0.000000  0.000000  ...     0.0   \n",
              "3  0.0  0.0   0.0   0.0  0.0  0.0  0.0  0.0  0.000000  0.121829  ...     0.0   \n",
              "4  0.0  0.0   0.0   0.0  0.0  0.0  0.0  0.0  0.000000  0.000000  ...     0.0   \n",
              "5  0.0  0.0   0.0   0.0  0.0  0.0  0.0  0.0  0.000000  0.000000  ...     0.0   \n",
              "6  0.0  0.0   0.0   0.0  0.0  0.0  0.0  0.0  0.000000  0.000000  ...     0.0   \n",
              "7  0.0  0.0   0.0   0.0  0.0  0.0  0.0  0.0  0.000000  0.000000  ...     0.0   \n",
              "8  0.0  0.0   0.0   0.0  0.0  0.0  0.0  0.0  0.058741  0.000000  ...     0.0   \n",
              "9  0.0  0.0   0.0   0.0  0.0  0.0  0.0  0.0  0.000000  0.000000  ...     0.0   \n",
              "\n",
              "   zombi  zombie      zone  zoo  zoom  zorro   zp  zulu  zzzzzzzzzzzzz  \n",
              "0    0.0     0.0  0.000000  0.0   0.0    0.0  0.0   0.0            0.0  \n",
              "1    0.0     0.0  0.000000  0.0   0.0    0.0  0.0   0.0            0.0  \n",
              "2    0.0     0.0  0.000000  0.0   0.0    0.0  0.0   0.0            0.0  \n",
              "3    0.0     0.0  0.000000  0.0   0.0    0.0  0.0   0.0            0.0  \n",
              "4    0.0     0.0  0.000000  0.0   0.0    0.0  0.0   0.0            0.0  \n",
              "5    0.0     0.0  0.000000  0.0   0.0    0.0  0.0   0.0            0.0  \n",
              "6    0.0     0.0  0.000000  0.0   0.0    0.0  0.0   0.0            0.0  \n",
              "7    0.0     0.0  0.119522  0.0   0.0    0.0  0.0   0.0            0.0  \n",
              "8    0.0     0.0  0.000000  0.0   0.0    0.0  0.0   0.0            0.0  \n",
              "9    0.0     0.0  0.000000  0.0   0.0    0.0  0.0   0.0            0.0  \n",
              "\n",
              "[10 rows x 11621 columns]"
            ],
            "text/html": [
              "\n",
              "  <div id=\"df-09618cbc-c338-41a5-bdc8-660f62f5f52a\" class=\"colab-df-container\">\n",
              "    <div>\n",
              "<style scoped>\n",
              "    .dataframe tbody tr th:only-of-type {\n",
              "        vertical-align: middle;\n",
              "    }\n",
              "\n",
              "    .dataframe tbody tr th {\n",
              "        vertical-align: top;\n",
              "    }\n",
              "\n",
              "    .dataframe thead th {\n",
              "        text-align: right;\n",
              "    }\n",
              "</style>\n",
              "<table border=\"1\" class=\"dataframe\">\n",
              "  <thead>\n",
              "    <tr style=\"text-align: right;\">\n",
              "      <th></th>\n",
              "      <th>00</th>\n",
              "      <th>000</th>\n",
              "      <th>0080</th>\n",
              "      <th>00pm</th>\n",
              "      <th>02</th>\n",
              "      <th>05</th>\n",
              "      <th>06</th>\n",
              "      <th>08</th>\n",
              "      <th>10</th>\n",
              "      <th>100</th>\n",
              "      <th>...</th>\n",
              "      <th>zoltan</th>\n",
              "      <th>zombi</th>\n",
              "      <th>zombie</th>\n",
              "      <th>zone</th>\n",
              "      <th>zoo</th>\n",
              "      <th>zoom</th>\n",
              "      <th>zorro</th>\n",
              "      <th>zp</th>\n",
              "      <th>zulu</th>\n",
              "      <th>zzzzzzzzzzzzz</th>\n",
              "    </tr>\n",
              "  </thead>\n",
              "  <tbody>\n",
              "    <tr>\n",
              "      <th>0</th>\n",
              "      <td>0.0</td>\n",
              "      <td>0.0</td>\n",
              "      <td>0.0</td>\n",
              "      <td>0.0</td>\n",
              "      <td>0.0</td>\n",
              "      <td>0.0</td>\n",
              "      <td>0.0</td>\n",
              "      <td>0.0</td>\n",
              "      <td>0.000000</td>\n",
              "      <td>0.000000</td>\n",
              "      <td>...</td>\n",
              "      <td>0.0</td>\n",
              "      <td>0.0</td>\n",
              "      <td>0.0</td>\n",
              "      <td>0.000000</td>\n",
              "      <td>0.0</td>\n",
              "      <td>0.0</td>\n",
              "      <td>0.0</td>\n",
              "      <td>0.0</td>\n",
              "      <td>0.0</td>\n",
              "      <td>0.0</td>\n",
              "    </tr>\n",
              "    <tr>\n",
              "      <th>1</th>\n",
              "      <td>0.0</td>\n",
              "      <td>0.0</td>\n",
              "      <td>0.0</td>\n",
              "      <td>0.0</td>\n",
              "      <td>0.0</td>\n",
              "      <td>0.0</td>\n",
              "      <td>0.0</td>\n",
              "      <td>0.0</td>\n",
              "      <td>0.000000</td>\n",
              "      <td>0.000000</td>\n",
              "      <td>...</td>\n",
              "      <td>0.0</td>\n",
              "      <td>0.0</td>\n",
              "      <td>0.0</td>\n",
              "      <td>0.000000</td>\n",
              "      <td>0.0</td>\n",
              "      <td>0.0</td>\n",
              "      <td>0.0</td>\n",
              "      <td>0.0</td>\n",
              "      <td>0.0</td>\n",
              "      <td>0.0</td>\n",
              "    </tr>\n",
              "    <tr>\n",
              "      <th>2</th>\n",
              "      <td>0.0</td>\n",
              "      <td>0.0</td>\n",
              "      <td>0.0</td>\n",
              "      <td>0.0</td>\n",
              "      <td>0.0</td>\n",
              "      <td>0.0</td>\n",
              "      <td>0.0</td>\n",
              "      <td>0.0</td>\n",
              "      <td>0.000000</td>\n",
              "      <td>0.000000</td>\n",
              "      <td>...</td>\n",
              "      <td>0.0</td>\n",
              "      <td>0.0</td>\n",
              "      <td>0.0</td>\n",
              "      <td>0.000000</td>\n",
              "      <td>0.0</td>\n",
              "      <td>0.0</td>\n",
              "      <td>0.0</td>\n",
              "      <td>0.0</td>\n",
              "      <td>0.0</td>\n",
              "      <td>0.0</td>\n",
              "    </tr>\n",
              "    <tr>\n",
              "      <th>3</th>\n",
              "      <td>0.0</td>\n",
              "      <td>0.0</td>\n",
              "      <td>0.0</td>\n",
              "      <td>0.0</td>\n",
              "      <td>0.0</td>\n",
              "      <td>0.0</td>\n",
              "      <td>0.0</td>\n",
              "      <td>0.0</td>\n",
              "      <td>0.000000</td>\n",
              "      <td>0.121829</td>\n",
              "      <td>...</td>\n",
              "      <td>0.0</td>\n",
              "      <td>0.0</td>\n",
              "      <td>0.0</td>\n",
              "      <td>0.000000</td>\n",
              "      <td>0.0</td>\n",
              "      <td>0.0</td>\n",
              "      <td>0.0</td>\n",
              "      <td>0.0</td>\n",
              "      <td>0.0</td>\n",
              "      <td>0.0</td>\n",
              "    </tr>\n",
              "    <tr>\n",
              "      <th>4</th>\n",
              "      <td>0.0</td>\n",
              "      <td>0.0</td>\n",
              "      <td>0.0</td>\n",
              "      <td>0.0</td>\n",
              "      <td>0.0</td>\n",
              "      <td>0.0</td>\n",
              "      <td>0.0</td>\n",
              "      <td>0.0</td>\n",
              "      <td>0.000000</td>\n",
              "      <td>0.000000</td>\n",
              "      <td>...</td>\n",
              "      <td>0.0</td>\n",
              "      <td>0.0</td>\n",
              "      <td>0.0</td>\n",
              "      <td>0.000000</td>\n",
              "      <td>0.0</td>\n",
              "      <td>0.0</td>\n",
              "      <td>0.0</td>\n",
              "      <td>0.0</td>\n",
              "      <td>0.0</td>\n",
              "      <td>0.0</td>\n",
              "    </tr>\n",
              "    <tr>\n",
              "      <th>5</th>\n",
              "      <td>0.0</td>\n",
              "      <td>0.0</td>\n",
              "      <td>0.0</td>\n",
              "      <td>0.0</td>\n",
              "      <td>0.0</td>\n",
              "      <td>0.0</td>\n",
              "      <td>0.0</td>\n",
              "      <td>0.0</td>\n",
              "      <td>0.000000</td>\n",
              "      <td>0.000000</td>\n",
              "      <td>...</td>\n",
              "      <td>0.0</td>\n",
              "      <td>0.0</td>\n",
              "      <td>0.0</td>\n",
              "      <td>0.000000</td>\n",
              "      <td>0.0</td>\n",
              "      <td>0.0</td>\n",
              "      <td>0.0</td>\n",
              "      <td>0.0</td>\n",
              "      <td>0.0</td>\n",
              "      <td>0.0</td>\n",
              "    </tr>\n",
              "    <tr>\n",
              "      <th>6</th>\n",
              "      <td>0.0</td>\n",
              "      <td>0.0</td>\n",
              "      <td>0.0</td>\n",
              "      <td>0.0</td>\n",
              "      <td>0.0</td>\n",
              "      <td>0.0</td>\n",
              "      <td>0.0</td>\n",
              "      <td>0.0</td>\n",
              "      <td>0.000000</td>\n",
              "      <td>0.000000</td>\n",
              "      <td>...</td>\n",
              "      <td>0.0</td>\n",
              "      <td>0.0</td>\n",
              "      <td>0.0</td>\n",
              "      <td>0.000000</td>\n",
              "      <td>0.0</td>\n",
              "      <td>0.0</td>\n",
              "      <td>0.0</td>\n",
              "      <td>0.0</td>\n",
              "      <td>0.0</td>\n",
              "      <td>0.0</td>\n",
              "    </tr>\n",
              "    <tr>\n",
              "      <th>7</th>\n",
              "      <td>0.0</td>\n",
              "      <td>0.0</td>\n",
              "      <td>0.0</td>\n",
              "      <td>0.0</td>\n",
              "      <td>0.0</td>\n",
              "      <td>0.0</td>\n",
              "      <td>0.0</td>\n",
              "      <td>0.0</td>\n",
              "      <td>0.000000</td>\n",
              "      <td>0.000000</td>\n",
              "      <td>...</td>\n",
              "      <td>0.0</td>\n",
              "      <td>0.0</td>\n",
              "      <td>0.0</td>\n",
              "      <td>0.119522</td>\n",
              "      <td>0.0</td>\n",
              "      <td>0.0</td>\n",
              "      <td>0.0</td>\n",
              "      <td>0.0</td>\n",
              "      <td>0.0</td>\n",
              "      <td>0.0</td>\n",
              "    </tr>\n",
              "    <tr>\n",
              "      <th>8</th>\n",
              "      <td>0.0</td>\n",
              "      <td>0.0</td>\n",
              "      <td>0.0</td>\n",
              "      <td>0.0</td>\n",
              "      <td>0.0</td>\n",
              "      <td>0.0</td>\n",
              "      <td>0.0</td>\n",
              "      <td>0.0</td>\n",
              "      <td>0.058741</td>\n",
              "      <td>0.000000</td>\n",
              "      <td>...</td>\n",
              "      <td>0.0</td>\n",
              "      <td>0.0</td>\n",
              "      <td>0.0</td>\n",
              "      <td>0.000000</td>\n",
              "      <td>0.0</td>\n",
              "      <td>0.0</td>\n",
              "      <td>0.0</td>\n",
              "      <td>0.0</td>\n",
              "      <td>0.0</td>\n",
              "      <td>0.0</td>\n",
              "    </tr>\n",
              "    <tr>\n",
              "      <th>9</th>\n",
              "      <td>0.0</td>\n",
              "      <td>0.0</td>\n",
              "      <td>0.0</td>\n",
              "      <td>0.0</td>\n",
              "      <td>0.0</td>\n",
              "      <td>0.0</td>\n",
              "      <td>0.0</td>\n",
              "      <td>0.0</td>\n",
              "      <td>0.000000</td>\n",
              "      <td>0.000000</td>\n",
              "      <td>...</td>\n",
              "      <td>0.0</td>\n",
              "      <td>0.0</td>\n",
              "      <td>0.0</td>\n",
              "      <td>0.000000</td>\n",
              "      <td>0.0</td>\n",
              "      <td>0.0</td>\n",
              "      <td>0.0</td>\n",
              "      <td>0.0</td>\n",
              "      <td>0.0</td>\n",
              "      <td>0.0</td>\n",
              "    </tr>\n",
              "  </tbody>\n",
              "</table>\n",
              "<p>10 rows × 11621 columns</p>\n",
              "</div>\n",
              "    <div class=\"colab-df-buttons\">\n",
              "\n",
              "  <div class=\"colab-df-container\">\n",
              "    <button class=\"colab-df-convert\" onclick=\"convertToInteractive('df-09618cbc-c338-41a5-bdc8-660f62f5f52a')\"\n",
              "            title=\"Convert this dataframe to an interactive table.\"\n",
              "            style=\"display:none;\">\n",
              "\n",
              "  <svg xmlns=\"http://www.w3.org/2000/svg\" height=\"24px\" viewBox=\"0 -960 960 960\">\n",
              "    <path d=\"M120-120v-720h720v720H120Zm60-500h600v-160H180v160Zm220 220h160v-160H400v160Zm0 220h160v-160H400v160ZM180-400h160v-160H180v160Zm440 0h160v-160H620v160ZM180-180h160v-160H180v160Zm440 0h160v-160H620v160Z\"/>\n",
              "  </svg>\n",
              "    </button>\n",
              "\n",
              "  <style>\n",
              "    .colab-df-container {\n",
              "      display:flex;\n",
              "      gap: 12px;\n",
              "    }\n",
              "\n",
              "    .colab-df-convert {\n",
              "      background-color: #E8F0FE;\n",
              "      border: none;\n",
              "      border-radius: 50%;\n",
              "      cursor: pointer;\n",
              "      display: none;\n",
              "      fill: #1967D2;\n",
              "      height: 32px;\n",
              "      padding: 0 0 0 0;\n",
              "      width: 32px;\n",
              "    }\n",
              "\n",
              "    .colab-df-convert:hover {\n",
              "      background-color: #E2EBFA;\n",
              "      box-shadow: 0px 1px 2px rgba(60, 64, 67, 0.3), 0px 1px 3px 1px rgba(60, 64, 67, 0.15);\n",
              "      fill: #174EA6;\n",
              "    }\n",
              "\n",
              "    .colab-df-buttons div {\n",
              "      margin-bottom: 4px;\n",
              "    }\n",
              "\n",
              "    [theme=dark] .colab-df-convert {\n",
              "      background-color: #3B4455;\n",
              "      fill: #D2E3FC;\n",
              "    }\n",
              "\n",
              "    [theme=dark] .colab-df-convert:hover {\n",
              "      background-color: #434B5C;\n",
              "      box-shadow: 0px 1px 3px 1px rgba(0, 0, 0, 0.15);\n",
              "      filter: drop-shadow(0px 1px 2px rgba(0, 0, 0, 0.3));\n",
              "      fill: #FFFFFF;\n",
              "    }\n",
              "  </style>\n",
              "\n",
              "    <script>\n",
              "      const buttonEl =\n",
              "        document.querySelector('#df-09618cbc-c338-41a5-bdc8-660f62f5f52a button.colab-df-convert');\n",
              "      buttonEl.style.display =\n",
              "        google.colab.kernel.accessAllowed ? 'block' : 'none';\n",
              "\n",
              "      async function convertToInteractive(key) {\n",
              "        const element = document.querySelector('#df-09618cbc-c338-41a5-bdc8-660f62f5f52a');\n",
              "        const dataTable =\n",
              "          await google.colab.kernel.invokeFunction('convertToInteractive',\n",
              "                                                    [key], {});\n",
              "        if (!dataTable) return;\n",
              "\n",
              "        const docLinkHtml = 'Like what you see? Visit the ' +\n",
              "          '<a target=\"_blank\" href=https://colab.research.google.com/notebooks/data_table.ipynb>data table notebook</a>'\n",
              "          + ' to learn more about interactive tables.';\n",
              "        element.innerHTML = '';\n",
              "        dataTable['output_type'] = 'display_data';\n",
              "        await google.colab.output.renderOutput(dataTable, element);\n",
              "        const docLink = document.createElement('div');\n",
              "        docLink.innerHTML = docLinkHtml;\n",
              "        element.appendChild(docLink);\n",
              "      }\n",
              "    </script>\n",
              "  </div>\n",
              "\n",
              "\n",
              "<div id=\"df-6f1728d9-3004-48f7-8280-44605385a240\">\n",
              "  <button class=\"colab-df-quickchart\" onclick=\"quickchart('df-6f1728d9-3004-48f7-8280-44605385a240')\"\n",
              "            title=\"Suggest charts\"\n",
              "            style=\"display:none;\">\n",
              "\n",
              "<svg xmlns=\"http://www.w3.org/2000/svg\" height=\"24px\"viewBox=\"0 0 24 24\"\n",
              "     width=\"24px\">\n",
              "    <g>\n",
              "        <path d=\"M19 3H5c-1.1 0-2 .9-2 2v14c0 1.1.9 2 2 2h14c1.1 0 2-.9 2-2V5c0-1.1-.9-2-2-2zM9 17H7v-7h2v7zm4 0h-2V7h2v10zm4 0h-2v-4h2v4z\"/>\n",
              "    </g>\n",
              "</svg>\n",
              "  </button>\n",
              "\n",
              "<style>\n",
              "  .colab-df-quickchart {\n",
              "      --bg-color: #E8F0FE;\n",
              "      --fill-color: #1967D2;\n",
              "      --hover-bg-color: #E2EBFA;\n",
              "      --hover-fill-color: #174EA6;\n",
              "      --disabled-fill-color: #AAA;\n",
              "      --disabled-bg-color: #DDD;\n",
              "  }\n",
              "\n",
              "  [theme=dark] .colab-df-quickchart {\n",
              "      --bg-color: #3B4455;\n",
              "      --fill-color: #D2E3FC;\n",
              "      --hover-bg-color: #434B5C;\n",
              "      --hover-fill-color: #FFFFFF;\n",
              "      --disabled-bg-color: #3B4455;\n",
              "      --disabled-fill-color: #666;\n",
              "  }\n",
              "\n",
              "  .colab-df-quickchart {\n",
              "    background-color: var(--bg-color);\n",
              "    border: none;\n",
              "    border-radius: 50%;\n",
              "    cursor: pointer;\n",
              "    display: none;\n",
              "    fill: var(--fill-color);\n",
              "    height: 32px;\n",
              "    padding: 0;\n",
              "    width: 32px;\n",
              "  }\n",
              "\n",
              "  .colab-df-quickchart:hover {\n",
              "    background-color: var(--hover-bg-color);\n",
              "    box-shadow: 0 1px 2px rgba(60, 64, 67, 0.3), 0 1px 3px 1px rgba(60, 64, 67, 0.15);\n",
              "    fill: var(--button-hover-fill-color);\n",
              "  }\n",
              "\n",
              "  .colab-df-quickchart-complete:disabled,\n",
              "  .colab-df-quickchart-complete:disabled:hover {\n",
              "    background-color: var(--disabled-bg-color);\n",
              "    fill: var(--disabled-fill-color);\n",
              "    box-shadow: none;\n",
              "  }\n",
              "\n",
              "  .colab-df-spinner {\n",
              "    border: 2px solid var(--fill-color);\n",
              "    border-color: transparent;\n",
              "    border-bottom-color: var(--fill-color);\n",
              "    animation:\n",
              "      spin 1s steps(1) infinite;\n",
              "  }\n",
              "\n",
              "  @keyframes spin {\n",
              "    0% {\n",
              "      border-color: transparent;\n",
              "      border-bottom-color: var(--fill-color);\n",
              "      border-left-color: var(--fill-color);\n",
              "    }\n",
              "    20% {\n",
              "      border-color: transparent;\n",
              "      border-left-color: var(--fill-color);\n",
              "      border-top-color: var(--fill-color);\n",
              "    }\n",
              "    30% {\n",
              "      border-color: transparent;\n",
              "      border-left-color: var(--fill-color);\n",
              "      border-top-color: var(--fill-color);\n",
              "      border-right-color: var(--fill-color);\n",
              "    }\n",
              "    40% {\n",
              "      border-color: transparent;\n",
              "      border-right-color: var(--fill-color);\n",
              "      border-top-color: var(--fill-color);\n",
              "    }\n",
              "    60% {\n",
              "      border-color: transparent;\n",
              "      border-right-color: var(--fill-color);\n",
              "    }\n",
              "    80% {\n",
              "      border-color: transparent;\n",
              "      border-right-color: var(--fill-color);\n",
              "      border-bottom-color: var(--fill-color);\n",
              "    }\n",
              "    90% {\n",
              "      border-color: transparent;\n",
              "      border-bottom-color: var(--fill-color);\n",
              "    }\n",
              "  }\n",
              "</style>\n",
              "\n",
              "  <script>\n",
              "    async function quickchart(key) {\n",
              "      const quickchartButtonEl =\n",
              "        document.querySelector('#' + key + ' button');\n",
              "      quickchartButtonEl.disabled = true;  // To prevent multiple clicks.\n",
              "      quickchartButtonEl.classList.add('colab-df-spinner');\n",
              "      try {\n",
              "        const charts = await google.colab.kernel.invokeFunction(\n",
              "            'suggestCharts', [key], {});\n",
              "      } catch (error) {\n",
              "        console.error('Error during call to suggestCharts:', error);\n",
              "      }\n",
              "      quickchartButtonEl.classList.remove('colab-df-spinner');\n",
              "      quickchartButtonEl.classList.add('colab-df-quickchart-complete');\n",
              "    }\n",
              "    (() => {\n",
              "      let quickchartButtonEl =\n",
              "        document.querySelector('#df-6f1728d9-3004-48f7-8280-44605385a240 button');\n",
              "      quickchartButtonEl.style.display =\n",
              "        google.colab.kernel.accessAllowed ? 'block' : 'none';\n",
              "    })();\n",
              "  </script>\n",
              "</div>\n",
              "    </div>\n",
              "  </div>\n"
            ],
            "application/vnd.google.colaboratory.intrinsic+json": {
              "type": "dataframe",
              "variable_name": "df_tfidf"
            }
          },
          "metadata": {},
          "execution_count": 20
        }
      ]
    },
    {
      "cell_type": "markdown",
      "source": [
        "There are many disadvantages in using sparse representation, for example it costs lots of space. We will try different approach, such as using dense representation. To get the dense representation, you can use several techniques, such as using neural network-based LM, etc."
      ],
      "metadata": {
        "id": "Iab5yfF2kXPz"
      }
    },
    {
      "cell_type": "markdown",
      "source": [
        "We are going to use sentence embedding, i.e. each sentence is represented by a certain vector. There is also word embedding, which means each word is represented by a certain vector."
      ],
      "metadata": {
        "id": "IVNEeUsEm5Zz"
      }
    },
    {
      "cell_type": "code",
      "source": [
        "!pip install gensim"
      ],
      "metadata": {
        "colab": {
          "base_uri": "https://localhost:8080/"
        },
        "id": "-vIVjCOPTmsU",
        "outputId": "3c692a77-b7e8-4058-99de-c71ddea24bd4"
      },
      "execution_count": null,
      "outputs": [
        {
          "output_type": "stream",
          "name": "stdout",
          "text": [
            "Requirement already satisfied: gensim in /usr/local/lib/python3.10/dist-packages (4.3.2)\n",
            "Requirement already satisfied: numpy>=1.18.5 in /usr/local/lib/python3.10/dist-packages (from gensim) (1.25.2)\n",
            "Requirement already satisfied: scipy>=1.7.0 in /usr/local/lib/python3.10/dist-packages (from gensim) (1.11.4)\n",
            "Requirement already satisfied: smart-open>=1.8.1 in /usr/local/lib/python3.10/dist-packages (from gensim) (6.4.0)\n"
          ]
        }
      ]
    },
    {
      "cell_type": "code",
      "source": [
        "!pip install -U sentence-transformers"
      ],
      "metadata": {
        "colab": {
          "base_uri": "https://localhost:8080/"
        },
        "id": "vYWM3iBWkvo3",
        "outputId": "317996eb-6f49-4621-c587-3cfa53df5a06"
      },
      "execution_count": null,
      "outputs": [
        {
          "output_type": "stream",
          "name": "stdout",
          "text": [
            "Requirement already satisfied: sentence-transformers in /usr/local/lib/python3.10/dist-packages (2.5.1)\n",
            "Requirement already satisfied: transformers<5.0.0,>=4.32.0 in /usr/local/lib/python3.10/dist-packages (from sentence-transformers) (4.38.2)\n",
            "Requirement already satisfied: tqdm in /usr/local/lib/python3.10/dist-packages (from sentence-transformers) (4.66.2)\n",
            "Requirement already satisfied: torch>=1.11.0 in /usr/local/lib/python3.10/dist-packages (from sentence-transformers) (2.1.0+cu121)\n",
            "Requirement already satisfied: numpy in /usr/local/lib/python3.10/dist-packages (from sentence-transformers) (1.25.2)\n",
            "Requirement already satisfied: scikit-learn in /usr/local/lib/python3.10/dist-packages (from sentence-transformers) (1.2.2)\n",
            "Requirement already satisfied: scipy in /usr/local/lib/python3.10/dist-packages (from sentence-transformers) (1.11.4)\n",
            "Requirement already satisfied: huggingface-hub>=0.15.1 in /usr/local/lib/python3.10/dist-packages (from sentence-transformers) (0.20.3)\n",
            "Requirement already satisfied: Pillow in /usr/local/lib/python3.10/dist-packages (from sentence-transformers) (9.4.0)\n",
            "Requirement already satisfied: filelock in /usr/local/lib/python3.10/dist-packages (from huggingface-hub>=0.15.1->sentence-transformers) (3.13.1)\n",
            "Requirement already satisfied: fsspec>=2023.5.0 in /usr/local/lib/python3.10/dist-packages (from huggingface-hub>=0.15.1->sentence-transformers) (2023.6.0)\n",
            "Requirement already satisfied: requests in /usr/local/lib/python3.10/dist-packages (from huggingface-hub>=0.15.1->sentence-transformers) (2.31.0)\n",
            "Requirement already satisfied: pyyaml>=5.1 in /usr/local/lib/python3.10/dist-packages (from huggingface-hub>=0.15.1->sentence-transformers) (6.0.1)\n",
            "Requirement already satisfied: typing-extensions>=3.7.4.3 in /usr/local/lib/python3.10/dist-packages (from huggingface-hub>=0.15.1->sentence-transformers) (4.10.0)\n",
            "Requirement already satisfied: packaging>=20.9 in /usr/local/lib/python3.10/dist-packages (from huggingface-hub>=0.15.1->sentence-transformers) (23.2)\n",
            "Requirement already satisfied: sympy in /usr/local/lib/python3.10/dist-packages (from torch>=1.11.0->sentence-transformers) (1.12)\n",
            "Requirement already satisfied: networkx in /usr/local/lib/python3.10/dist-packages (from torch>=1.11.0->sentence-transformers) (3.2.1)\n",
            "Requirement already satisfied: jinja2 in /usr/local/lib/python3.10/dist-packages (from torch>=1.11.0->sentence-transformers) (3.1.3)\n",
            "Requirement already satisfied: triton==2.1.0 in /usr/local/lib/python3.10/dist-packages (from torch>=1.11.0->sentence-transformers) (2.1.0)\n",
            "Requirement already satisfied: regex!=2019.12.17 in /usr/local/lib/python3.10/dist-packages (from transformers<5.0.0,>=4.32.0->sentence-transformers) (2023.12.25)\n",
            "Requirement already satisfied: tokenizers<0.19,>=0.14 in /usr/local/lib/python3.10/dist-packages (from transformers<5.0.0,>=4.32.0->sentence-transformers) (0.15.2)\n",
            "Requirement already satisfied: safetensors>=0.4.1 in /usr/local/lib/python3.10/dist-packages (from transformers<5.0.0,>=4.32.0->sentence-transformers) (0.4.2)\n",
            "Requirement already satisfied: joblib>=1.1.1 in /usr/local/lib/python3.10/dist-packages (from scikit-learn->sentence-transformers) (1.3.2)\n",
            "Requirement already satisfied: threadpoolctl>=2.0.0 in /usr/local/lib/python3.10/dist-packages (from scikit-learn->sentence-transformers) (3.3.0)\n",
            "Requirement already satisfied: MarkupSafe>=2.0 in /usr/local/lib/python3.10/dist-packages (from jinja2->torch>=1.11.0->sentence-transformers) (2.1.5)\n",
            "Requirement already satisfied: charset-normalizer<4,>=2 in /usr/local/lib/python3.10/dist-packages (from requests->huggingface-hub>=0.15.1->sentence-transformers) (3.3.2)\n",
            "Requirement already satisfied: idna<4,>=2.5 in /usr/local/lib/python3.10/dist-packages (from requests->huggingface-hub>=0.15.1->sentence-transformers) (3.6)\n",
            "Requirement already satisfied: urllib3<3,>=1.21.1 in /usr/local/lib/python3.10/dist-packages (from requests->huggingface-hub>=0.15.1->sentence-transformers) (2.0.7)\n",
            "Requirement already satisfied: certifi>=2017.4.17 in /usr/local/lib/python3.10/dist-packages (from requests->huggingface-hub>=0.15.1->sentence-transformers) (2024.2.2)\n",
            "Requirement already satisfied: mpmath>=0.19 in /usr/local/lib/python3.10/dist-packages (from sympy->torch>=1.11.0->sentence-transformers) (1.3.0)\n"
          ]
        }
      ]
    },
    {
      "cell_type": "markdown",
      "source": [
        "## Sentence Transformer"
      ],
      "metadata": {
        "id": "GQqtIOXdU3SG"
      }
    },
    {
      "cell_type": "code",
      "source": [
        "from sentence_transformers import SentenceTransformer\n",
        "model = SentenceTransformer(\"all-MiniLM-L6-v2\")"
      ],
      "metadata": {
        "colab": {
          "base_uri": "https://localhost:8080/"
        },
        "id": "KcUKQpM9noQA",
        "outputId": "d5a06acb-41d1-4e91-c6e3-1a908e440ac3"
      },
      "execution_count": null,
      "outputs": [
        {
          "output_type": "stream",
          "name": "stderr",
          "text": [
            "/usr/local/lib/python3.10/dist-packages/torch/_utils.py:831: UserWarning: TypedStorage is deprecated. It will be removed in the future and UntypedStorage will be the only storage class. This should only matter to you if you are using storages directly.  To access UntypedStorage directly, use tensor.untyped_storage() instead of tensor.storage()\n",
            "  return self.fget.__get__(instance, owner)()\n"
          ]
        }
      ]
    },
    {
      "cell_type": "code",
      "source": [
        "# we may want to delete the html tags to improve thr quality of the embedding\n",
        "corpus[0]"
      ],
      "metadata": {
        "colab": {
          "base_uri": "https://localhost:8080/",
          "height": 142
        },
        "id": "KW2daIUG4rXd",
        "outputId": "da6405de-d993-4903-b65b-b9bf652f68f9"
      },
      "execution_count": null,
      "outputs": [
        {
          "output_type": "execute_result",
          "data": {
            "text/plain": [
              "\"Saw this flick on ENCW last nite for the third or fourth time. Enjoyed it so much I ordered the DVD. This really is a standout and of course the first of the Mann-Stewart pairings. More here than the usual oater, although not quite as powerful as The Searchers. Lots of obvious symbolism about achieving manhood but mainly it's the acting by Stewart, his partner Millard Mitchell, Shelly Winters and the Waco Johnny Dean- Dan Duryea. Steve Miller (not The Joker) is interesting as a handsome would be hero who's interested in Lola but too yellow . Like Stewart in The Man Who Killed Liberty Valance, he's practically reduced to putting on an apron and serving his enemies coffee. Decaf no doubt. Tony Curtis from the Bronx Cavalry and Rock Hudson behaving like no Indian I've seen on screen have interesting cameos.<br /><br />Special performances by John McIntire as a too lucky card dealing/gun trader who hangs out at a very low grade Western version of Rick's American Cafe. Nobody wants to spend the night there. Jay C. Flippens out over a kiss from Lola (Winters) and has some nice scenes with Stewart before he gets to Bend of the River and Far Country. Will Geer as Wyatt Earp and the Indian Chief who takes Walter Brennan's teeth from him in Red River are pleasant sightings. This is the kind of western that only Stewart, not Wayne nor Scott could have pulled off. Worth the shot, I repeat. :-)\""
            ],
            "application/vnd.google.colaboratory.intrinsic+json": {
              "type": "string"
            }
          },
          "metadata": {},
          "execution_count": 24
        }
      ]
    },
    {
      "cell_type": "code",
      "source": [
        "import re\n",
        "\n",
        "def remove_html_tags(text):\n",
        "    clean_text = re.sub(r'<[^>]+>', '', text)\n",
        "    return clean_text\n",
        "\n",
        "no_tag_corpus = []\n",
        "for text in corpus:\n",
        "  no_tag_corpus.append(remove_html_tags(text))"
      ],
      "metadata": {
        "id": "ltqfu2ed4_wz"
      },
      "execution_count": null,
      "outputs": []
    },
    {
      "cell_type": "code",
      "source": [
        "# since we are working with neural LM, preprocessing is not that important :)\n",
        "# we can just work with corpus directly\n",
        "\n",
        "embeddings = model.encode(no_tag_corpus, show_progress_bar=True, batch_size=16,\n",
        "                          convert_to_numpy=True)"
      ],
      "metadata": {
        "id": "rM5hY8Jcn3Q2",
        "colab": {
          "base_uri": "https://localhost:8080/",
          "height": 49,
          "referenced_widgets": [
            "5d953e9e8167490bac143f092a9ecb8e",
            "626d24a3057248d8bc7a3830e6dc4650",
            "4e406027abf24fa48d553a1e1c045d99",
            "f055a423889f4df6a9db9b931de069ac",
            "565f1c2e70814bd48a8a776fdc4f5ddc",
            "b0879d3ba58f4a99891700bd1306a0c7",
            "af084a4a784e454caa294e3577386051",
            "0306d740a7204a88af0ed384a15f3e50",
            "970ab0258eb24187bfc2d6f6f105fce2",
            "6bedc2d3f56a40c9b2c9df5bfe03e83f",
            "39886edf61d64355a0dff1cc6f19e95c"
          ]
        },
        "outputId": "9d0cba77-6cf5-4944-9ea8-6af1af00ca03"
      },
      "execution_count": null,
      "outputs": [
        {
          "output_type": "display_data",
          "data": {
            "text/plain": [
              "Batches:   0%|          | 0/40 [00:00<?, ?it/s]"
            ],
            "application/vnd.jupyter.widget-view+json": {
              "version_major": 2,
              "version_minor": 0,
              "model_id": "5d953e9e8167490bac143f092a9ecb8e"
            }
          },
          "metadata": {}
        }
      ]
    },
    {
      "cell_type": "code",
      "source": [
        "embeddings.shape"
      ],
      "metadata": {
        "colab": {
          "base_uri": "https://localhost:8080/"
        },
        "id": "hg3GVzgLog0R",
        "outputId": "f8ff08d8-616b-4773-e6cc-cdac4b66d68e"
      },
      "execution_count": null,
      "outputs": [
        {
          "output_type": "execute_result",
          "data": {
            "text/plain": [
              "(625, 384)"
            ]
          },
          "metadata": {},
          "execution_count": 27
        }
      ]
    },
    {
      "cell_type": "code",
      "source": [
        "embeddings[:5]"
      ],
      "metadata": {
        "colab": {
          "base_uri": "https://localhost:8080/"
        },
        "id": "XetPH7VwU9m7",
        "outputId": "dcfbc56b-5b13-4e2b-9f39-9083ba0486c6"
      },
      "execution_count": null,
      "outputs": [
        {
          "output_type": "execute_result",
          "data": {
            "text/plain": [
              "array([[-0.00452936, -0.07815856, -0.11961856, ..., -0.01341748,\n",
              "        -0.03048457, -0.05786847],\n",
              "       [-0.05727576,  0.02903907, -0.04839392, ...,  0.00311453,\n",
              "         0.00745587,  0.0408071 ],\n",
              "       [-0.09145303, -0.0758906 ,  0.03321736, ..., -0.0048022 ,\n",
              "        -0.03162595, -0.02853993],\n",
              "       [-0.06088375, -0.01528078, -0.00733864, ...,  0.07169186,\n",
              "        -0.05892884, -0.02467585],\n",
              "       [ 0.01919127, -0.04424389,  0.00660097, ...,  0.09294066,\n",
              "        -0.08684059, -0.02921846]], dtype=float32)"
            ]
          },
          "metadata": {},
          "execution_count": 28
        }
      ]
    },
    {
      "cell_type": "markdown",
      "source": [
        "See the difference? (625, 384) vs (625, 11261), which one is better?"
      ],
      "metadata": {
        "id": "sqyZ51dXo9fx"
      }
    },
    {
      "cell_type": "markdown",
      "source": [
        "## Word2Vec"
      ],
      "metadata": {
        "id": "-mGQMJu3VMuP"
      }
    },
    {
      "cell_type": "markdown",
      "source": [
        "This is a word embedding technique to map words to vectors. There are two types of Word2Vec: Continuous Bag of Words (CBOW) and Skip-Gram.\n",
        "![Screenshot-2021-03-05-at-11.webp](data:image/webp;base64,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)"
      ],
      "metadata": {
        "id": "dP_KKSEc0kf8"
      }
    },
    {
      "cell_type": "markdown",
      "source": [
        "Source: https://towardsdatascience.com/nlp-101-word2vec-skip-gram-and-cbow-93512ee24314\n",
        "\n",
        "\n",
        "\n",
        "The main difference is in CBOW, we want to predict center word based on context words, whereas in skip-gram, we want to predict context words based on the center word. Don't worry if you can't understand this pretty well. This tutorial just want you to know on how to use Word2Vec to generate embeddings. You will learn the detail about this more if you are interested in Large Language Models and NLP in general."
      ],
      "metadata": {
        "id": "hEqEFmZT0ucR"
      }
    },
    {
      "cell_type": "markdown",
      "source": [
        "If you want to learn more about Word2Vec, this [blog](https://jalammar.github.io/illustrated-word2vec/) is a good one to start with :)"
      ],
      "metadata": {
        "id": "C9zxdomPqua4"
      }
    },
    {
      "cell_type": "code",
      "source": [
        "# word2vec is a word embedding technique, which maps word to vector\n",
        "from gensim.models import Word2Vec"
      ],
      "metadata": {
        "id": "zalyA4k9VAKL"
      },
      "execution_count": null,
      "outputs": []
    },
    {
      "cell_type": "code",
      "source": [
        "# word2vec receives list of lists of tokens, not list of sentences\n",
        "import string\n",
        "nltk.download('punkt')\n",
        "tokenized_sentences = [[word for word in nltk.word_tokenize(sentence.lower()) if word not in string.punctuation]\n",
        "                       for sentence in no_tag_corpus]"
      ],
      "metadata": {
        "colab": {
          "base_uri": "https://localhost:8080/"
        },
        "id": "pu3g-6eT36q9",
        "outputId": "51b61e8b-f808-4786-9418-9a064ce0e127"
      },
      "execution_count": null,
      "outputs": [
        {
          "output_type": "stream",
          "name": "stderr",
          "text": [
            "[nltk_data] Downloading package punkt to /root/nltk_data...\n",
            "[nltk_data]   Package punkt is already up-to-date!\n"
          ]
        }
      ]
    },
    {
      "cell_type": "code",
      "source": [
        "len(tokenized_sentences)"
      ],
      "metadata": {
        "colab": {
          "base_uri": "https://localhost:8080/"
        },
        "id": "dD2_elyr7R3s",
        "outputId": "6341359b-8ce0-434f-c007-2e2f0585c34f"
      },
      "execution_count": null,
      "outputs": [
        {
          "output_type": "execute_result",
          "data": {
            "text/plain": [
              "625"
            ]
          },
          "metadata": {},
          "execution_count": 68
        }
      ]
    },
    {
      "cell_type": "code",
      "source": [
        "tokenized_sentences[0]"
      ],
      "metadata": {
        "colab": {
          "base_uri": "https://localhost:8080/"
        },
        "id": "d6Rpn2LXAbz1",
        "outputId": "6a2279a2-f47d-453a-8847-32fba948f655"
      },
      "execution_count": null,
      "outputs": [
        {
          "output_type": "execute_result",
          "data": {
            "text/plain": [
              "['saw',\n",
              " 'this',\n",
              " 'flick',\n",
              " 'on',\n",
              " 'encw',\n",
              " 'last',\n",
              " 'nite',\n",
              " 'for',\n",
              " 'the',\n",
              " 'third',\n",
              " 'or',\n",
              " 'fourth',\n",
              " 'time',\n",
              " 'enjoyed',\n",
              " 'it',\n",
              " 'so',\n",
              " 'much',\n",
              " 'i',\n",
              " 'ordered',\n",
              " 'the',\n",
              " 'dvd',\n",
              " 'this',\n",
              " 'really',\n",
              " 'is',\n",
              " 'a',\n",
              " 'standout',\n",
              " 'and',\n",
              " 'of',\n",
              " 'course',\n",
              " 'the',\n",
              " 'first',\n",
              " 'of',\n",
              " 'the',\n",
              " 'mann-stewart',\n",
              " 'pairings',\n",
              " 'more',\n",
              " 'here',\n",
              " 'than',\n",
              " 'the',\n",
              " 'usual',\n",
              " 'oater',\n",
              " 'although',\n",
              " 'not',\n",
              " 'quite',\n",
              " 'as',\n",
              " 'powerful',\n",
              " 'as',\n",
              " 'the',\n",
              " 'searchers',\n",
              " 'lots',\n",
              " 'of',\n",
              " 'obvious',\n",
              " 'symbolism',\n",
              " 'about',\n",
              " 'achieving',\n",
              " 'manhood',\n",
              " 'but',\n",
              " 'mainly',\n",
              " 'it',\n",
              " \"'s\",\n",
              " 'the',\n",
              " 'acting',\n",
              " 'by',\n",
              " 'stewart',\n",
              " 'his',\n",
              " 'partner',\n",
              " 'millard',\n",
              " 'mitchell',\n",
              " 'shelly',\n",
              " 'winters',\n",
              " 'and',\n",
              " 'the',\n",
              " 'waco',\n",
              " 'johnny',\n",
              " 'dean-',\n",
              " 'dan',\n",
              " 'duryea',\n",
              " 'steve',\n",
              " 'miller',\n",
              " 'not',\n",
              " 'the',\n",
              " 'joker',\n",
              " 'is',\n",
              " 'interesting',\n",
              " 'as',\n",
              " 'a',\n",
              " 'handsome',\n",
              " 'would',\n",
              " 'be',\n",
              " 'hero',\n",
              " 'who',\n",
              " \"'s\",\n",
              " 'interested',\n",
              " 'in',\n",
              " 'lola',\n",
              " 'but',\n",
              " 'too',\n",
              " 'yellow',\n",
              " 'like',\n",
              " 'stewart',\n",
              " 'in',\n",
              " 'the',\n",
              " 'man',\n",
              " 'who',\n",
              " 'killed',\n",
              " 'liberty',\n",
              " 'valance',\n",
              " 'he',\n",
              " \"'s\",\n",
              " 'practically',\n",
              " 'reduced',\n",
              " 'to',\n",
              " 'putting',\n",
              " 'on',\n",
              " 'an',\n",
              " 'apron',\n",
              " 'and',\n",
              " 'serving',\n",
              " 'his',\n",
              " 'enemies',\n",
              " 'coffee',\n",
              " 'decaf',\n",
              " 'no',\n",
              " 'doubt',\n",
              " 'tony',\n",
              " 'curtis',\n",
              " 'from',\n",
              " 'the',\n",
              " 'bronx',\n",
              " 'cavalry',\n",
              " 'and',\n",
              " 'rock',\n",
              " 'hudson',\n",
              " 'behaving',\n",
              " 'like',\n",
              " 'no',\n",
              " 'indian',\n",
              " 'i',\n",
              " \"'ve\",\n",
              " 'seen',\n",
              " 'on',\n",
              " 'screen',\n",
              " 'have',\n",
              " 'interesting',\n",
              " 'cameos.special',\n",
              " 'performances',\n",
              " 'by',\n",
              " 'john',\n",
              " 'mcintire',\n",
              " 'as',\n",
              " 'a',\n",
              " 'too',\n",
              " 'lucky',\n",
              " 'card',\n",
              " 'dealing/gun',\n",
              " 'trader',\n",
              " 'who',\n",
              " 'hangs',\n",
              " 'out',\n",
              " 'at',\n",
              " 'a',\n",
              " 'very',\n",
              " 'low',\n",
              " 'grade',\n",
              " 'western',\n",
              " 'version',\n",
              " 'of',\n",
              " 'rick',\n",
              " \"'s\",\n",
              " 'american',\n",
              " 'cafe',\n",
              " 'nobody',\n",
              " 'wants',\n",
              " 'to',\n",
              " 'spend',\n",
              " 'the',\n",
              " 'night',\n",
              " 'there',\n",
              " 'jay',\n",
              " 'c.',\n",
              " 'flippens',\n",
              " 'out',\n",
              " 'over',\n",
              " 'a',\n",
              " 'kiss',\n",
              " 'from',\n",
              " 'lola',\n",
              " 'winters',\n",
              " 'and',\n",
              " 'has',\n",
              " 'some',\n",
              " 'nice',\n",
              " 'scenes',\n",
              " 'with',\n",
              " 'stewart',\n",
              " 'before',\n",
              " 'he',\n",
              " 'gets',\n",
              " 'to',\n",
              " 'bend',\n",
              " 'of',\n",
              " 'the',\n",
              " 'river',\n",
              " 'and',\n",
              " 'far',\n",
              " 'country',\n",
              " 'will',\n",
              " 'geer',\n",
              " 'as',\n",
              " 'wyatt',\n",
              " 'earp',\n",
              " 'and',\n",
              " 'the',\n",
              " 'indian',\n",
              " 'chief',\n",
              " 'who',\n",
              " 'takes',\n",
              " 'walter',\n",
              " 'brennan',\n",
              " \"'s\",\n",
              " 'teeth',\n",
              " 'from',\n",
              " 'him',\n",
              " 'in',\n",
              " 'red',\n",
              " 'river',\n",
              " 'are',\n",
              " 'pleasant',\n",
              " 'sightings',\n",
              " 'this',\n",
              " 'is',\n",
              " 'the',\n",
              " 'kind',\n",
              " 'of',\n",
              " 'western',\n",
              " 'that',\n",
              " 'only',\n",
              " 'stewart',\n",
              " 'not',\n",
              " 'wayne',\n",
              " 'nor',\n",
              " 'scott',\n",
              " 'could',\n",
              " 'have',\n",
              " 'pulled',\n",
              " 'off',\n",
              " 'worth',\n",
              " 'the',\n",
              " 'shot',\n",
              " 'i',\n",
              " 'repeat']"
            ]
          },
          "metadata": {},
          "execution_count": 70
        }
      ]
    },
    {
      "cell_type": "code",
      "source": [
        "# vector_size: dimension of the vector\n",
        "# window: maximum distance between context words and center word\n",
        "# min_count: ignores all words with total frequency (in the corpus) lower than this\n",
        "# sg: 0 if cbow, otherwise skip-gram\n",
        "# workers: to work with multicores\n",
        "# cbow_mean: 0 if we want to use sum to combine the vectors of all context words, 1 if we want to use mean\n",
        "# epochs: number of iteration\n",
        "w2v = Word2Vec(tokenized_sentences, vector_size=200, window=5, min_count=10, sg=0,\n",
        "               workers=2, cbow_mean=1, epochs=100)"
      ],
      "metadata": {
        "id": "_64WvNTB89h4"
      },
      "execution_count": null,
      "outputs": []
    },
    {
      "cell_type": "code",
      "source": [
        "w2v.wv.most_similar(positive=['story'])"
      ],
      "metadata": {
        "colab": {
          "base_uri": "https://localhost:8080/"
        },
        "id": "a3S-AXhQ9yqa",
        "outputId": "5403a1e3-eaf0-4cbe-dbf3-987c023fbe58"
      },
      "execution_count": null,
      "outputs": [
        {
          "output_type": "execute_result",
          "data": {
            "text/plain": [
              "[('tale', 0.43424633145332336),\n",
              " ('plot', 0.35049962997436523),\n",
              " ('entirely', 0.33213192224502563),\n",
              " ('pace', 0.27234119176864624),\n",
              " ('girls', 0.25672295689582825),\n",
              " ('documentary', 0.25610387325286865),\n",
              " ('lives', 0.2528533339500427),\n",
              " ('true', 0.2433776557445526),\n",
              " ('mess', 0.24181145429611206),\n",
              " ('soundtrack', 0.23788896203041077)]"
            ]
          },
          "metadata": {},
          "execution_count": 124
        }
      ]
    },
    {
      "cell_type": "code",
      "source": [
        "w2v.wv.most_similar(positive=['film'])"
      ],
      "metadata": {
        "colab": {
          "base_uri": "https://localhost:8080/"
        },
        "id": "BDoRND3EBV3n",
        "outputId": "1cc084f3-62c8-430e-ca04-d44c0fb357ac"
      },
      "execution_count": null,
      "outputs": [
        {
          "output_type": "execute_result",
          "data": {
            "text/plain": [
              "[('movie', 0.5478914976119995),\n",
              " ('documentary', 0.3718203604221344),\n",
              " ('unfunny', 0.28183937072753906),\n",
              " ('flick', 0.27009209990501404),\n",
              " ('romantic', 0.2586551904678345),\n",
              " ('it', 0.2579587697982788),\n",
              " ('subject', 0.25380319356918335),\n",
              " ('level', 0.24621719121932983),\n",
              " ('references', 0.2451229691505432),\n",
              " ('mess', 0.24363794922828674)]"
            ]
          },
          "metadata": {},
          "execution_count": 134
        }
      ]
    },
    {
      "cell_type": "code",
      "source": [
        "w2v.wv.most_similar(positive=[\"music\"])"
      ],
      "metadata": {
        "colab": {
          "base_uri": "https://localhost:8080/"
        },
        "id": "300NJrE2LIBn",
        "outputId": "79a7db43-df06-4f74-e182-54c8e00caf73"
      },
      "execution_count": null,
      "outputs": [
        {
          "output_type": "execute_result",
          "data": {
            "text/plain": [
              "[('soundtrack', 0.36345747113227844),\n",
              " ('numbers', 0.33683186769485474),\n",
              " ('score', 0.324429988861084),\n",
              " ('sequences', 0.3120436370372772),\n",
              " ('original', 0.3094509541988373),\n",
              " ('magnificent', 0.30712419748306274),\n",
              " ('wonderful', 0.30338558554649353),\n",
              " ('dialog', 0.3001018762588501),\n",
              " ('standards', 0.29321184754371643),\n",
              " ('storyline', 0.28818708658218384)]"
            ]
          },
          "metadata": {},
          "execution_count": 186
        }
      ]
    },
    {
      "cell_type": "markdown",
      "source": [
        "Let's plot the result in a scatterplot to visualize the closeness of the words."
      ],
      "metadata": {
        "id": "S7SnohWKIINv"
      }
    },
    {
      "cell_type": "code",
      "source": [
        "from sklearn.decomposition import PCA\n",
        "import matplotlib.pyplot as plt\n",
        "\n",
        "word = 'music'\n",
        "\n",
        "similar = w2v.wv.most_similar(positive=[word])\n",
        "word_vector_pairs = {}\n",
        "\n",
        "word_vector_pairs[word] = w2v.wv[word]\n",
        "for word, _ in similar:\n",
        "  word_vector_pairs[word] = w2v.wv[word]"
      ],
      "metadata": {
        "id": "EBEFVdE1Ia5V"
      },
      "execution_count": null,
      "outputs": []
    },
    {
      "cell_type": "code",
      "source": [
        "# dimensionality reduction\n",
        "pca = PCA(n_components=2)\n",
        "embeddings = np.array(list(word_vector_pairs.values()))\n",
        "embeddings.shape"
      ],
      "metadata": {
        "colab": {
          "base_uri": "https://localhost:8080/"
        },
        "id": "FUWlLcdwJNtk",
        "outputId": "ecfca63a-97d7-4fbe-877d-8780c87bf3b1"
      },
      "execution_count": null,
      "outputs": [
        {
          "output_type": "execute_result",
          "data": {
            "text/plain": [
              "(11, 200)"
            ]
          },
          "metadata": {},
          "execution_count": 208
        }
      ]
    },
    {
      "cell_type": "code",
      "source": [
        "embeddings_2d = pca.fit_transform(embeddings)"
      ],
      "metadata": {
        "id": "TgTEsqpcJ3FL"
      },
      "execution_count": null,
      "outputs": []
    },
    {
      "cell_type": "code",
      "source": [
        "plt.figure(figsize=(7, 7))\n",
        "plt.scatter(embeddings_2d[:, 0], embeddings_2d[:, 1], marker='o', s=30, alpha=0.5)\n",
        "\n",
        "# Annotate words for visualization\n",
        "for i, word in enumerate(list(word_vector_pairs.keys())):\n",
        "    plt.annotate(word, xy=(embeddings_2d[i, 0], embeddings_2d[i, 1]), xytext=(5, 2), textcoords='offset points', ha='right', va='bottom')\n",
        "plt.show()"
      ],
      "metadata": {
        "colab": {
          "base_uri": "https://localhost:8080/",
          "height": 599
        },
        "id": "WxizewUqKYFN",
        "outputId": "a6f4a4e9-631e-4a26-bfcc-2f5aff3bcde8"
      },
      "execution_count": null,
      "outputs": [
        {
          "output_type": "display_data",
          "data": {
            "text/plain": [
              "<Figure size 700x700 with 1 Axes>"
            ],
            "image/png": "[encoded data removed]"
          },
          "metadata": {}
        }
      ]
    },
    {
      "cell_type": "markdown",
      "source": [
        "What if the word doesn't appear in the corpus?"
      ],
      "metadata": {
        "id": "g7K2yQ7RBUoB"
      }
    },
    {
      "cell_type": "code",
      "source": [
        "w2v.wv.most_similar(positive=['queen'])"
      ],
      "metadata": {
        "colab": {
          "base_uri": "https://localhost:8080/",
          "height": 293
        },
        "id": "vU83HaRKBh32",
        "outputId": "62f7c361-e436-4276-de09-7b6fb47b0d3f"
      },
      "execution_count": null,
      "outputs": [
        {
          "output_type": "error",
          "ename": "KeyError",
          "evalue": "\"Key 'queen' not present in vocabulary\"",
          "traceback": [
            "\u001b[0;31m---------------------------------------------------------------------------\u001b[0m",
            "\u001b[0;31mKeyError\u001b[0m                                  Traceback (most recent call last)",
            "\u001b[0;32m<ipython-input-126-5123e9c96916>\u001b[0m in \u001b[0;36m<cell line: 1>\u001b[0;34m()\u001b[0m\n\u001b[0;32m----> 1\u001b[0;31m \u001b[0mw2v\u001b[0m\u001b[0;34m.\u001b[0m\u001b[0mwv\u001b[0m\u001b[0;34m.\u001b[0m\u001b[0mmost_similar\u001b[0m\u001b[0;34m(\u001b[0m\u001b[0mpositive\u001b[0m\u001b[0;34m=\u001b[0m\u001b[0;34m[\u001b[0m\u001b[0;34m'queen'\u001b[0m\u001b[0;34m]\u001b[0m\u001b[0;34m)\u001b[0m\u001b[0;34m\u001b[0m\u001b[0;34m\u001b[0m\u001b[0m\n\u001b[0m",
            "\u001b[0;32m/usr/local/lib/python3.10/dist-packages/gensim/models/keyedvectors.py\u001b[0m in \u001b[0;36mmost_similar\u001b[0;34m(self, positive, negative, topn, clip_start, clip_end, restrict_vocab, indexer)\u001b[0m\n\u001b[1;32m    839\u001b[0m \u001b[0;34m\u001b[0m\u001b[0m\n\u001b[1;32m    840\u001b[0m         \u001b[0;31m# compute the weighted average of all keys\u001b[0m\u001b[0;34m\u001b[0m\u001b[0;34m\u001b[0m\u001b[0m\n\u001b[0;32m--> 841\u001b[0;31m         \u001b[0mmean\u001b[0m \u001b[0;34m=\u001b[0m \u001b[0mself\u001b[0m\u001b[0;34m.\u001b[0m\u001b[0mget_mean_vector\u001b[0m\u001b[0;34m(\u001b[0m\u001b[0mkeys\u001b[0m\u001b[0;34m,\u001b[0m \u001b[0mweight\u001b[0m\u001b[0;34m,\u001b[0m \u001b[0mpre_normalize\u001b[0m\u001b[0;34m=\u001b[0m\u001b[0;32mTrue\u001b[0m\u001b[0;34m,\u001b[0m \u001b[0mpost_normalize\u001b[0m\u001b[0;34m=\u001b[0m\u001b[0;32mTrue\u001b[0m\u001b[0;34m,\u001b[0m \u001b[0mignore_missing\u001b[0m\u001b[0;34m=\u001b[0m\u001b[0;32mFalse\u001b[0m\u001b[0;34m)\u001b[0m\u001b[0;34m\u001b[0m\u001b[0;34m\u001b[0m\u001b[0m\n\u001b[0m\u001b[1;32m    842\u001b[0m         all_keys = [\n\u001b[1;32m    843\u001b[0m             \u001b[0mself\u001b[0m\u001b[0;34m.\u001b[0m\u001b[0mget_index\u001b[0m\u001b[0;34m(\u001b[0m\u001b[0mkey\u001b[0m\u001b[0;34m)\u001b[0m \u001b[0;32mfor\u001b[0m \u001b[0mkey\u001b[0m \u001b[0;32min\u001b[0m \u001b[0mkeys\u001b[0m \u001b[0;32mif\u001b[0m \u001b[0misinstance\u001b[0m\u001b[0;34m(\u001b[0m\u001b[0mkey\u001b[0m\u001b[0;34m,\u001b[0m \u001b[0m_KEY_TYPES\u001b[0m\u001b[0;34m)\u001b[0m \u001b[0;32mand\u001b[0m \u001b[0mself\u001b[0m\u001b[0;34m.\u001b[0m\u001b[0mhas_index_for\u001b[0m\u001b[0;34m(\u001b[0m\u001b[0mkey\u001b[0m\u001b[0;34m)\u001b[0m\u001b[0;34m\u001b[0m\u001b[0;34m\u001b[0m\u001b[0m\n",
            "\u001b[0;32m/usr/local/lib/python3.10/dist-packages/gensim/models/keyedvectors.py\u001b[0m in \u001b[0;36mget_mean_vector\u001b[0;34m(self, keys, weights, pre_normalize, post_normalize, ignore_missing)\u001b[0m\n\u001b[1;32m    516\u001b[0m                 \u001b[0mtotal_weight\u001b[0m \u001b[0;34m+=\u001b[0m \u001b[0mabs\u001b[0m\u001b[0;34m(\u001b[0m\u001b[0mweights\u001b[0m\u001b[0;34m[\u001b[0m\u001b[0midx\u001b[0m\u001b[0;34m]\u001b[0m\u001b[0;34m)\u001b[0m\u001b[0;34m\u001b[0m\u001b[0;34m\u001b[0m\u001b[0m\n\u001b[1;32m    517\u001b[0m             \u001b[0;32melif\u001b[0m \u001b[0;32mnot\u001b[0m \u001b[0mignore_missing\u001b[0m\u001b[0;34m:\u001b[0m\u001b[0;34m\u001b[0m\u001b[0;34m\u001b[0m\u001b[0m\n\u001b[0;32m--> 518\u001b[0;31m                 \u001b[0;32mraise\u001b[0m \u001b[0mKeyError\u001b[0m\u001b[0;34m(\u001b[0m\u001b[0;34mf\"Key '{key}' not present in vocabulary\"\u001b[0m\u001b[0;34m)\u001b[0m\u001b[0;34m\u001b[0m\u001b[0;34m\u001b[0m\u001b[0m\n\u001b[0m\u001b[1;32m    519\u001b[0m \u001b[0;34m\u001b[0m\u001b[0m\n\u001b[1;32m    520\u001b[0m         \u001b[0;32mif\u001b[0m \u001b[0mtotal_weight\u001b[0m \u001b[0;34m>\u001b[0m \u001b[0;36m0\u001b[0m\u001b[0;34m:\u001b[0m\u001b[0;34m\u001b[0m\u001b[0;34m\u001b[0m\u001b[0m\n",
            "\u001b[0;31mKeyError\u001b[0m: \"Key 'queen' not present in vocabulary\""
          ]
        }
      ]
    },
    {
      "cell_type": "markdown",
      "source": [
        "There is another method called **FastText** to handle this situation. You can go explore about that by yourselves."
      ],
      "metadata": {
        "id": "M9GJfgzoNbb9"
      }
    },
    {
      "cell_type": "markdown",
      "source": [
        "How to generate sentence embedding? Average the word embeddings!"
      ],
      "metadata": {
        "id": "_8lmwKpSCegq"
      }
    },
    {
      "cell_type": "code",
      "source": [
        "import numpy as np\n",
        "embeddings_w2v = []\n",
        "\n",
        "for sent in tokenized_sentences:\n",
        "  all_embed = []\n",
        "  for word in sent:\n",
        "    try:\n",
        "      word_embed = w2v.wv[word]\n",
        "    except:\n",
        "      continue\n",
        "    all_embed.append(word_embed)\n",
        "  all_embed = np.array(all_embed)\n",
        "  # average those embeddings\n",
        "  mean = np.mean(all_embed, axis=0)\n",
        "  embeddings_w2v.append(mean)\n",
        "\n",
        "embeddings_w2v = np.array(embeddings_w2v)\n",
        "embeddings_w2v.shape"
      ],
      "metadata": {
        "colab": {
          "base_uri": "https://localhost:8080/"
        },
        "id": "MybMHoKyCoGh",
        "outputId": "575400bc-4a3e-4d50-cffc-62b783aecf17"
      },
      "execution_count": null,
      "outputs": [
        {
          "output_type": "execute_result",
          "data": {
            "text/plain": [
              "(625, 200)"
            ]
          },
          "metadata": {},
          "execution_count": 127
        }
      ]
    },
    {
      "cell_type": "code",
      "source": [
        "embeddings_w2v"
      ],
      "metadata": {
        "colab": {
          "base_uri": "https://localhost:8080/"
        },
        "id": "Nytlho9LHgJr",
        "outputId": "054df5b4-89d7-41c4-aae5-74967874b28e"
      },
      "execution_count": null,
      "outputs": [
        {
          "output_type": "execute_result",
          "data": {
            "text/plain": [
              "array([[ 0.0222559 ,  0.1569364 , -0.07930358, ...,  0.08441447,\n",
              "         0.23767026, -0.0550425 ],\n",
              "       [ 0.10443027,  0.12457647,  0.00967652, ...,  0.01138082,\n",
              "         0.15203337,  0.11676798],\n",
              "       [ 0.12480783,  0.12184461, -0.02600235, ...,  0.35474855,\n",
              "         0.25171694, -0.03058526],\n",
              "       ...,\n",
              "       [ 0.14636531,  0.24141298,  0.13730504, ...,  0.06146986,\n",
              "         0.17739332,  0.0334432 ],\n",
              "       [-0.01035888,  0.06318112,  0.06287879, ...,  0.14513215,\n",
              "         0.2717099 ,  0.00778223],\n",
              "       [-0.00701764,  0.21747896,  0.20853764, ...,  0.34814498,\n",
              "         0.26321095, -0.07468148]], dtype=float32)"
            ]
          },
          "metadata": {},
          "execution_count": 128
        }
      ]
    }
  ]
}