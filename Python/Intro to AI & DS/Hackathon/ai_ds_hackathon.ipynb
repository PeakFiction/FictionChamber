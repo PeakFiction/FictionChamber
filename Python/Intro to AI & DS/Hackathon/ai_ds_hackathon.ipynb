{
  "cells": [
    {
      "cell_type": "code",
      "execution_count": 1,
      "metadata": {
        "id": "A0rTHOUimuyU"
      },
      "outputs": [],
      "source": [
        "import pandas as pd\n",
        "import numpy as np\n",
        "from sklearn.model_selection import train_test_split\n",
        "import nltk\n",
        "from nltk.corpus import stopwords\n",
        "from nltk.tokenize import word_tokenize\n",
        "import string"
      ]
    },
    {
      "cell_type": "code",
      "execution_count": 2,
      "metadata": {
        "colab": {
          "base_uri": "https://localhost:8080/",
          "height": 206
        },
        "id": "hy9yRlI6xf3U",
        "outputId": "696b5853-a296-417f-8044-9081eb616500"
      },
      "outputs": [
        {
          "ename": "FileNotFoundError",
          "evalue": "[Errno 2] No such file or directory: 'dataset.csv'",
          "output_type": "error",
          "traceback": [
            "\u001b[0;31m---------------------------------------------------------------------------\u001b[0m",
            "\u001b[0;31mFileNotFoundError\u001b[0m                         Traceback (most recent call last)",
            "Cell \u001b[0;32mIn[2], line 1\u001b[0m\n\u001b[0;32m----> 1\u001b[0m df \u001b[38;5;241m=\u001b[39m pd\u001b[38;5;241m.\u001b[39mread_csv(\u001b[38;5;124m'\u001b[39m\u001b[38;5;124mdataset.csv\u001b[39m\u001b[38;5;124m'\u001b[39m)\n\u001b[1;32m      2\u001b[0m df\u001b[38;5;241m.\u001b[39mhead(\u001b[38;5;241m5\u001b[39m)\n",
            "File \u001b[0;32m/Library/Frameworks/Python.framework/Versions/3.11/lib/python3.11/site-packages/pandas/util/_decorators.py:211\u001b[0m, in \u001b[0;36mdeprecate_kwarg.<locals>._deprecate_kwarg.<locals>.wrapper\u001b[0;34m(*args, **kwargs)\u001b[0m\n\u001b[1;32m    209\u001b[0m     \u001b[38;5;28;01melse\u001b[39;00m:\n\u001b[1;32m    210\u001b[0m         kwargs[new_arg_name] \u001b[38;5;241m=\u001b[39m new_arg_value\n\u001b[0;32m--> 211\u001b[0m \u001b[38;5;28;01mreturn\u001b[39;00m func(\u001b[38;5;241m*\u001b[39margs, \u001b[38;5;241m*\u001b[39m\u001b[38;5;241m*\u001b[39mkwargs)\n",
            "File \u001b[0;32m/Library/Frameworks/Python.framework/Versions/3.11/lib/python3.11/site-packages/pandas/util/_decorators.py:331\u001b[0m, in \u001b[0;36mdeprecate_nonkeyword_arguments.<locals>.decorate.<locals>.wrapper\u001b[0;34m(*args, **kwargs)\u001b[0m\n\u001b[1;32m    325\u001b[0m \u001b[38;5;28;01mif\u001b[39;00m \u001b[38;5;28mlen\u001b[39m(args) \u001b[38;5;241m>\u001b[39m num_allow_args:\n\u001b[1;32m    326\u001b[0m     warnings\u001b[38;5;241m.\u001b[39mwarn(\n\u001b[1;32m    327\u001b[0m         msg\u001b[38;5;241m.\u001b[39mformat(arguments\u001b[38;5;241m=\u001b[39m_format_argument_list(allow_args)),\n\u001b[1;32m    328\u001b[0m         \u001b[38;5;167;01mFutureWarning\u001b[39;00m,\n\u001b[1;32m    329\u001b[0m         stacklevel\u001b[38;5;241m=\u001b[39mfind_stack_level(),\n\u001b[1;32m    330\u001b[0m     )\n\u001b[0;32m--> 331\u001b[0m \u001b[38;5;28;01mreturn\u001b[39;00m func(\u001b[38;5;241m*\u001b[39margs, \u001b[38;5;241m*\u001b[39m\u001b[38;5;241m*\u001b[39mkwargs)\n",
            "File \u001b[0;32m/Library/Frameworks/Python.framework/Versions/3.11/lib/python3.11/site-packages/pandas/io/parsers/readers.py:950\u001b[0m, in \u001b[0;36mread_csv\u001b[0;34m(filepath_or_buffer, sep, delimiter, header, names, index_col, usecols, squeeze, prefix, mangle_dupe_cols, dtype, engine, converters, true_values, false_values, skipinitialspace, skiprows, skipfooter, nrows, na_values, keep_default_na, na_filter, verbose, skip_blank_lines, parse_dates, infer_datetime_format, keep_date_col, date_parser, dayfirst, cache_dates, iterator, chunksize, compression, thousands, decimal, lineterminator, quotechar, quoting, doublequote, escapechar, comment, encoding, encoding_errors, dialect, error_bad_lines, warn_bad_lines, on_bad_lines, delim_whitespace, low_memory, memory_map, float_precision, storage_options)\u001b[0m\n\u001b[1;32m    935\u001b[0m kwds_defaults \u001b[38;5;241m=\u001b[39m _refine_defaults_read(\n\u001b[1;32m    936\u001b[0m     dialect,\n\u001b[1;32m    937\u001b[0m     delimiter,\n\u001b[0;32m   (...)\u001b[0m\n\u001b[1;32m    946\u001b[0m     defaults\u001b[38;5;241m=\u001b[39m{\u001b[38;5;124m\"\u001b[39m\u001b[38;5;124mdelimiter\u001b[39m\u001b[38;5;124m\"\u001b[39m: \u001b[38;5;124m\"\u001b[39m\u001b[38;5;124m,\u001b[39m\u001b[38;5;124m\"\u001b[39m},\n\u001b[1;32m    947\u001b[0m )\n\u001b[1;32m    948\u001b[0m kwds\u001b[38;5;241m.\u001b[39mupdate(kwds_defaults)\n\u001b[0;32m--> 950\u001b[0m \u001b[38;5;28;01mreturn\u001b[39;00m _read(filepath_or_buffer, kwds)\n",
            "File \u001b[0;32m/Library/Frameworks/Python.framework/Versions/3.11/lib/python3.11/site-packages/pandas/io/parsers/readers.py:605\u001b[0m, in \u001b[0;36m_read\u001b[0;34m(filepath_or_buffer, kwds)\u001b[0m\n\u001b[1;32m    602\u001b[0m _validate_names(kwds\u001b[38;5;241m.\u001b[39mget(\u001b[38;5;124m\"\u001b[39m\u001b[38;5;124mnames\u001b[39m\u001b[38;5;124m\"\u001b[39m, \u001b[38;5;28;01mNone\u001b[39;00m))\n\u001b[1;32m    604\u001b[0m \u001b[38;5;66;03m# Create the parser.\u001b[39;00m\n\u001b[0;32m--> 605\u001b[0m parser \u001b[38;5;241m=\u001b[39m TextFileReader(filepath_or_buffer, \u001b[38;5;241m*\u001b[39m\u001b[38;5;241m*\u001b[39mkwds)\n\u001b[1;32m    607\u001b[0m \u001b[38;5;28;01mif\u001b[39;00m chunksize \u001b[38;5;129;01mor\u001b[39;00m iterator:\n\u001b[1;32m    608\u001b[0m     \u001b[38;5;28;01mreturn\u001b[39;00m parser\n",
            "File \u001b[0;32m/Library/Frameworks/Python.framework/Versions/3.11/lib/python3.11/site-packages/pandas/io/parsers/readers.py:1442\u001b[0m, in \u001b[0;36mTextFileReader.__init__\u001b[0;34m(self, f, engine, **kwds)\u001b[0m\n\u001b[1;32m   1439\u001b[0m     \u001b[38;5;28mself\u001b[39m\u001b[38;5;241m.\u001b[39moptions[\u001b[38;5;124m\"\u001b[39m\u001b[38;5;124mhas_index_names\u001b[39m\u001b[38;5;124m\"\u001b[39m] \u001b[38;5;241m=\u001b[39m kwds[\u001b[38;5;124m\"\u001b[39m\u001b[38;5;124mhas_index_names\u001b[39m\u001b[38;5;124m\"\u001b[39m]\n\u001b[1;32m   1441\u001b[0m \u001b[38;5;28mself\u001b[39m\u001b[38;5;241m.\u001b[39mhandles: IOHandles \u001b[38;5;241m|\u001b[39m \u001b[38;5;28;01mNone\u001b[39;00m \u001b[38;5;241m=\u001b[39m \u001b[38;5;28;01mNone\u001b[39;00m\n\u001b[0;32m-> 1442\u001b[0m \u001b[38;5;28mself\u001b[39m\u001b[38;5;241m.\u001b[39m_engine \u001b[38;5;241m=\u001b[39m \u001b[38;5;28mself\u001b[39m\u001b[38;5;241m.\u001b[39m_make_engine(f, \u001b[38;5;28mself\u001b[39m\u001b[38;5;241m.\u001b[39mengine)\n",
            "File \u001b[0;32m/Library/Frameworks/Python.framework/Versions/3.11/lib/python3.11/site-packages/pandas/io/parsers/readers.py:1735\u001b[0m, in \u001b[0;36mTextFileReader._make_engine\u001b[0;34m(self, f, engine)\u001b[0m\n\u001b[1;32m   1733\u001b[0m     \u001b[38;5;28;01mif\u001b[39;00m \u001b[38;5;124m\"\u001b[39m\u001b[38;5;124mb\u001b[39m\u001b[38;5;124m\"\u001b[39m \u001b[38;5;129;01mnot\u001b[39;00m \u001b[38;5;129;01min\u001b[39;00m mode:\n\u001b[1;32m   1734\u001b[0m         mode \u001b[38;5;241m+\u001b[39m\u001b[38;5;241m=\u001b[39m \u001b[38;5;124m\"\u001b[39m\u001b[38;5;124mb\u001b[39m\u001b[38;5;124m\"\u001b[39m\n\u001b[0;32m-> 1735\u001b[0m \u001b[38;5;28mself\u001b[39m\u001b[38;5;241m.\u001b[39mhandles \u001b[38;5;241m=\u001b[39m get_handle(\n\u001b[1;32m   1736\u001b[0m     f,\n\u001b[1;32m   1737\u001b[0m     mode,\n\u001b[1;32m   1738\u001b[0m     encoding\u001b[38;5;241m=\u001b[39m\u001b[38;5;28mself\u001b[39m\u001b[38;5;241m.\u001b[39moptions\u001b[38;5;241m.\u001b[39mget(\u001b[38;5;124m\"\u001b[39m\u001b[38;5;124mencoding\u001b[39m\u001b[38;5;124m\"\u001b[39m, \u001b[38;5;28;01mNone\u001b[39;00m),\n\u001b[1;32m   1739\u001b[0m     compression\u001b[38;5;241m=\u001b[39m\u001b[38;5;28mself\u001b[39m\u001b[38;5;241m.\u001b[39moptions\u001b[38;5;241m.\u001b[39mget(\u001b[38;5;124m\"\u001b[39m\u001b[38;5;124mcompression\u001b[39m\u001b[38;5;124m\"\u001b[39m, \u001b[38;5;28;01mNone\u001b[39;00m),\n\u001b[1;32m   1740\u001b[0m     memory_map\u001b[38;5;241m=\u001b[39m\u001b[38;5;28mself\u001b[39m\u001b[38;5;241m.\u001b[39moptions\u001b[38;5;241m.\u001b[39mget(\u001b[38;5;124m\"\u001b[39m\u001b[38;5;124mmemory_map\u001b[39m\u001b[38;5;124m\"\u001b[39m, \u001b[38;5;28;01mFalse\u001b[39;00m),\n\u001b[1;32m   1741\u001b[0m     is_text\u001b[38;5;241m=\u001b[39mis_text,\n\u001b[1;32m   1742\u001b[0m     errors\u001b[38;5;241m=\u001b[39m\u001b[38;5;28mself\u001b[39m\u001b[38;5;241m.\u001b[39moptions\u001b[38;5;241m.\u001b[39mget(\u001b[38;5;124m\"\u001b[39m\u001b[38;5;124mencoding_errors\u001b[39m\u001b[38;5;124m\"\u001b[39m, \u001b[38;5;124m\"\u001b[39m\u001b[38;5;124mstrict\u001b[39m\u001b[38;5;124m\"\u001b[39m),\n\u001b[1;32m   1743\u001b[0m     storage_options\u001b[38;5;241m=\u001b[39m\u001b[38;5;28mself\u001b[39m\u001b[38;5;241m.\u001b[39moptions\u001b[38;5;241m.\u001b[39mget(\u001b[38;5;124m\"\u001b[39m\u001b[38;5;124mstorage_options\u001b[39m\u001b[38;5;124m\"\u001b[39m, \u001b[38;5;28;01mNone\u001b[39;00m),\n\u001b[1;32m   1744\u001b[0m )\n\u001b[1;32m   1745\u001b[0m \u001b[38;5;28;01massert\u001b[39;00m \u001b[38;5;28mself\u001b[39m\u001b[38;5;241m.\u001b[39mhandles \u001b[38;5;129;01mis\u001b[39;00m \u001b[38;5;129;01mnot\u001b[39;00m \u001b[38;5;28;01mNone\u001b[39;00m\n\u001b[1;32m   1746\u001b[0m f \u001b[38;5;241m=\u001b[39m \u001b[38;5;28mself\u001b[39m\u001b[38;5;241m.\u001b[39mhandles\u001b[38;5;241m.\u001b[39mhandle\n",
            "File \u001b[0;32m/Library/Frameworks/Python.framework/Versions/3.11/lib/python3.11/site-packages/pandas/io/common.py:856\u001b[0m, in \u001b[0;36mget_handle\u001b[0;34m(path_or_buf, mode, encoding, compression, memory_map, is_text, errors, storage_options)\u001b[0m\n\u001b[1;32m    851\u001b[0m \u001b[38;5;28;01melif\u001b[39;00m \u001b[38;5;28misinstance\u001b[39m(handle, \u001b[38;5;28mstr\u001b[39m):\n\u001b[1;32m    852\u001b[0m     \u001b[38;5;66;03m# Check whether the filename is to be opened in binary mode.\u001b[39;00m\n\u001b[1;32m    853\u001b[0m     \u001b[38;5;66;03m# Binary mode does not support 'encoding' and 'newline'.\u001b[39;00m\n\u001b[1;32m    854\u001b[0m     \u001b[38;5;28;01mif\u001b[39;00m ioargs\u001b[38;5;241m.\u001b[39mencoding \u001b[38;5;129;01mand\u001b[39;00m \u001b[38;5;124m\"\u001b[39m\u001b[38;5;124mb\u001b[39m\u001b[38;5;124m\"\u001b[39m \u001b[38;5;129;01mnot\u001b[39;00m \u001b[38;5;129;01min\u001b[39;00m ioargs\u001b[38;5;241m.\u001b[39mmode:\n\u001b[1;32m    855\u001b[0m         \u001b[38;5;66;03m# Encoding\u001b[39;00m\n\u001b[0;32m--> 856\u001b[0m         handle \u001b[38;5;241m=\u001b[39m \u001b[38;5;28mopen\u001b[39m(\n\u001b[1;32m    857\u001b[0m             handle,\n\u001b[1;32m    858\u001b[0m             ioargs\u001b[38;5;241m.\u001b[39mmode,\n\u001b[1;32m    859\u001b[0m             encoding\u001b[38;5;241m=\u001b[39mioargs\u001b[38;5;241m.\u001b[39mencoding,\n\u001b[1;32m    860\u001b[0m             errors\u001b[38;5;241m=\u001b[39merrors,\n\u001b[1;32m    861\u001b[0m             newline\u001b[38;5;241m=\u001b[39m\u001b[38;5;124m\"\u001b[39m\u001b[38;5;124m\"\u001b[39m,\n\u001b[1;32m    862\u001b[0m         )\n\u001b[1;32m    863\u001b[0m     \u001b[38;5;28;01melse\u001b[39;00m:\n\u001b[1;32m    864\u001b[0m         \u001b[38;5;66;03m# Binary mode\u001b[39;00m\n\u001b[1;32m    865\u001b[0m         handle \u001b[38;5;241m=\u001b[39m \u001b[38;5;28mopen\u001b[39m(handle, ioargs\u001b[38;5;241m.\u001b[39mmode)\n",
            "\u001b[0;31mFileNotFoundError\u001b[0m: [Errno 2] No such file or directory: 'dataset.csv'"
          ]
        }
      ],
      "source": [
        "df = pd.read_csv('dataset.csv')\n",
        "df.head(5)"
      ]
    },
    {
      "cell_type": "code",
      "execution_count": null,
      "metadata": {
        "colab": {
          "base_uri": "https://localhost:8080/"
        },
        "id": "EnIyq00ZxpwC",
        "outputId": "af9df721-9157-4459-8ac6-a3c76cb458ef"
      },
      "outputs": [
        {
          "name": "stdout",
          "output_type": "stream",
          "text": [
            "[(\"New iPhone 13 features are amazing! Can't wait to get my hands on it. #AppleEvent https://apple.com\", 'English'), ('Battery life of the new smartphone is disappointing. #tech #smartphone #battery https://example.com', 'English')]\n"
          ]
        }
      ],
      "source": [
        "X_text = df['Text'].tolist()\n",
        "languages = df['Language'].tolist()\n",
        "\n",
        "text_language_pairs = list(zip(X_text, languages))\n",
        "\n",
        "print(text_language_pairs[:2])\n"
      ]
    },
    {
      "cell_type": "code",
      "execution_count": null,
      "metadata": {
        "colab": {
          "base_uri": "https://localhost:8080/"
        },
        "id": "Va8jeuIv1oyE",
        "outputId": "69774dfa-59ae-41be-90af-693488b1e3d3"
      },
      "outputs": [
        {
          "name": "stderr",
          "output_type": "stream",
          "text": [
            "[nltk_data] Downloading package stopwords to /root/nltk_data...\n",
            "[nltk_data]   Package stopwords is already up-to-date!\n"
          ]
        },
        {
          "name": "stdout",
          "output_type": "stream",
          "text": [
            "[['new', 'iphone', '13', 'feature', 'amazing', 'can', 'not', 'wait', 'get', 'hand'], ['battery', 'life', 'new', 'smartphone', 'disappointing'], ['tesla', 's', 'new', 'solar', 'panel', 'revolutionize', 'renewable', 'energy'], ['planting', 'tree', 'crucial', 'fighting', 'climate', 'change', 'let', 'us', 'protect', 'planet', 'together'], ['can', 'not', 'wait', 'new', 'iphone', '13'], ['let', 'us', 'work', 'together', 'save', 'environment'], ['love', 'new', 'tesla', 'worry', 'gas', 'price'], ['check', 'amazing', 'article', 'late', 'advancement', 'ai'], ['recycle', 'one', 'easy', 'way', 'help', 'environment', 'let', 'us', 'part'], ['excited', 'launch', 'new', 'iphone'], ['let', 'us', 'switch', 'renewable', 'energy', 'cleaner', 'bright', 'future'], ['m', 'hype', 'new', 'iphone', 'release'], ['let', 'save', 'planet', 'reduce', 'plastic', 'waste'], ['plant', 'tree', 'combat', 'climate', 'change'], ['artificial', 'intelligence', 'shape', 'future', 'technology'], ['let', 'us', 'part', 'preserve', 'nature', 'wildlife'], ['excited', 'see', 'late', 'innovation', 'upcoming', 'tech', 'conference'], ['let', 'us', 'clean', 'ocean', 'protect', 'marine', 'life'], ['check', 'awesome', 'ted', 'talk', 'sustainable', 'living'], ['let', 'us', 'protect', 'forest', 'biodiversity', 'future', 'generation'], ['can', 'not', 'wait', 'see', 'advancement', 'ai', 'bring', 'future'], ['need', 'take', 'urgent', 'action', 'protect', 'planet', 'effect', 'climate', 'change'], ['check', 'cool', 'new', 'gadget', 'get'], ['let', 'us', 'part', 'reduce', 'carbon', 'emission'], ['excited', 'see', 'technology', 'continue', 'evolve', 'come', 'year'], ['let', 'us', 'protect', 'ocean', 'marine', 'life', 'pollution'], ['can', 'not', 'wait', 'next', 'iphone', 'release'], ['let', 'us', 'work', 'together', 'combat', 'climate', 'change', 'save', 'planet'], ['sustainable', 'live', 'key', 'bright', 'future', 'planet', 'let', 'us', 'part'], ['check', 'amazing', 'new', 'tech', 'gadget', 's', 'game', 'changer'], ['artificial', 'intelligence', 'revolutionize', 'every', 'aspect', 'live'], ['let', 'us', 'switch', 'electric', 'vehicle', 'clean', 'greener', 'future'], ['excited', 'upcoming', 'tech', 'expo', 'can', 'not', 'wait', 'see', 'late', 'innovation'], ['let', 'us', 'part', 'reduce', 'carbon', 'footprint'], ['check', 'cool', 'article', 'impact', 'technology', 'daily', 'life'], ['let', 'work', 'together', 'protect', 'endanger', 'specie', 'habitat'], ['future', 'transportation', 'electric', 'let', 'us', 'make', 'switch'], ['let', 'us', 'part', 'preserve', 'planet', 'future', 'generation'], ['world', 'need', 'sustainable', 'solution', 'combat', 'climate', 'change'], ['excited', 'see', 'technology', 'continue', 'evolve', 'shape', 'life'], ['let', 'us', 'work', 'together', 'reduce', 'impact', 'environment'], ['check', 'awesome', 'new', 'tech', 'gadget', 'get'], ['excited', 'see', 'future', 'hold', 'technology', 'innovation'], ['let', 'us', 'part', 'protect', 'ocean', 'marine', 'life'], ['time', 'action', 'climate', 'change', 'let', 'us', 'make', 'difference'], ['check', 'amazing', 'article', 'future', 'renewable', 'energy'], ['let', 'us', 'work', 'together', 'protect', 'planet', 'preserve', 'beauty'], ['artificial', 'intelligence', 'change', 'way', 'live', 'work'], ['let', 'us', 'part', 'reduce', 'carbon', 'footprint'], ['technology', 'power', 'solve', 'big', 'environmental', 'challenge', 'face'], ['let', 'us', 'work', 'together', 'protect', 'ocean', 'marine', 'life'], ['use', 'renewable', 'energy', 'source', 'crucial', 'sustainable', 'future', 'let', 'us', 'make', 'switch'], ['advancement', 'technology', 'revolutionize', 'way', 'live', 'work'], ['let', 'us', 'work', 'together', 'create', 'green', 'sustainable', 'future', 'generation', 'come'], ['artificial', 'intelligence', 'potential', 'revolutionize', 'various', 'industry'], ['switch', 'electric', 'vehicle', 'one', 'good', 'way', 'reduce', 'carbon', 'emission'], ['check', 'amazing', 'article', 'late', 'advancement', 'renewable', 'energy'], ['excited', 'see', 'new', 'tech', 'gadget', 'unveil', 'upcoming', 'expo'], ['future', 'transportation', 'electric', 'let', 'us', 'make', 'switch'], ['protect', 'environment', 'option', 's', 'responsibility', 'share'], ['let', 'us', 'part', 'preserve', 'nature', 'wildlife'], ['recycle', 'one', 'easy', 'way', 'help', 'environment', 'let', 'us', 'part'], ['use', 'technology', 'greatly', 'improved', 'quality', 'life', 'be', 'important', 'consider', 'environmental', 'impact'], ['excited', 'see', 'late', 'innovation', 'renewable', 'energy', 'upcoming', 'conference'], ['let', 'us', 'work', 'together', 'protect', 'ocean', 'marine', 'life', 'pollution'], ['use', 'technology', 'balanced', 'awareness', 'impact', 'environment'], ['technology', 'potential', 'solve', 'many', 'environmental', 'challenge', 'face', 'today'], ['let', 'us', 'work', 'together', 'reduce', 'carbon', 'footprint', 'protect', 'planet'], ['excited', 'see', 'late', 'advancement', 'technology', 'upcoming', 'tech', 'fair'], ['check', 'awesome', 'ted', 'talk', 'sustainable', 'living'], ['let', 'us', 'protect', 'forest', 'biodiversity', 'future', 'generation'], ['need', 'take', 'urgent', 'action', 'protect', 'planet', 'effect', 'climate', 'change'], ['check', 'cool', 'new', 'gadget', 'get'], ['let', 'us', 'part', 'reduce', 'carbon', 'emission'], ['excited', 'see', 'technology', 'continue', 'evolve', 'come', 'year'], ['let', 'us', 'protect', 'ocean', 'marine', 'life', 'pollution'], ['ai', 'revolutionize', 'every', 'aspect', 'live', 'be', 'amazing', 'far', 've', 'come'], ['let', 'us', 'work', 'together', 'protect', 'ocean', 'marine', 'life', 'pollution'], ['advancement', 'technology', 'revolutionize', 'way', 'live', 'work'], ['check', 'amazing', 'article', 'late', 'advancement', 'renewable', 'energy'], ['use', 'technology', 'balanced', 'awareness', 'impact', 'environment'], ['recycle', 'one', 'easy', 'way', 'help', 'environment', 'let', 'us', 'part'], ['use', 'technology', 'greatly', 'improved', 'quality', 'life', 'be', 'important', 'consider', 'environmental', 'impact'], ['artificial', 'intelligence', 'potential', 'revolutionize', 'various', 'industry'], ['let', 'us', 'protect', 'forest', 'biodiversity', 'future', 'generation'], ['time', 'action', 'climate', 'change', 'let', 'us', 'make', 'difference'], ['check', 'awesome', 'ted', 'talk', 'sustainable', 'living'], ['future', 'transportation', 'electric', 'let', 'us', 'make', 'switch'], ['excited', 'see', 'late', 'advancement', 'tech', 'upcoming', 'tech', 'fair'], ['let', 'us', 'work', 'together', 'protect', 'ocean', 'marine', 'life', 'plution'], ['integration', 'artificial', 'intelligence', 'daily', 'life', 'lead', 'significant', 'advancement', 'various', 'sector'], ['ensure', 'sustainability', 'planet', 'require', 'collective', 'effort', 'adopt', 'eco', 'friendly', 'technology', 'practice'], ['examine', 'intersection', 'technology', 'environmental', 'conservation', 'reveal', 'promise', 'opportunity', 'innovation', 'progress'], ['complexity', 'climate', 'change', 'necessitate', 'multifaceted', 'approach', 'wherein', 'technology', 'play', 'pivotal', 'role', 'mitigation', 'adaptation', 'strategy'], ['intricacy', 'sustainable', 'development', 'demand', 'innovative', 'solution', 'leverage', 'power', 'technology', 'preserve', 'environmental', 'integrity'], ['convergence', 'digitalization', 'environmental', 'consciousness', 'present', 'new', 'avenue', 'sustainable', 'growth', 'ecological', 'stewardship'], ['technological', 'innovation', 'hold', 'key', 'addressing', 'press', 'environmental', 'challenge', 'foster', 'resilient', 'society'], ['interplay', 'technology', 'environmental', 'conservation', 'underscore', 'importance', 'responsible', 'innovation', 'green', 'practice'], ['embrace', 'technological', 'advancement', 'minimize', 'environmental', 'degradation', 'necessitate', 'holistic', 'approach', 'sustainable', 'development'], ['adoption', 'renewable', 'energy', 'technology', 'imperative', 'achieve', 'climate', 'goal', 'secure', 'sustainable', 'future'], ['intersection', 'technology', 'environmental', 'stewardship', 'offer', 'promise', 'solution', 'mitigate', 'ecological', 'degradation', 'promote', 'sustainability'], ['technological', 'innovation', 'potential', 'revolutionize', 'environmental', 'conservation', 'effort', 'address', 'global', 'challenge'], ['intricate', 'relationship', 'technology', 'environmental', 'sustainability', 'underscore', 'need', 'conscientious', 'decision', 'make', 'policy', 'intervention'], ['technology', 'drive', 'solution', 'hold', 'promise', 'address', 'complex', 'environmental', 'issue', 'foster', 'green', 'future'], ['effort', 'combat', 'climate', 'change', 'require', 'collaborative', 'endeavor', 'harness', 'power', 'technology', 'scientific', 'knowledge'], ['dynamic', 'interplay', 'technology', 'environmental', 'dynamic', 'necessitate', 'adaptive', 'strategy', 'innovative', 'solution'], ['innovation', 'technology', 'essential', 'address', 'diverse', 'evolving', 'challenge', 'environmental', 'sustainability'], ['symbiotic', 'relationship', 'technological', 'progress', 'environmental', 'preservation', 'underscore', 'importance', 'responsible', 'innovation'], ['ensure', 'compatibility', 'technological', 'advancement', 'ecological', 'integrity', 'essential', 'foster', 'sustainable', 'development'], ['intricate', 'nexus', 'technology', 'environmental', 'conservation', 'necessitate', 'interdisciplinary', 'approach', 'holistic', 'solution'], ['technological', 'innovation', 'potential', 'drive', 'transformative', 'change', 'promote', 'environmental', 'sustainability', 'global', 'scale'], ['intricate', 'interplay', 'technological', 'advancement', 'environmental', 'conservation', 'underscore', 'need', 'collaborative', 'action', 'responsible', 'innovation'], ['advancement', 'renewable', 'energy', 'technology', 'crucial', 'mitigating', 'effect', 'climate', 'change', 'transition', 'sustainable', 'energy', 'future'], ['artificial', 'intelligence', 'algorithm', 'analyze', 'large', 'dataset', 'identify', 'pattern', 'trend', 'provide', 'valuable', 'insight', 'environmental', 'monitor', 'resource', 'management'], ['effort', 'develop', 'sustainable', 'agricultural', 'technology', 'essential', 'increase', 'food', 'production', 'minimize', 'environmental', 'degradation', 'preserve', 'biodiversity'], ['convergence', 'biotechnology', 'environmental', 'science', 'hold', 'promise', 'develop', 'innovative', 'solution', 'pollution', 'remediation', 'waste', 'management', 'sustainable', 'agriculture'], ['carbon', 'capture', 'storage', 'technology', 'play', 'vital', 'role', 'reduce', 'greenhouse', 'gas', 'emission', 'industrial', 'process', 'power', 'generation', 'contribute', 'global', 'effort', 'combat', 'climate', 'change'], ['development', 'smart', 'city', 'leverage', 'cut', 'edge', 'technology', 'iot', 'sensor', 'ai', 'analytic', 'renewable', 'energy', 'system', 'optimize', 'urban', 'infrastructure', 'enhance', 'environmental', 'sustainability'], ['emerging', 'technology', '3d', 'printing', 'offer', 'innovative', 'solution', 'sustainable', 'manufacturing', 'reduce', 'material', 'waste', 'energy', 'consumption', 'carbon', 'emission', 'throughout', 'production', 'process'], ['advancement', 'genetic', 'engineering', 'hold', 'promise', 'develop', 'crop', 'enhance', 'resilience', 'climate', 'change', 'impact', 'drought', 'pest', 'disease', 'thereby', 'ensure', 'food', 'security', 'agricultural', 'sustainability'], ['adoption', 'circular', 'economy', 'principle', 'renewable', 'energy', 'technology', 'imperative', 'achieve', 'carbon', 'neutrality', 'mitigate', 'impact', 'climate', 'change', 'global', 'scale'], ['smart', 'grid', 'technology', 'enable', 'integration', 'renewable', 'energy', 'source', 'facilitate', 'efficient', 'energy', 'distribution', 'contribute', 'grid', 'stability', 'energy', 'reliability', 'carbon', 'emission', 'reduction'], ['integration', 'renewable', 'energy', 'system', 'energy', 'storage', 'technology', 'battery', 'hydrogen', 'fuel', 'cell', 'facilitate', 'grid', 'flexibility', 'enhance', 'energy', 'reliability', 'support', 'transition', 'low', 'carbon', 'economy'], ['climate', 'smart', 'agriculture', 'practice', 'leverage', 'digital', 'technology', 'precision', 'farming', 'technique', 'climate', 'data', 'analytic', 'enhance', 'agricultural', 'productivity', 'resilience', 'sustainability', 'face', 'climate', 'change', 'challenge'], ['development', 'electric', 'vehicle', 'infrastructure', 'couple', 'advancement', 'battery', 'technology', 'renewable', 'energy', 'integration', 'play', 'crucial', 'role', 'accelerate', 'transition', 'low', 'carbon', 'transportation', 'system', 'reduce', 'reliance', 'fossil', 'fuel'], ['urban', 'planning', 'strategy', 'incorporate', 'green', 'infrastructure', 'sustainable', 'transportation', 'solution', 'essential', 'create', 'resilient', 'city', 'withstand', 'environmental', 'challenge', 'flooding', 'heatwave', 'air', 'pollution'], ['development', 'sustainable', 'packaging', 'material', 'circular', 'economy', 'initiative', 'critical', 'reduce', 'plastic', 'pollution', 'conserve', 'resource', 'promote', 'circular', 'economy', 'model', 'minimizes', 'waste', 'maximize', 'resource', 'efficiency'], ['green', 'building', 'technology', 'sustainable', 'architecture', 'practice', 'prioritize', 'energy', 'efficiency', 'indoor', 'air', 'quality', 'environmental', 'performance', 'create', 'healthy', 'resource', 'efficient', 'building', 'minimize', 'environmental', 'impact', 'enhance', 'occupant', 'comfort', 'well'], ['deployment', 'smart', 'metering', 'system', 'demand', 'response', 'technology', 'enable', 'efficient', 'energy', 'consumption', 'peak', 'load', 'management', 'grid', 'stability', 'contribute', 'energy', 'reliability', 'sustainability'], ['development', 'biodegradable', 'material', 'eco', 'friendly', 'manufacturing', 'process', 'crucial', 'reduce', 'environmental', 'pollution', 'conserve', 'natural', 'resource', 'transition', 'towards', 'sustainable', 'circular', 'economy'], ['utilization', 'satellite', 'imaging', 'technology', 'remote', 'sense', 'datum', 'facilitate', 'monitor', 'assessment', 'environmental', 'change', 'natural', 'disaster', 'ecosystem', 'health', 'enable', 'informed', 'decision', 'make', 'timely', 'response', 'effort'], ['energy', 'efficient', 'lighting', 'technology', 'lead', 'smart', 'lighting', 'system', 'contribute', 'energy', 'saving', 'carbon', 'emission', 'reduction', 'enhance', 'visual', 'comfort', 'residential', 'commercial', 'urban', 'environment'], ['integration', 'renewable', 'energy', 'microgrid', 'energy', 'storage', 'solution', 'grid', 'management', 'system', 'enhance', 'energy', 'resilience', 'reliability', 'self', 'sufficiency', 'particularly', 'remote', 'grid', 'community'], ['implementation', 'green', 'transportation', 'initiative', 'include', 'electric', 'vehicle', 'public', 'transit', 'system', 'cycling', 'infrastructure', 'promote', 'sustainable', 'urban', 'mobility', 'reduce', 'traffic', 'congestion', 'mitigate', 'air', 'pollution', 'greenhouse', 'gas', 'emission'], ['adoption', 'sustainable', 'farming', 'practice', 'agroecology', 'organic', 'farming', 'foster', 'biodiversity', 'conservation', 'soil', 'health', 'improvement', 'resilience', 'climate', 'variability', 'contribute', 'food', 'security', 'agricultural', 'sustainability'], ['convergence', 'green', 'finance', 'mechanism', 'financial', 'technology', 'platform', 'facilitate', 'investment', 'renewable', 'energy', 'project', 'sustainable', 'infrastructure', 'climate', 'adaptation', 'initiative', 'drive', 'transition', 'low', 'carbon', 'economy', 'enhance', 'climate', 'resilience'], ['technological', 'innovation', 'water', 'desalination', 'wastewater', 'treatment', 'enable', 'access', 'clean', 'water', 'water', 'stress', 'region', 'alleviate', 'water', 'scarcity', 'support', 'sustainable', 'development', 'goal', 'relate', 'water', 'sanitation'], ['integration', 'energy', 'efficient', 'appliance', 'building', 'automation', 'system', 'optimize', 'energy', 'use', 'reduce', 'operational', 'cost', 'enhance', 'occupant', 'comfort', 'productivity', 'residential', 'commercial', 'building', 'contribute', 'sustainable', 'urban', 'development'], ['implementation', 'green', 'infrastructure', 'solution', 'green', 'roof', 'permeable', 'pavement', 'help', 'manage', 'stormwater', 'runoff', 'mitigate', 'urban', 'heat', 'island', 'enhance', 'biodiversity', 'urban', 'environment', 'promote', 'climate', 'resilience', 'ecological', 'sustainability'], ['digitalization', 'energy', 'system', 'couple', 'smart', 'grid', 'technology', 'demand', 'side', 'management', 'enable', 'efficient', 'energy', 'distribution', 'integration', 'renewable', 'energy', 'source', 'optimization', 'energy', 'use', 'contribute', 'energy', 'sustainability', 'resilience'], ['deployment', 'microgrid', 'system', 'remote', 'grid', 'area', 'facilitate', 'access', 'reliable', 'electricity', 'improve', 'energy', 'resilience', 'support', 'community', 'development', 'initiative', 'particularly', 'region', 'limited', 'access', 'centralize', 'power', 'grid'], ['integration', 'renewable', 'energy', 'microgrid', 'battery', 'storage', 'system', 'demand', 'response', 'mechanism', 'enhance', 'energy', 'reliability', 'resilience', 'efficiency', 'remote', 'island', 'community', 'reduce', 'dependence', 'fossil', 'fuel', 'diesel', 'generator'], ['convergence', 'biotechnology', 'nanotechnology', 'offer', 'innovative', 'solution', 'environmental', 'monitoring', 'pollution', 'remediation', 'sustainable', 'agriculture', 'leverage', 'unique', 'property', 'biological', 'nanomaterial', 'enhance', 'performance'], ['integration', 'blockchain', 'technology', 'smart', 'contract', 'enable', 'transparent', 'secure', 'transaction', 'carbon', 'market', 'facilitate', 'carbon', 'trading', 'offset', 'initiative', 'incentivize', 'emission', 'reduction', 'promote', 'climate', 'action'], ['carbon', 'footprint', 'calculator', 'sustainability', 'analytic', 'platform', 'provide', 'business', 'tool', 'measure', 'track', 'reduce', 'environmental', 'impact', 'foster', 'corporate', 'responsibility', 'drive', 'towards', 'sustainability', 'goal'], ['renewable', 'energy', 'microgrid', 'combine', 'blockchain', 'base', 'energy', 'trading', 'platform', 'enable', 'decentralized', 'energy', 'exchange', 'empower', 'community', 'trade', 'surplus', 'energy', 'optimize', 'consumption', 'support', 'renewable', 'energy', 'integration'], ['application', 'artificial', 'intelligence', 'climate', 'model', 'forecasting', 'enhance', 'understand', 'complex', 'climate', 'system', 'improve', 'accuracy', 'prediction', 'support', 'informed', 'decision', 'make', 'climate', 'adaptation', 'mitigation', 'strategy'], ['utilization', 'satellite', 'remote', 'sense', 'technology', 'machine', 'learn', 'algorithm', 'enable', 'rapid', 'detection', 'monitoring', 'deforestation', 'facilitate', 'timely', 'intervention', 'forest', 'conservation', 'effort', 'preserve', 'biodiversity', 'mitigate', 'climate', 'change', 'impact'], ['smart', 'agriculture', 'solution', 'leverage', 'iot', 'sensor', 'drone', 'datum', 'analytic', 'optimize', 'agricultural', 'practice', 'improve', 'crop', 'yield', 'reduce', 'resource', 'input', 'contribute', 'food', 'security', 'environmental', 'sustainability', 'economic', 'resilience'], ['integration', 'circular', 'economy', 'principle', 'product', 'design', 'manufacturing', 'process', 'promote', 'resource', 'efficiency', 'waste', 'reduction', 'material', 'recycling', 'foster', 'sustainable', 'economic', 'model', 'minimizes', 'environmental', 'impact', 'maximize', 'resource', 'utilization'], ['blockchain', 'base', 'carbon', 'offset', 'platform', 'enable', 'transparent', 'verifiable', 'carbon', 'offset', 'transaction', 'facilitate', 'investment', 'carbon', 'sequestration', 'project', 'emission', 'reduction', 'initiative', 'mitigate', 'climate', 'change', 'impact', 'support', 'sustainable', 'development', 'goal'], ['development', 'bio', 'inspire', 'material', 'self', 'heal', 'polymer', 'nanocomposite', 'offer', 'innovative', 'solution', 'sustainable', 'construction', 'durable', 'infrastructure', 'environmental', 'remediation'], ['integration', 'internet', 'things', 'iot', 'device', 'smart', 'agricultural', 'system', 'enable', 'precision', 'farming', 'practice', 'real', 'time', 'monitor', 'crop', 'health', 'optimize', 'resource', 'utilization', 'sustainable', 'agriculture'], ['smart', 'irrigation', 'system', 'utilize', 'weather', 'datum', 'soil', 'moisture', 'sensor', 'optimize', 'water', 'use', 'efficiency', 'reduce', 'water', 'waste', 'support', 'sustainable', 'crop', 'production', 'agriculture', 'landscaping', 'application'], ['implementation', 'carbon', 'capture', 'utilization', 'ccu', 'technology', 'enable', 'conversion', 'co2', 'emission', 'valuable', 'product', 'fuel', 'chemical', 'building', 'material', 'contribute', 'carbon', 'neutrality', 'circular', 'economy', 'principle', 'economy'], ['development', 'urban', 'green', 'spaces', 'eco', 'friendly', 'infrastructure', 'promote', 'biodiversity', 'conservation', 'mitigate', 'urban', 'heat', 'island', 'improve', 'air', 'quality', 'contribute', 'healthy', 'sustainable', 'city'], ['integrate', 'renewable', 'energy', 'microgrid', 'blockchain', 'base', 'energy', 'trading', 'platform', 'enable', 'peer', 'peer', 'energy', 'transaction', 'grid', 'stability', 'incentivize', 'renewable', 'energy', 'adoption', 'foster', 'energy', 'democracy', 'decentralization'], ['advancement', 'hydrogen', 'fuel', 'cell', 'technology', 'hold', 'promise', 'zero', 'emission', 'transportation', 'decentralize', 'energy', 'production', 'offer', 'clean', 'versatile', 'energy', 'solution', 'various', 'application', 'include', 'vehicle', 'building', 'portable', 'device'], ['adoption', 'energy', 'efficient', 'building', 'design', 'passive', 'cooling', 'strategy', 'natural', 'ventilation', 'shading', 'reduce', 'energy', 'consumption', 'enhance', 'thermal', 'comfort', 'minimizes', 'environmental', 'impact', 'hot', 'humid', 'climate']]\n"
          ]
        }
      ],
      "source": [
        "import re\n",
        "import spacy\n",
        "import nltk\n",
        "from nltk.tokenize import RegexpTokenizer\n",
        "from nltk.corpus import stopwords\n",
        "\n",
        "\n",
        "nltk.download('stopwords')\n",
        "\n",
        "nlp = spacy.load('en_core_web_sm')\n",
        "\n",
        "\n",
        "stop_words = set(stopwords.words('english'))\n",
        "\n",
        "\n",
        "def remove_stopwords(text):\n",
        "    doc = nlp(text)\n",
        "    return ' '.join(token.text for token in doc if token.text.lower() not in stop_words)\n",
        "\n",
        "def filter_text(text):\n",
        "    text = re.sub(r'[^\\x00-\\x7F]+', '', text)\n",
        "    text = re.sub(r'http\\S+', '', text)\n",
        "    text = re.sub(r'#\\S+', '', text)\n",
        "    text = re.sub(r'@\\S+', '', text)\n",
        "    return text\n",
        "\n",
        "def apply_lemmatization(text):\n",
        "    doc = nlp(text)\n",
        "    lemmatized = [token.lemma_ for token in doc]\n",
        "    return ' '.join(lemmatized)\n",
        "\n",
        "processed_texts = []\n",
        "for text, lang in text_language_pairs:\n",
        "    if lang == 'English':\n",
        "        processed_text = filter_text(text)\n",
        "        processed_text = remove_stopwords(processed_text)\n",
        "        processed_text = apply_lemmatization(processed_text)\n",
        "\n",
        "        tokenizer = RegexpTokenizer(r'\\w+')\n",
        "        tokens = tokenizer.tokenize(processed_text)\n",
        "        tokens = [token.lower() for token in tokens if token != 'br']\n",
        "        processed_texts.append(tokens)\n",
        "\n",
        "print(processed_texts)\n"
      ]
    },
    {
      "cell_type": "code",
      "execution_count": null,
      "metadata": {
        "colab": {
          "base_uri": "https://localhost:8080/",
          "height": 366
        },
        "id": "GniUS65o4jrM",
        "outputId": "f3c7dd67-24f5-4809-a578-941f07771f3a"
      },
      "outputs": [
        {
          "ename": "OSError",
          "evalue": "[E050] Can't find model 'id_core_news_sm'. It doesn't seem to be a Python package or a valid path to a data directory.",
          "output_type": "error",
          "traceback": [
            "\u001b[0;31m---------------------------------------------------------------------------\u001b[0m",
            "\u001b[0;31mOSError\u001b[0m                                   Traceback (most recent call last)",
            "\u001b[0;32m<ipython-input-26-fd161fc59329>\u001b[0m in \u001b[0;36m<cell line: 7>\u001b[0;34m()\u001b[0m\n\u001b[1;32m      5\u001b[0m \u001b[0;34m\u001b[0m\u001b[0m\n\u001b[1;32m      6\u001b[0m \u001b[0;31m# Load Indonesian language model\u001b[0m\u001b[0;34m\u001b[0m\u001b[0;34m\u001b[0m\u001b[0m\n\u001b[0;32m----> 7\u001b[0;31m \u001b[0mnlp_id\u001b[0m \u001b[0;34m=\u001b[0m \u001b[0mspacy\u001b[0m\u001b[0;34m.\u001b[0m\u001b[0mload\u001b[0m\u001b[0;34m(\u001b[0m\u001b[0;34m'id_core_news_sm'\u001b[0m\u001b[0;34m)\u001b[0m\u001b[0;34m\u001b[0m\u001b[0;34m\u001b[0m\u001b[0m\n\u001b[0m\u001b[1;32m      8\u001b[0m \u001b[0;34m\u001b[0m\u001b[0m\n\u001b[1;32m      9\u001b[0m \u001b[0;31m# Define function to tokenize text\u001b[0m\u001b[0;34m\u001b[0m\u001b[0;34m\u001b[0m\u001b[0m\n",
            "\u001b[0;32m/usr/local/lib/python3.10/dist-packages/spacy/__init__.py\u001b[0m in \u001b[0;36mload\u001b[0;34m(name, vocab, disable, enable, exclude, config)\u001b[0m\n\u001b[1;32m     49\u001b[0m     \u001b[0mRETURNS\u001b[0m \u001b[0;34m(\u001b[0m\u001b[0mLanguage\u001b[0m\u001b[0;34m)\u001b[0m\u001b[0;34m:\u001b[0m \u001b[0mThe\u001b[0m \u001b[0mloaded\u001b[0m \u001b[0mnlp\u001b[0m \u001b[0mobject\u001b[0m\u001b[0;34m.\u001b[0m\u001b[0;34m\u001b[0m\u001b[0;34m\u001b[0m\u001b[0m\n\u001b[1;32m     50\u001b[0m     \"\"\"\n\u001b[0;32m---> 51\u001b[0;31m     return util.load_model(\n\u001b[0m\u001b[1;32m     52\u001b[0m         \u001b[0mname\u001b[0m\u001b[0;34m,\u001b[0m\u001b[0;34m\u001b[0m\u001b[0;34m\u001b[0m\u001b[0m\n\u001b[1;32m     53\u001b[0m         \u001b[0mvocab\u001b[0m\u001b[0;34m=\u001b[0m\u001b[0mvocab\u001b[0m\u001b[0;34m,\u001b[0m\u001b[0;34m\u001b[0m\u001b[0;34m\u001b[0m\u001b[0m\n",
            "\u001b[0;32m/usr/local/lib/python3.10/dist-packages/spacy/util.py\u001b[0m in \u001b[0;36mload_model\u001b[0;34m(name, vocab, disable, enable, exclude, config)\u001b[0m\n\u001b[1;32m    470\u001b[0m     \u001b[0;32mif\u001b[0m \u001b[0mname\u001b[0m \u001b[0;32min\u001b[0m \u001b[0mOLD_MODEL_SHORTCUTS\u001b[0m\u001b[0;34m:\u001b[0m\u001b[0;34m\u001b[0m\u001b[0;34m\u001b[0m\u001b[0m\n\u001b[1;32m    471\u001b[0m         \u001b[0;32mraise\u001b[0m \u001b[0mIOError\u001b[0m\u001b[0;34m(\u001b[0m\u001b[0mErrors\u001b[0m\u001b[0;34m.\u001b[0m\u001b[0mE941\u001b[0m\u001b[0;34m.\u001b[0m\u001b[0mformat\u001b[0m\u001b[0;34m(\u001b[0m\u001b[0mname\u001b[0m\u001b[0;34m=\u001b[0m\u001b[0mname\u001b[0m\u001b[0;34m,\u001b[0m \u001b[0mfull\u001b[0m\u001b[0;34m=\u001b[0m\u001b[0mOLD_MODEL_SHORTCUTS\u001b[0m\u001b[0;34m[\u001b[0m\u001b[0mname\u001b[0m\u001b[0;34m]\u001b[0m\u001b[0;34m)\u001b[0m\u001b[0;34m)\u001b[0m  \u001b[0;31m# type: ignore[index]\u001b[0m\u001b[0;34m\u001b[0m\u001b[0;34m\u001b[0m\u001b[0m\n\u001b[0;32m--> 472\u001b[0;31m     \u001b[0;32mraise\u001b[0m \u001b[0mIOError\u001b[0m\u001b[0;34m(\u001b[0m\u001b[0mErrors\u001b[0m\u001b[0;34m.\u001b[0m\u001b[0mE050\u001b[0m\u001b[0;34m.\u001b[0m\u001b[0mformat\u001b[0m\u001b[0;34m(\u001b[0m\u001b[0mname\u001b[0m\u001b[0;34m=\u001b[0m\u001b[0mname\u001b[0m\u001b[0;34m)\u001b[0m\u001b[0;34m)\u001b[0m\u001b[0;34m\u001b[0m\u001b[0;34m\u001b[0m\u001b[0m\n\u001b[0m\u001b[1;32m    473\u001b[0m \u001b[0;34m\u001b[0m\u001b[0m\n\u001b[1;32m    474\u001b[0m \u001b[0;34m\u001b[0m\u001b[0m\n",
            "\u001b[0;31mOSError\u001b[0m: [E050] Can't find model 'id_core_news_sm'. It doesn't seem to be a Python package or a valid path to a data directory."
          ]
        }
      ],
      "source": [
        "from sklearn.feature_extraction.text import TfidfVectorizer\n",
        "\n",
        "vectorizer = TfidfVectorizer(sublinear_tf=True)\n",
        "\n",
        "X = vectorizer.fit_transform(preprocessed_corpus)"
      ]
    }
  ],
  "metadata": {
    "colab": {
      "provenance": []
    },
    "kernelspec": {
      "display_name": "Python 3",
      "name": "python3"
    },
    "language_info": {
      "codemirror_mode": {
        "name": "ipython",
        "version": 3
      },
      "file_extension": ".py",
      "mimetype": "text/x-python",
      "name": "python",
      "nbconvert_exporter": "python",
      "pygments_lexer": "ipython3",
      "version": "3.11.4"
    }
  },
  "nbformat": 4,
  "nbformat_minor": 0
}
