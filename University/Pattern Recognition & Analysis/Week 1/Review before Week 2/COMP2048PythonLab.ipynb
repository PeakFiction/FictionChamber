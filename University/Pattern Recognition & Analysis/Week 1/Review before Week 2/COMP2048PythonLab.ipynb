{
 "cells": [
  {
   "cell_type": "markdown",
   "id": "20018ed0",
   "metadata": {},
   "source": [
    "1. Write a program that computes the Fibonacci sequence up to a number N and prints it to \n",
    "standard output. The Fibonacci sequence is defined as a recurrence relation that is a sum of \n",
    "the two previous Fibonacci numbers:"
   ]
  },
  {
   "cell_type": "code",
   "execution_count": 2,
   "id": "680156ce",
   "metadata": {},
   "outputs": [
    {
     "name": "stdout",
     "output_type": "stream",
     "text": [
      "[0, 1, 1, 2, 3, 5, 8]\n"
     ]
    }
   ],
   "source": [
    "nInput = int(input())\n",
    "\n",
    "\n",
    "def FibonacciUpToN(n):\n",
    "    firstNumber = 0\n",
    "    secondNumber = 1\n",
    "    resultList = [0, 1, ]\n",
    "    \n",
    "    while secondNumber <= n:\n",
    "        nextNumber = firstNumber + secondNumber\n",
    "        if nextNumber <= n:\n",
    "            resultList.append(nextNumber)\n",
    "        firstNumber = secondNumber\n",
    "        secondNumber = nextNumber\n",
    "    \n",
    "    return resultList\n",
    "\n",
    "print(FibonacciUpToN(nInput))"
   ]
  },
  {
   "cell_type": "markdown",
   "id": "94991e82",
   "metadata": {},
   "source": [
    "2. Compute the factorial function up to any given number N"
   ]
  },
  {
   "cell_type": "code",
   "execution_count": 4,
   "id": "151ece23",
   "metadata": {},
   "outputs": [
    {
     "name": "stdout",
     "output_type": "stream",
     "text": [
      "[1, 1, 2, 6, 24, 120, 720, 5040, 40320, 362880, 3628800, 39916800]\n"
     ]
    }
   ],
   "source": [
    "nInput = int(input())\n",
    "\n",
    "def FactorialUpToN(n):\n",
    "    i = 0\n",
    "    factorial = 1\n",
    "    resultList = []\n",
    "    \n",
    "    while factorial <= n:\n",
    "        resultList.append(factorial)\n",
    "        i += 1\n",
    "        factorial = factorial * i\n",
    "        \n",
    "    return resultList\n",
    "\n",
    "print(FactorialUpToN(nInput))"
   ]
  },
  {
   "cell_type": "markdown",
   "id": "56f4dd4f",
   "metadata": {},
   "source": [
    "3. Code up examples of above that use recursion (see appendix) if you haven’t already done so. "
   ]
  },
  {
   "cell_type": "code",
   "execution_count": 1,
   "id": "a99dc8c9",
   "metadata": {},
   "outputs": [
    {
     "name": "stdout",
     "output_type": "stream",
     "text": [
      "Fibonacci Recursion: [0, 1, 1, 2, 3, 5, 8])\n"
     ]
    }
   ],
   "source": [
    "#Fibonacci Recursion\n",
    "\n",
    "def FibonacciUpToRecursion(n, resultList, firstNumber, secondNumber):\n",
    "    if secondNumber > n:\n",
    "        return resultList\n",
    "    resultList.append(secondNumber)\n",
    "    \n",
    "    return FibonacciUpToRecursion(n, resultList, secondNumber, secondNumber + firstNumber)\n",
    "\n",
    "firstNumber = 0\n",
    "secondNumber = 1\n",
    "resultList = [0,]\n",
    "nInput = int(input(\"Input Number (Fibonacci): \"))\n",
    "\n",
    "print(f\"Fibonacci Recursion: {FibonacciUpToRecursion(nInput, resultList, firstNumber, secondNumber)})\")\n"
   ]
  },
  {
   "cell_type": "code",
   "execution_count": 1,
   "id": "165d6db0",
   "metadata": {},
   "outputs": [
    {
     "name": "stdout",
     "output_type": "stream",
     "text": [
      "Factorial Recursion: [1, 1, 2, 6]\n"
     ]
    }
   ],
   "source": [
    "#Factorial Recursion\n",
    "\n",
    "def FactorialUpToNRecursion(n, i, factorial, resultList):\n",
    "    if factorial > n:\n",
    "        return resultList\n",
    "    else:\n",
    "        resultList.append(factorial)\n",
    "        i += 1\n",
    "        return FactorialUpToNRecursion(n, i, factorial*i, resultList)\n",
    "\n",
    "i = 0\n",
    "factorial = 1\n",
    "resultList1 = []\n",
    "nInput2 = int(input(\"Input Number (Factorial): \"))\n",
    "\n",
    "print(f\"Factorial Recursion: {FactorialUpToNRecursion(nInput2, i, factorial, resultList1)}\")"
   ]
  },
  {
   "cell_type": "markdown",
   "id": "e44c5a1d",
   "metadata": {},
   "source": [
    "4. Create a program that encrypts and decrypts a message (for simplicity, a single integer) \n",
    "using RSA encryption."
   ]
  },
  {
   "cell_type": "code",
   "execution_count": 3,
   "id": "92b38e9d",
   "metadata": {},
   "outputs": [
    {
     "name": "stdout",
     "output_type": "stream",
     "text": [
      "\n",
      "Encrypted Result: 125\n",
      "\n",
      "Decrypted Message: 5\n"
     ]
    }
   ],
   "source": [
    "#RSA Encryption\n",
    "\n",
    "# How to Use This RSA Program Correctly\n",
    "# Pick Two Prime Numbers Bigger Than Your Message\n",
    "# Example: 17 and 23\n",
    "# Don’t use 1, 4, or any number that’s not prime.\n",
    "\n",
    "# Enter a Message Smaller Than Prime1 × Prime2\n",
    "# If you pick 17 and 23, that means your message must be less than 391.\n",
    "\n",
    "# Use These Sample Keys if You Don’t Know What to Do\n",
    "\n",
    "# Public Key: 3\n",
    "\n",
    "# Private Key: 235\n",
    "# (These only work with primes 17 and 23.)\n",
    "\n",
    "# Do Not Make Up Random Keys\n",
    "# The keys only work if they’re paired correctly. Random numbers will break it.\n",
    "\n",
    "def encryptRSA(message, publicKey, prime1, prime2):\n",
    "    return (message**publicKey) % (prime1 * prime2)\n",
    "\n",
    "def decryptRSA(encryptedMessage, privateKey, prime1, prime2):\n",
    "    return (encryptedMessage**privateKey) % (prime1*prime2)\n",
    "\n",
    "def startProgram():\n",
    "    originalMessage = int(input(\"Input the original Integer: \"))\n",
    "    publicKey = int(input(\"Input Public Key: \"))\n",
    "    privateKey = int(input(\"Input Private Key: \"))\n",
    "    prime1 = int(input(\"Enter 1st Prime Number: \"))\n",
    "    prime2 = int(input(\"Enter 2nd Prime Number: \"))\n",
    "    print()\n",
    "    encryptedMessage = encryptRSA(originalMessage, publicKey, prime1, prime2)\n",
    "    print(f\"Encrypted Result: {encryptedMessage}\")\n",
    "    print()\n",
    "    \n",
    "    decryptedMessage = decryptRSA(encryptedMessage, privateKey, prime1, prime2)\n",
    "    \n",
    "    print(f\"Decrypted Message: {decryptedMessage}\")\n",
    "\n",
    "startProgram()\n"
   ]
  }
 ],
 "metadata": {
  "kernelspec": {
   "display_name": "myvenv",
   "language": "python",
   "name": "myvenv"
  },
  "language_info": {
   "codemirror_mode": {
    "name": "ipython",
    "version": 3
   },
   "file_extension": ".py",
   "mimetype": "text/x-python",
   "name": "python",
   "nbconvert_exporter": "python",
   "pygments_lexer": "ipython3",
   "version": "3.13.5"
  }
 },
 "nbformat": 4,
 "nbformat_minor": 5
}
