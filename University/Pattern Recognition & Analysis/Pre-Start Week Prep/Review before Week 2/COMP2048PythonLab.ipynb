{
 "cells": [
  {
   "cell_type": "markdown",
   "id": "20018ed0",
   "metadata": {},
   "source": [
    "1. Write a program that computes the Fibonacci sequence up to a number N and prints it to \n",
    "standard output. The Fibonacci sequence is defined as a recurrence relation that is a sum of \n",
    "the two previous Fibonacci numbers:"
   ]
  },
  {
   "cell_type": "code",
   "execution_count": 3,
   "id": "680156ce",
   "metadata": {},
   "outputs": [
    {
     "name": "stdout",
     "output_type": "stream",
     "text": [
      "[0, 1, 1, 2, 3, 5, 8]\n"
     ]
    }
   ],
   "source": [
    "nInput = input()\n",
    "nInputInteger = int(nInput)\n",
    "\n",
    "def Fibonacci(n):\n",
    "    firstNumber = 0\n",
    "    secondNumber = 1\n",
    "    resultList = [0, 1, ]\n",
    "    \n",
    "    for i in range(2, n+1):\n",
    "        nextNumber = firstNumber + secondNumber\n",
    "        resultList.append(nextNumber)\n",
    "        firstNumber = secondNumber\n",
    "        secondNumber = nextNumber\n",
    "    \n",
    "    return resultList\n",
    "\n",
    "print(Fibonacci(nInputInteger))"
   ]
  }
 ],
 "metadata": {
  "kernelspec": {
   "display_name": ".venv",
   "language": "python",
   "name": "python3"
  },
  "language_info": {
   "codemirror_mode": {
    "name": "ipython",
    "version": 3
   },
   "file_extension": ".py",
   "mimetype": "text/x-python",
   "name": "python",
   "nbconvert_exporter": "python",
   "pygments_lexer": "ipython3",
   "version": "3.12.6"
  }
 },
 "nbformat": 4,
 "nbformat_minor": 5
}
