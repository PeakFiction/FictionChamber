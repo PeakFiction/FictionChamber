{
 "cells": [
  {
   "cell_type": "markdown",
   "id": "20018ed0",
   "metadata": {},
   "source": [
    "1. Write a program that computes the Fibonacci sequence up to a number N and prints it to \n",
    "standard output. The Fibonacci sequence is defined as a recurrence relation that is a sum of \n",
    "the two previous Fibonacci numbers:"
   ]
  },
  {
   "cell_type": "code",
   "execution_count": 2,
   "id": "680156ce",
   "metadata": {},
   "outputs": [
    {
     "name": "stdout",
     "output_type": "stream",
     "text": [
      "[0, 1, 1, 2, 3, 5, 8]\n"
     ]
    }
   ],
   "source": [
    "nInput = int(input())\n",
    "\n",
    "\n",
    "def FibonacciUpToN(n):\n",
    "    firstNumber = 0\n",
    "    secondNumber = 1\n",
    "    resultList = [0, 1, ]\n",
    "    \n",
    "    while secondNumber <= n:\n",
    "        nextNumber = firstNumber + secondNumber\n",
    "        if nextNumber <= n:\n",
    "            resultList.append(nextNumber)\n",
    "        firstNumber = secondNumber\n",
    "        secondNumber = nextNumber\n",
    "    \n",
    "    return resultList\n",
    "\n",
    "print(FibonacciUpToN(nInput))"
   ]
  },
  {
   "cell_type": "markdown",
   "id": "94991e82",
   "metadata": {},
   "source": [
    "2. Compute the factorial function up to any given number N"
   ]
  },
  {
   "cell_type": "code",
   "execution_count": null,
   "id": "151ece23",
   "metadata": {},
   "outputs": [],
   "source": [
    "nInput = int(input())\n",
    "\n",
    "def FactorialUpToN(n):\n",
    "    i = 0\n",
    "    factorial = 1\n",
    "    resultList = []\n",
    "    \n",
    "    while factorial <= n:\n",
    "        resultList.append(factorial)\n",
    "        i += 1\n",
    "        factorial = factorial * i\n",
    "        \n",
    "    return resultList\n",
    "\n",
    "print(FactorialUpToN(10))"
   ]
  }
 ],
 "metadata": {
  "kernelspec": {
   "display_name": "myvenv",
   "language": "python",
   "name": "myvenv"
  },
  "language_info": {
   "codemirror_mode": {
    "name": "ipython",
    "version": 3
   },
   "file_extension": ".py",
   "mimetype": "text/x-python",
   "name": "python",
   "nbconvert_exporter": "python",
   "pygments_lexer": "ipython3",
   "version": "3.13.5"
  }
 },
 "nbformat": 4,
 "nbformat_minor": 5
}
