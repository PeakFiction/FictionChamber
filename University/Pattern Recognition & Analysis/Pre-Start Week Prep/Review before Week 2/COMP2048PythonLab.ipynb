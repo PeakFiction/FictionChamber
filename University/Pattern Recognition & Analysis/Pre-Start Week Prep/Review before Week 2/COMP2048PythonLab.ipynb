{
 "cells": [
  {
   "cell_type": "markdown",
   "id": "20018ed0",
   "metadata": {},
   "source": [
    "1. Write a program that computes the Fibonacci sequence up to a number N and prints it to \n",
    "standard output. The Fibonacci sequence is defined as a recurrence relation that is a sum of \n",
    "the two previous Fibonacci numbers:"
   ]
  },
  {
   "cell_type": "code",
   "execution_count": 2,
   "id": "680156ce",
   "metadata": {},
   "outputs": [
    {
     "name": "stdout",
     "output_type": "stream",
     "text": [
      "[0, 1, 1, 2, 3, 5, 8]\n"
     ]
    }
   ],
   "source": [
    "nInput = int(input())\n",
    "\n",
    "\n",
    "def FibonacciUpToN(n):\n",
    "    firstNumber = 0\n",
    "    secondNumber = 1\n",
    "    resultList = [0, 1, ]\n",
    "    \n",
    "    while secondNumber <= n:\n",
    "        nextNumber = firstNumber + secondNumber\n",
    "        if nextNumber <= n:\n",
    "            resultList.append(nextNumber)\n",
    "        firstNumber = secondNumber\n",
    "        secondNumber = nextNumber\n",
    "    \n",
    "    return resultList\n",
    "\n",
    "print(FibonacciUpToN(nInput))"
   ]
  },
  {
   "cell_type": "markdown",
   "id": "94991e82",
   "metadata": {},
   "source": [
    "2. Compute the factorial function up to any given number N"
   ]
  },
  {
   "cell_type": "code",
   "execution_count": 4,
   "id": "151ece23",
   "metadata": {},
   "outputs": [
    {
     "name": "stdout",
     "output_type": "stream",
     "text": [
      "[1, 1, 2, 6, 24, 120, 720, 5040, 40320, 362880, 3628800, 39916800]\n"
     ]
    }
   ],
   "source": [
    "nInput = int(input())\n",
    "\n",
    "def FactorialUpToN(n):\n",
    "    i = 0\n",
    "    factorial = 1\n",
    "    resultList = []\n",
    "    \n",
    "    while factorial <= n:\n",
    "        resultList.append(factorial)\n",
    "        i += 1\n",
    "        factorial = factorial * i\n",
    "        \n",
    "    return resultList\n",
    "\n",
    "print(FactorialUpToN(nInput))"
   ]
  },
  {
   "cell_type": "markdown",
   "id": "56f4dd4f",
   "metadata": {},
   "source": [
    "3. Code up examples of above that use recursion (see appendix) if you haven’t already done so. "
   ]
  },
  {
   "cell_type": "code",
   "execution_count": 1,
   "id": "926465ed",
   "metadata": {},
   "outputs": [
    {
     "name": "stdout",
     "output_type": "stream",
     "text": [
      "Fibonacci Recursion: [0, 1, 1, 2, 3, 5, 8])\n"
     ]
    }
   ],
   "source": [
    "def FibonacciUpToRecursion(n, resultList, firstNumber, secondNumber):\n",
    "    if secondNumber > n:\n",
    "        return resultList\n",
    "    resultList.append(secondNumber)\n",
    "    \n",
    "    return FibonacciUpToRecursion(n, resultList, secondNumber, secondNumber + firstNumber)\n",
    "\n",
    "firstNumber = 0\n",
    "secondNumber = 1\n",
    "resultList = [0,]\n",
    "nInput = int(input(\"Input Number (Fibonacci): \"))\n",
    "\n",
    "print(f\"Fibonacci Recursion: {FibonacciUpToRecursion(nInput, resultList, firstNumber, secondNumber)})\")"
   ]
  },
  {
   "cell_type": "code",
   "execution_count": 2,
   "id": "93362985",
   "metadata": {},
   "outputs": [
    {
     "name": "stdout",
     "output_type": "stream",
     "text": [
      "Factorial Recursion: [1, 1, 2, 6]\n"
     ]
    }
   ],
   "source": [
    "i = 0\n",
    "factorial = 1\n",
    "resultList1 = []\n",
    "nInput2 = int(input(\"Input Number (Factorial): \"))\n",
    "\n",
    "def FactorialUpToNRecursion(n, i, factorial, resultList):\n",
    "    if factorial > n:\n",
    "        return resultList\n",
    "    else:\n",
    "        resultList.append(factorial)\n",
    "        i += 1\n",
    "        return FactorialUpToNRecursion(n, i, factorial*i, resultList)\n",
    "\n",
    "print(f\"Factorial Recursion: {FactorialUpToNRecursion(nInput2, i, factorial, resultList1)}\")"
   ]
  }
 ],
 "metadata": {
  "kernelspec": {
   "display_name": "Python (myvenv)",
   "language": "python",
   "name": "myvenv"
  },
  "language_info": {
   "codemirror_mode": {
    "name": "ipython",
    "version": 3
   },
   "file_extension": ".py",
   "mimetype": "text/x-python",
   "name": "python",
   "nbconvert_exporter": "python",
   "pygments_lexer": "ipython3",
   "version": "3.13.5"
  }
 },
 "nbformat": 4,
 "nbformat_minor": 5
}
